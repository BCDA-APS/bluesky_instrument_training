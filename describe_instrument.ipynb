{
 "cells": [
  {
   "cell_type": "markdown",
   "id": "invalid-ready",
   "metadata": {},
   "source": [
    "# The `instrument` package for Bluesky Data Acquisition\n",
    "\n",
    "From *2021-03 APS Python Training for Bluesky Data Acquisition*.\n",
    "\n",
    "This simulated instrument is provided using [docker](https://www.docker.com/) images\n",
    "for [EPICS base](https://www.aps.anl.gov/epics), the [synApps](https://www.aps.anl.gov/BCDA/synApps) [xxx](https://github.com/epics-modules/xxx) module, and [EPICS area detector](https://areadetector.github.io/master/index.html) [ADSimDetector](https://areadetector.github.io/master/ADSimDetector/simDetector.html?highlight=adsimdetector).  The images are based on these software versions:\n",
    "\n",
    "* Ubuntu 20.04\n",
    "* EPICS base 7.0.3\n",
    "* synApps 6.1\n",
    "* area detector 3.7\n",
    "\n",
    "Two EPICS IOCs are provided:\n",
    "\n",
    "prefix | description | docker image | documentation\n",
    ":--- | :--- | :--- | :---\n",
    "`ad:` | area detector IOC | [`prjemian/synapps-6.1-ad-3.7`](https://hub.docker.com/r/prjemian/synapps-6.1-ad-3.7) | https://github.com/prjemian/epics-docker/tree/main/n4_areaDetector\n",
    "`gp:` | general purpose IOC | [`prjemian/synApps-6.1`](https://hub.docker.com/r/prjemian/synapps-6.1) | https://github.com/prjemian/epics-docker/tree/main/n3_synApps\n",
    "\n",
    "## Start the `instrument` package"
   ]
  },
  {
   "source": [
    "# TODO: databroker catalog"
   ],
   "cell_type": "markdown",
   "metadata": {}
  },
  {
   "cell_type": "code",
   "execution_count": 8,
   "id": "level-geometry",
   "metadata": {},
   "outputs": [
    {
     "output_type": "stream",
     "name": "stderr",
     "text": [
      "I Wed-00:24:43 - ############################################################ startup\n",
      "I Wed-00:24:43 - logging started\n",
      "I Wed-00:24:43 - logging level = 10\n",
      "I Wed-00:24:43 - /home/mintadmin/Documents/projects/BCDA-APS/bluesky_instrument_training/instrument/collection.py\n",
      "I Wed-00:24:43 - /home/mintadmin/Documents/projects/BCDA-APS/bluesky_instrument_training/instrument/mpl/notebook.py\n",
      "Activating auto-logging. Current session state plus future input saved.\n",
      "Filename       : /home/mintadmin/Documents/projects/BCDA-APS/bluesky_instrument_training/.logs/ipython_console.log\n",
      "Mode           : rotate\n",
      "Output logging : True\n",
      "Raw input log  : False\n",
      "Timestamping   : True\n",
      "State          : active\n",
      "I Wed-00:24:44 - bluesky framework\n",
      "I Wed-00:24:44 - /home/mintadmin/Documents/projects/BCDA-APS/bluesky_instrument_training/instrument/framework/check_python.py\n",
      "I Wed-00:24:44 - /home/mintadmin/Documents/projects/BCDA-APS/bluesky_instrument_training/instrument/framework/check_bluesky.py\n",
      "I Wed-00:24:44 - /home/mintadmin/Documents/projects/BCDA-APS/bluesky_instrument_training/instrument/framework/initialize.py\n",
      "I Wed-00:24:46 - /home/mintadmin/Documents/projects/BCDA-APS/bluesky_instrument_training/instrument/framework/metadata.py\n",
      "I Wed-00:24:46 - /home/mintadmin/Documents/projects/BCDA-APS/bluesky_instrument_training/instrument/framework/callbacks.py\n",
      "I Wed-00:24:46 - writing to SPEC file: /home/mintadmin/Documents/projects/BCDA-APS/bluesky_instrument_training/20210224-002446.dat\n",
      "I Wed-00:24:46 -    >>>>   Using default SPEC file name   <<<<\n",
      "I Wed-00:24:46 -    file will be created when bluesky ends its next scan\n",
      "I Wed-00:24:46 -    to change SPEC file, use command:   newSpecFile('title')\n",
      "I Wed-00:24:46 - /home/mintadmin/Documents/projects/BCDA-APS/bluesky_instrument_training/instrument/devices/area_detector.py\n",
      "I Wed-00:24:46 - /home/mintadmin/Documents/projects/BCDA-APS/bluesky_instrument_training/instrument/devices/calculation_records.py\n",
      "I Wed-00:24:50 - /home/mintadmin/Documents/projects/BCDA-APS/bluesky_instrument_training/instrument/devices/ioc_stats.py\n",
      "I Wed-00:24:50 - /home/mintadmin/Documents/projects/BCDA-APS/bluesky_instrument_training/instrument/devices/motors.py\n",
      "I Wed-00:24:50 - /home/mintadmin/Documents/projects/BCDA-APS/bluesky_instrument_training/instrument/devices/noisy.py\n",
      "I Wed-00:24:50 - /home/mintadmin/Documents/projects/BCDA-APS/bluesky_instrument_training/instrument/devices/scaler.py\n",
      "I Wed-00:24:52 - /home/mintadmin/Documents/projects/BCDA-APS/bluesky_instrument_training/instrument/devices/shutter.py\n",
      "I Wed-00:24:52 - /home/mintadmin/Documents/projects/BCDA-APS/bluesky_instrument_training/instrument/devices/temperature_signal.py\n",
      "I Wed-00:24:52 - /home/mintadmin/Documents/projects/BCDA-APS/bluesky_instrument_training/instrument/plans/peak_finder_example.py\n",
      "I Wed-00:24:52 - Startup is complete.\n"
     ]
    }
   ],
   "source": [
    "from instrument.collection import *"
   ]
  },
  {
   "source": [
    "## Description\n",
    "\n",
    "Might be a good idea to know now what this instrument package provides.  \n",
    "\n",
    "Notably, the table includes:\n",
    "\n",
    "ophyd name(s) | Description | label(s)\n",
    ":--- | :---| :---\n",
    "`adsimdet` | simulated EPICS area detector | `area_detector`\n",
    "`calcs` & `calcouts` | calculation support |\n",
    "`gp_stats` | details about the general purpose IOC |\n",
    "`I0`, `diode`, ... | named scaler channels | `counter`\n",
    "`m1` .. `m16` | 16 simulated EPICS motors | `motor`\n",
    "`noisy` | simulated diffraction peak |\n",
    "`scaler1` | simulated 16-channel EPICS scaler | `scalers`\n",
    "`shutter` | simulated shutter | \n",
    "`temperature` | simulated temperature controller |"
   ],
   "cell_type": "markdown",
   "metadata": {}
  },
  {
   "source": [
    "### `adsimdet`"
   ],
   "cell_type": "markdown",
   "metadata": {}
  },
  {
   "cell_type": "code",
   "execution_count": 9,
   "metadata": {},
   "outputs": [],
   "source": [
    "# TODO:"
   ]
  },
  {
   "source": [
    "### `scaler1`"
   ],
   "cell_type": "markdown",
   "metadata": {}
  },
  {
   "cell_type": "code",
   "execution_count": 10,
   "metadata": {},
   "outputs": [],
   "source": [
    "# TODO:"
   ]
  },
  {
   "source": [
    "### `temperature`"
   ],
   "cell_type": "markdown",
   "metadata": {}
  },
  {
   "cell_type": "code",
   "execution_count": 11,
   "metadata": {},
   "outputs": [],
   "source": [
    "# TODO:"
   ]
  },
  {
   "source": [
    "### motors"
   ],
   "cell_type": "markdown",
   "metadata": {}
  },
  {
   "cell_type": "code",
   "execution_count": 12,
   "metadata": {},
   "outputs": [],
   "source": [
    "# TODO:"
   ]
  },
  {
   "source": [
    "### `noisy`"
   ],
   "cell_type": "markdown",
   "metadata": {}
  },
  {
   "cell_type": "code",
   "execution_count": 13,
   "metadata": {},
   "outputs": [],
   "source": [
    "# TODO:"
   ]
  },
  {
   "source": [
    "### plans"
   ],
   "cell_type": "markdown",
   "metadata": {}
  },
  {
   "cell_type": "code",
   "execution_count": 14,
   "metadata": {},
   "outputs": [],
   "source": [
    "# TODO:"
   ]
  },
  {
   "source": [
    "## Log files\n",
    "\n",
    "For diagnostic and general support, log files are created to record activity.  In the working directory, the log files are written to a `./.logs` subdirectory.\n",
    "\n",
    "There are two kinds of file, one that records user commands and the python\n",
    "result, the other records items sent to the\n",
    "[customized](https://github.com/prjemian/stdlogpj#example-directing-logs-to-a-specific-directory)\n",
    "Python [logging](https://docs.python.org/3/library/logging.html) package.\n",
    "\n",
    "In the IPython session, use the `!` to run a linux command:"
   ],
   "cell_type": "markdown",
   "metadata": {}
  },
  {
   "cell_type": "code",
   "execution_count": 15,
   "metadata": {},
   "outputs": [
    {
     "output_type": "stream",
     "name": "stdout",
     "text": [
      "total 364K\n-rw-rw-r-- 1 mintadmin  488 Feb 24 00:24 ipython_console.log\n-rw-rw-r-- 1 mintadmin  225 Feb 23 23:56 ipython_console.log.001~\n-rw-rw-r-- 1 mintadmin   20 Feb 23 23:02 ipython_console.log.002~\n-rw-rw-r-- 1 mintadmin 3.7K Feb 23 22:53 ipython_console.log.003~\n-rw-rw-r-- 1 mintadmin 1.3K Feb 23 22:34 ipython_console.log.004~\n-rw-rw-r-- 1 mintadmin 3.1K Feb 23 22:27 ipython_console.log.005~\n-rw-rw-r-- 1 mintadmin 3.8K Feb 23 22:18 ipython_console.log.006~\n-rw-rw-r-- 1 mintadmin  12K Feb 23 22:02 ipython_console.log.007~\n-rw-rw-r-- 1 mintadmin  12K Feb 23 18:32 ipython_console.log.008~\n-rw-rw-r-- 1 mintadmin 7.1K Feb 23 18:28 ipython_console.log.009~\n-rw-rw-r-- 1 mintadmin  44K Feb 23 18:26 ipython_console.log.010~\n-rw-rw-r-- 1 mintadmin 6.4K Feb 23 17:59 ipython_console.log.011~\n-rw-rw-r-- 1 mintadmin 6.0K Feb 23 17:55 ipython_console.log.012~\n-rw-rw-r-- 1 mintadmin   20 Feb 23 17:46 ipython_console.log.013~\n-rw-rw-r-- 1 mintadmin  118 Feb 23 17:46 ipython_console.log.014~\n-rw-rw-r-- 1 mintadmin   20 Feb 23 16:51 ipython_console.log.015~\n-rw-rw-r-- 1 mintadmin   20 Feb 23 16:50 ipython_console.log.016~\n-rw-rw-r-- 1 mintadmin   20 Feb 23 16:50 ipython_console.log.017~\n-rw-rw-r-- 1 mintadmin   20 Feb 23 16:49 ipython_console.log.018~\n-rw-rw-r-- 1 mintadmin   20 Feb 23 16:48 ipython_console.log.019~\n-rw-rw-r-- 1 mintadmin 6.0K Feb 23 16:39 ipython_console.log.020~\n-rw-rw-r-- 1 mintadmin   20 Feb 23 16:34 ipython_console.log.021~\n-rw-rw-r-- 1 mintadmin   20 Feb 23 16:34 ipython_console.log.022~\n-rw-rw-r-- 1 mintadmin   20 Feb 23 16:33 ipython_console.log.023~\n-rw-rw-r-- 1 mintadmin   20 Feb 23 16:30 ipython_console.log.024~\n-rw-rw-r-- 1 mintadmin   20 Feb 23 16:28 ipython_console.log.025~\n-rw-rw-r-- 1 mintadmin   20 Feb 23 16:28 ipython_console.log.026~\n-rw-rw-r-- 1 mintadmin  21K Feb 23 16:26 ipython_console.log.027~\n-rw-rw-r-- 1 mintadmin  541 Feb 23 12:40 ipython_console.log.028~\n-rw-rw-r-- 1 mintadmin   20 Feb 23 12:38 ipython_console.log.029~\n-rw-rw-r-- 1 mintadmin  221 Feb 23 12:32 ipython_console.log.030~\n-rw-rw-r-- 1 mintadmin   55 Feb 23 12:30 ipython_console.log.031~\n-rw-rw-r-- 1 mintadmin 3.5K Feb 23 12:19 ipython_console.log.032~\n-rw-rw-r-- 1 mintadmin  161 Feb 23 11:39 ipython_console.log.033~\n-rw-rw-r-- 1 mintadmin 122K Feb 24 00:24 ipython_logger.log\n"
     ]
    }
   ],
   "source": [
    "!ls -lAFgh .logs"
   ]
  },
  {
   "source": [
    "aLet's take a look at a few lines of each type of file, to get a feel for the information logged.\n",
    "\n",
    "The `ipython_console.log` file is created for every session (every time IPython is started or every time the Jupyter kernel is started).  It records the commands that were entered and the output, if any, from each command.  It does not record anything that was sent to the console by `print()` statements.  The older log files are numbered, higher number is older (each new session shifts these numbers by 1)."
   ],
   "cell_type": "markdown",
   "metadata": {}
  },
  {
   "cell_type": "code",
   "execution_count": 16,
   "metadata": {},
   "outputs": [
    {
     "output_type": "stream",
     "name": "stdout",
     "text": [
      "# IPython log file\n\nget_ipython().system('ls -lAFgh .logs')\nget_ipython().system('head .logs/ipython_console.log')\nget_ipython().system('tail .logs/ipython_logger.log')\n### motors\n# TODO:\n# TODO:\n# TODO:\n# Wed, 24 Feb 2021 00:24:52\n"
     ]
    }
   ],
   "source": [
    "!head .logs/ipython_console.log"
   ]
  },
  {
   "source": [
    "The `ipython_logger.log` file(s) contain the output from calls to the `logger`.  The files are appended with new logger reports until the file reaches ca. 1 MB.  (Larger files are slow to append.)  Then the file is given a number and a new logger file is created.  Higher numbers are older.  At most, 9 numbered files are retained (to avoid filling disk storage with unnecessary diagnostics).\n",
    "\n",
    "A single *logger* file may contain reports from several sessions.  The third piece of information is the `pid` (process identifier) of the session.  The PID is assigned by the operating system when the session is started.\n",
    "\n",
    "The logger file contains a full report while the report's representation is more terse.  (Users do not always want the full details.  Just remember they are available in the logger file.)  Here's the last few logger lines as shown on the console:\n",
    "\n",
    "    I Wed-00:24:52 - /home/mintadmin/Documents/projects/BCDA-APS/bluesky_instrument_training/instrument/devices/temperature_signal.py\n",
    "    I Wed-00:24:52 - /home/mintadmin/Documents/projects/BCDA-APS/bluesky_instrument_training/instrument/plans/peak_finder_example.py\n",
    "    I Wed-00:24:52 - Startup is complete.\n",
    "\n",
    "Those same lines appear in the logger file as:\n",
    "\n",
    "    |2021-02-24 00:24:52.091|INFO|25986|bluesky-session|temperature_signal|11|MainThread| - /home/mintadmin/Documents/projects/BCDA-APS/bluesky_instrument_training/instrument/devices/temperature_signal.py\n",
    "    |2021-02-24 00:24:52.165|INFO|25986|bluesky-session|peak_finder_example|15|MainThread| - /home/mintadmin/Documents/projects/BCDA-APS/bluesky_instrument_training/instrument/plans/peak_finder_example.py\n",
    "    |2021-02-24 00:24:52.179|INFO|25986|bluesky-session|collection|23|MainThread| - Startup is complete.\n"
   ],
   "cell_type": "markdown",
   "metadata": {}
  },
  {
   "cell_type": "code",
   "execution_count": 17,
   "metadata": {},
   "outputs": [
    {
     "output_type": "stream",
     "name": "stdout",
     "text": [
      "|2021-02-24 00:24:46.273|INFO|25986|bluesky-session|area_detector|15|MainThread| - /home/mintadmin/Documents/projects/BCDA-APS/bluesky_instrument_training/instrument/devices/area_detector.py\n|2021-02-24 00:24:46.278|INFO|25986|bluesky-session|calculation_records|9|MainThread| - /home/mintadmin/Documents/projects/BCDA-APS/bluesky_instrument_training/instrument/devices/calculation_records.py\n|2021-02-24 00:24:50.264|INFO|25986|bluesky-session|ioc_stats|14|MainThread| - /home/mintadmin/Documents/projects/BCDA-APS/bluesky_instrument_training/instrument/devices/ioc_stats.py\n|2021-02-24 00:24:50.289|INFO|25986|bluesky-session|motors|14|MainThread| - /home/mintadmin/Documents/projects/BCDA-APS/bluesky_instrument_training/instrument/devices/motors.py\n|2021-02-24 00:24:50.756|INFO|25986|bluesky-session|noisy|12|MainThread| - /home/mintadmin/Documents/projects/BCDA-APS/bluesky_instrument_training/instrument/devices/noisy.py\n|2021-02-24 00:24:50.959|INFO|25986|bluesky-session|scaler|12|MainThread| - /home/mintadmin/Documents/projects/BCDA-APS/bluesky_instrument_training/instrument/devices/scaler.py\n|2021-02-24 00:24:52.084|INFO|25986|bluesky-session|shutter|11|MainThread| - /home/mintadmin/Documents/projects/BCDA-APS/bluesky_instrument_training/instrument/devices/shutter.py\n|2021-02-24 00:24:52.091|INFO|25986|bluesky-session|temperature_signal|11|MainThread| - /home/mintadmin/Documents/projects/BCDA-APS/bluesky_instrument_training/instrument/devices/temperature_signal.py\n|2021-02-24 00:24:52.165|INFO|25986|bluesky-session|peak_finder_example|15|MainThread| - /home/mintadmin/Documents/projects/BCDA-APS/bluesky_instrument_training/instrument/plans/peak_finder_example.py\n|2021-02-24 00:24:52.179|INFO|25986|bluesky-session|collection|23|MainThread| - Startup is complete.\n"
     ]
    }
   ],
   "source": [
    "!tail .logs/ipython_logger.log"
   ]
  },
  {
   "source": [
    "## SPEC data files\n",
    "\n",
    "A [SPEC](https://certif.com) data file records a copy of the scan data (area detector images are not stored in SPEC files).  By default, the file is created in the present working directory using a name constructed from the date and time with a `.dat` file extension.  Unlike SPEC, new data is written *at the end of a scan*.  It is also possible to use the [`SpecWriterCallback`](https://apstools.readthedocs.io/en/latest/source/_filewriters.html#apstools.filewriters.SpecWriterCallback) to write data extracted from the database after the experiment is done.\n",
    "\n",
    "The 2021-03 training does not cover the use of these files.  You are free to examine them yourselves.\n",
    "\n",
    "<summary>Example SPEC data file from a bluesky session:</summary>\n",
    "\n",
    "<details>\n",
    "\n",
    "\n",
    "    #F /home/mintadmin/Documents/projects/BCDA-APS/bluesky_instrument_training/20210223-222553.dat\n",
    "    #E 1614140753\n",
    "    #D Tue Feb 23 22:25:53 2021\n",
    "    #C Bluesky  user = mintadmin  host = mint-vm\n",
    "    #O0 \n",
    "    #o0 \n",
    "\n",
    "    #S 216  count(detectors=['scaler1', 'noisy', 'temperature'], num=1)\n",
    "    #D Tue Feb 23 22:25:59 2021\n",
    "    #C Tue Feb 23 22:25:59 2021.  plan_type = generator\n",
    "    #C Tue Feb 23 22:25:59 2021.  uid = 8c4f4b62-81ec-4fe3-bfa2-18178d37876b\n",
    "    #MD uid = 8c4f4b62-81ec-4fe3-bfa2-18178d37876b\n",
    "    #MD beamline_id = APS_Python_training_2021\n",
    "    #MD detectors = ['scaler1', 'noisy', 'temperature']\n",
    "    #MD instrument_name = class_2021_03\n",
    "    #MD login_id = mintadmin@mint-vm\n",
    "    #MD num_intervals = 0\n",
    "    #MD num_points = 1\n",
    "    #MD pid = 20559\n",
    "    #MD proposal_id = training\n",
    "    #MD versions = {'apstools': '1.4.0+1.g50c6f9d', 'bluesky': '1.6.7', 'databroker': '1.1.0', 'epics': '3.4.3', 'h5py': '2.10.0', 'intake': '0.6.0', 'matplotlib': '3.3.3', 'numpy': '1.18.5', 'ophyd': '1.6.0', 'pyRestTable': '2020.0.3', 'spec2nexus': '2021.1.8'}\n",
    "    #P0 \n",
    "    #N 20\n",
    "    #L Epoch_float  Epoch  temperature_setpoint  temperature_readback  temperature_done  temperature_calculation  temperature_description  temperature_max_change  temperature_noise  temperature_previous_value_pv  temperature_scanning_rate  temperature_tolerance  timebase  I0  scint  diode  scaler1_time  scaler1  noisy  temperature\n",
    "    2.859903573989868 3 25.0 25.35954070344091 True 0 0 2.0 1.0 0 5 1.0 21000000.0 10.0 9.0 9.0 2.1 0 29.61249046818531 0\n",
    "    #U 0 temperature_calculation A+max(-D,min(D,(B-A)))+C*(RNDM-0.5)\n",
    "    #U 0 temperature_description temperature\n",
    "    #U 0 temperature_previous_value_pv gp:userCalc8.VAL\n",
    "    #C Tue Feb 23 22:26:02 2021.  num_events_baseline = 2\n",
    "    #C Tue Feb 23 22:26:02 2021.  num_events_primary = 1\n",
    "    #C Tue Feb 23 22:26:02 2021.  exit_status = success\n",
    "\n",
    "    #S 217  count(detectors=['scaler1', 'noisy', 'temperature'], num=5)\n",
    "    #D Tue Feb 23 22:26:02 2021\n",
    "    #C Tue Feb 23 22:26:02 2021.  plan_type = generator\n",
    "    #C Tue Feb 23 22:26:02 2021.  uid = 1e857ae9-b5bf-4965-a709-b290fb04d30f\n",
    "    #MD uid = 1e857ae9-b5bf-4965-a709-b290fb04d30f\n",
    "    #MD beamline_id = APS_Python_training_2021\n",
    "    #MD detectors = ['scaler1', 'noisy', 'temperature']\n",
    "    #MD instrument_name = class_2021_03\n",
    "    #MD login_id = mintadmin@mint-vm\n",
    "    #MD num_intervals = 4\n",
    "    #MD num_points = 5\n",
    "    #MD pid = 20559\n",
    "    #MD proposal_id = training\n",
    "    #MD versions = {'apstools': '1.4.0+1.g50c6f9d', 'bluesky': '1.6.7', 'databroker': '1.1.0', 'epics': '3.4.3', 'h5py': '2.10.0', 'intake': '0.6.0', 'matplotlib': '3.3.3', 'numpy': '1.18.5', 'ophyd': '1.6.0', 'pyRestTable': '2020.0.3', 'spec2nexus': '2021.1.8'}\n",
    "    #P0 \n",
    "    #N 20\n",
    "    #L Epoch_float  Epoch  temperature_setpoint  temperature_readback  temperature_done  temperature_calculation  temperature_description  temperature_max_change  temperature_noise  temperature_previous_value_pv  temperature_scanning_rate  temperature_tolerance  timebase  I0  scint  diode  scaler1_time  scaler1  noisy  temperature\n",
    "    3.391828775405884 3 25.0 25.304470893415733 True 0 0 2.0 1.0 0 5 1.0 21000000.0 10.0 11.0 13.0 2.1 0 29.61249046818531 0\n",
    "    #U 0 temperature_calculation A+max(-D,min(D,(B-A)))+C*(RNDM-0.5)\n",
    "    #U 0 temperature_description temperature\n",
    "    #U 0 temperature_previous_value_pv gp:userCalc8.VAL\n",
    "    6.6996848583221436 7 25.0 24.56161593041886 True 1 1 2.0 1.0 1 5 1.0 21000000.0 11.0 10.0 11.0 2.1 0 29.61249046818531 0\n",
    "    #U 1 temperature_calculation A+max(-D,min(D,(B-A)))+C*(RNDM-0.5)\n",
    "    #U 1 temperature_description temperature\n",
    "    #U 1 temperature_previous_value_pv gp:userCalc8.VAL\n",
    "    9.815467119216919 10 25.0 24.70134279392691 True 2 2 2.0 1.0 2 5 1.0 21000000.0 10.0 11.0 8.0 2.1 0 29.61249046818531 0\n",
    "    #U 2 temperature_calculation A+max(-D,min(D,(B-A)))+C*(RNDM-0.5)\n",
    "    #U 2 temperature_description temperature\n",
    "    #U 2 temperature_previous_value_pv gp:userCalc8.VAL\n",
    "    12.774443626403809 13 25.0 25.29922178988327 True 3 3 2.0 1.0 3 5 1.0 21000000.0 11.0 11.0 11.0 2.1 0 29.61249046818531 0\n",
    "    #U 3 temperature_calculation A+max(-D,min(D,(B-A)))+C*(RNDM-0.5)\n",
    "    #U 3 temperature_description temperature\n",
    "    #U 3 temperature_previous_value_pv gp:userCalc8.VAL\n",
    "    16.023823261260986 16 25.0 25.317425803006028 True 4 4 2.0 1.0 4 5 1.0 21000000.0 9.0 9.0 10.0 2.1 0 29.61249046818531 0\n",
    "    #U 4 temperature_calculation A+max(-D,min(D,(B-A)))+C*(RNDM-0.5)\n",
    "    #U 4 temperature_description temperature\n",
    "    #U 4 temperature_previous_value_pv gp:userCalc8.VAL\n",
    "    #C Tue Feb 23 22:26:19 2021.  num_events_baseline = 2\n",
    "    #C Tue Feb 23 22:26:19 2021.  num_events_primary = 5\n",
    "    #C Tue Feb 23 22:26:19 2021.  exit_status = success\n",
    "\n",
    "    #S 218  count(detectors=['temperature'], num=5)\n",
    "    #D Tue Feb 23 22:26:21 2021\n",
    "    #C Tue Feb 23 22:26:21 2021.  plan_type = generator\n",
    "    #C Tue Feb 23 22:26:21 2021.  uid = b364f246-f058-43e3-b6b6-ff08003f1b63\n",
    "    #MD uid = b364f246-f058-43e3-b6b6-ff08003f1b63\n",
    "    #MD beamline_id = APS_Python_training_2021\n",
    "    #MD detectors = ['temperature']\n",
    "    #MD instrument_name = class_2021_03\n",
    "    #MD login_id = mintadmin@mint-vm\n",
    "    #MD num_intervals = 4\n",
    "    #MD num_points = 5\n",
    "    #MD pid = 20559\n",
    "    #MD proposal_id = training\n",
    "    #MD versions = {'apstools': '1.4.0+1.g50c6f9d', 'bluesky': '1.6.7', 'databroker': '1.1.0', 'epics': '3.4.3', 'h5py': '2.10.0', 'intake': '0.6.0', 'matplotlib': '3.3.3', 'numpy': '1.18.5', 'ophyd': '1.6.0', 'pyRestTable': '2020.0.3', 'spec2nexus': '2021.1.8'}\n",
    "    #P0 \n",
    "    #N 13\n",
    "    #L Epoch_float  Epoch  temperature_setpoint  temperature_readback  temperature_done  temperature_calculation  temperature_description  temperature_max_change  temperature_noise  temperature_previous_value_pv  temperature_scanning_rate  temperature_tolerance  temperature\n",
    "    0.7077298164367676 1 25.0 25.43418783855955 True 0 0 2.0 1.0 0 5 1.0 0\n",
    "    #U 0 temperature_calculation A+max(-D,min(D,(B-A)))+C*(RNDM-0.5)\n",
    "    #U 0 temperature_description temperature\n",
    "    #U 0 temperature_previous_value_pv gp:userCalc8.VAL\n",
    "    0.8045623302459717 1 25.0 25.43418783855955 True 1 1 2.0 1.0 1 5 1.0 0\n",
    "    #U 1 temperature_calculation A+max(-D,min(D,(B-A)))+C*(RNDM-0.5)\n",
    "    #U 1 temperature_description temperature\n",
    "    #U 1 temperature_previous_value_pv gp:userCalc8.VAL\n",
    "    0.8914773464202881 1 25.0 25.43418783855955 True 2 2 2.0 1.0 2 5 1.0 0\n",
    "    #U 2 temperature_calculation A+max(-D,min(D,(B-A)))+C*(RNDM-0.5)\n",
    "    #U 2 temperature_description temperature\n",
    "    #U 2 temperature_previous_value_pv gp:userCalc8.VAL\n",
    "    0.9808797836303711 1 25.0 25.43418783855955 True 3 3 2.0 1.0 3 5 1.0 0\n",
    "    #U 3 temperature_calculation A+max(-D,min(D,(B-A)))+C*(RNDM-0.5)\n",
    "    #U 3 temperature_description temperature\n",
    "    #U 3 temperature_previous_value_pv gp:userCalc8.VAL\n",
    "    1.0428459644317627 1 25.0 25.43418783855955 True 4 4 2.0 1.0 4 5 1.0 0\n",
    "    #U 4 temperature_calculation A+max(-D,min(D,(B-A)))+C*(RNDM-0.5)\n",
    "    #U 4 temperature_description temperature\n",
    "    #U 4 temperature_previous_value_pv gp:userCalc8.VAL\n",
    "    #C Tue Feb 23 22:26:22 2021.  num_events_baseline = 2\n",
    "    #C Tue Feb 23 22:26:22 2021.  num_events_primary = 5\n",
    "    #C Tue Feb 23 22:26:22 2021.  exit_status = success\n",
    "\n",
    "</details>"
   ],
   "cell_type": "markdown",
   "metadata": {}
  }
 ],
 "metadata": {
  "kernelspec": {
   "display_name": "bluesky_2021_1",
   "language": "python",
   "name": "bluesky_2021_1"
  },
  "language_info": {
   "codemirror_mode": {
    "name": "ipython",
    "version": 3
   },
   "file_extension": ".py",
   "mimetype": "text/x-python",
   "name": "python",
   "nbconvert_exporter": "python",
   "pygments_lexer": "ipython3",
   "version": "3.8.2-final"
  }
 },
 "nbformat": 4,
 "nbformat_minor": 5
}