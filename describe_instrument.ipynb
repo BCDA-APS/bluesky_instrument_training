{
 "cells": [
  {
   "cell_type": "markdown",
   "id": "committed-customer",
   "metadata": {},
   "source": [
    "# The `instrument` package for Bluesky Data Acquisition\n",
    "\n",
    "From *2021-03 APS Python Training for Bluesky Data Acquisition*.\n",
    "\n",
    "**Objective**\n",
    "\n",
    "In this notebook, we describe the `instrument` package for a simulated X-ray instrument at a user facility such as the Advanced Photon Source.  The goal is to use EPICS as much as possible to provide the control system features and to use Bluesky (providing the data acquisition framework) as a thin layer on top of EPICS.\n",
    "\n",
    "**Contents**\n",
    "\n",
    "* [Start the `instrument` package](#start-the-instrument-package)\n",
    "* [Description](#Description)\n",
    "  * [`adsimdet`](#adsimdet)\n",
    "  * [`scaler1`](#scaler1)\n",
    "  * [`temperature`](#temperature)\n",
    "  * [motors](#motors)\n",
    "  * [`noisy`](#noisy)\n",
    "  * [plans](#plans)\n",
    "* [Log files](#log-files)\n",
    "* [SPEC data files](#spec-data-files)\n",
    "* [User code file](#user-code-file)\n",
    "* [`databroker`](#databroker)\n",
    "\n",
    "**Overview**\n",
    "\n",
    "This simulated instrument is provided using [docker](https://www.docker.com/) images\n",
    "for [EPICS base](https://www.aps.anl.gov/epics), the [synApps](https://www.aps.anl.gov/BCDA/synApps) [xxx](https://github.com/epics-modules/xxx) module, and [EPICS area detector](https://areadetector.github.io/master/index.html) [ADSimDetector](https://areadetector.github.io/master/ADSimDetector/simDetector.html?highlight=adsimdetector).  The images are based on these software versions:\n",
    "\n",
    "* Ubuntu 20.04\n",
    "* EPICS base 7.0.3\n",
    "* synApps 6.1\n",
    "* area detector 3.7\n",
    "\n",
    "Two EPICS IOCs are provided:\n",
    "\n",
    "prefix | description | docker image | documentation\n",
    ":--- | :--- | :--- | :---\n",
    "`ad:` | area detector IOC | [`prjemian/synapps-6.1-ad-3.7`](https://hub.docker.com/r/prjemian/synapps-6.1-ad-3.7) | https://github.com/prjemian/epics-docker/tree/main/n4_areaDetector\n",
    "`gp:` | general purpose IOC | [`prjemian/synApps-6.1`](https://hub.docker.com/r/prjemian/synapps-6.1) | https://github.com/prjemian/epics-docker/tree/main/n3_synApps\n",
    "\n",
    "## Start the `instrument` package\n",
    "\n",
    "Our instrument package is in the `bluesky` subdirectory here so we add that to the search path before importing it."
   ]
  },
  {
   "cell_type": "code",
   "execution_count": 1,
   "id": "collectible-pride",
   "metadata": {},
   "outputs": [
    {
     "name": "stderr",
     "output_type": "stream",
     "text": [
      "I Wed-00:28:24 - ############################################################ startup\n",
      "I Wed-00:28:24 - logging started\n",
      "I Wed-00:28:24 - logging level = 10\n",
      "I Wed-00:28:24 - /home/prjemian/Documents/projects/BCDA-APS/bluesky_instrument_training/bluesky/instrument/collection.py\n",
      "I Wed-00:28:24 - /home/prjemian/Documents/projects/BCDA-APS/bluesky_instrument_training/bluesky/instrument/mpl/notebook.py\n",
      "I Wed-00:28:24 - #### Bluesky Framework ####\n",
      "I Wed-00:28:24 - /home/prjemian/Documents/projects/BCDA-APS/bluesky_instrument_training/bluesky/instrument/framework/check_python.py\n",
      "I Wed-00:28:24 - /home/prjemian/Documents/projects/BCDA-APS/bluesky_instrument_training/bluesky/instrument/framework/check_bluesky.py\n"
     ]
    },
    {
     "name": "stdout",
     "output_type": "stream",
     "text": [
      "Activating auto-logging. Current session state plus future input saved.\n",
      "Filename       : /home/prjemian/Documents/projects/BCDA-APS/bluesky_instrument_training/.logs/ipython_console.log\n",
      "Mode           : rotate\n",
      "Output logging : True\n",
      "Raw input log  : False\n",
      "Timestamping   : True\n",
      "State          : active\n"
     ]
    },
    {
     "name": "stderr",
     "output_type": "stream",
     "text": [
      "I Wed-00:28:25 - /home/prjemian/Documents/projects/BCDA-APS/bluesky_instrument_training/bluesky/instrument/framework/initialize.py\n",
      "I Wed-00:28:25 - using databroker catalog 'class_2021_03'\n",
      "I Wed-00:28:25 - /home/prjemian/Documents/projects/BCDA-APS/bluesky_instrument_training/bluesky/instrument/framework/metadata.py\n",
      "I Wed-00:28:25 - #### Devices ####\n",
      "I Wed-00:28:25 - /home/prjemian/Documents/projects/BCDA-APS/bluesky_instrument_training/bluesky/instrument/devices/area_detector.py\n",
      "I Wed-00:28:25 - /home/prjemian/Documents/projects/BCDA-APS/bluesky_instrument_training/bluesky/instrument/devices/calculation_records.py\n",
      "I Wed-00:28:27 - /home/prjemian/Documents/projects/BCDA-APS/bluesky_instrument_training/bluesky/instrument/devices/ioc_stats.py\n",
      "I Wed-00:28:27 - /home/prjemian/Documents/projects/BCDA-APS/bluesky_instrument_training/bluesky/instrument/devices/motors.py\n",
      "I Wed-00:28:28 - /home/prjemian/Documents/projects/BCDA-APS/bluesky_instrument_training/bluesky/instrument/devices/noisy_detector.py\n",
      "I Wed-00:28:28 - /home/prjemian/Documents/projects/BCDA-APS/bluesky_instrument_training/bluesky/instrument/devices/scaler.py\n",
      "I Wed-00:28:29 - /home/prjemian/Documents/projects/BCDA-APS/bluesky_instrument_training/bluesky/instrument/devices/shutter_simulator.py\n",
      "I Wed-00:28:29 - /home/prjemian/Documents/projects/BCDA-APS/bluesky_instrument_training/bluesky/instrument/devices/temperature_signal.py\n",
      "I Wed-00:28:29 - #### Callbacks ####\n",
      "I Wed-00:28:29 - /home/prjemian/Documents/projects/BCDA-APS/bluesky_instrument_training/bluesky/instrument/callbacks/spec_data_file_writer.py\n",
      "I Wed-00:28:29 - writing to SPEC file: /home/prjemian/Documents/projects/BCDA-APS/bluesky_instrument_training/20210317-002829.dat\n",
      "I Wed-00:28:29 -    >>>>   Using default SPEC file name   <<<<\n",
      "I Wed-00:28:29 -    file will be created when bluesky ends its next scan\n",
      "I Wed-00:28:29 -    to change SPEC file, use command:   newSpecFile('title')\n",
      "I Wed-00:28:29 - #### Plans ####\n",
      "I Wed-00:28:29 - /home/prjemian/Documents/projects/BCDA-APS/bluesky_instrument_training/bluesky/instrument/plans/peak_finder_example.py\n",
      "I Wed-00:28:29 - #### Utilities ####\n",
      "I Wed-00:28:29 - /home/prjemian/Documents/projects/BCDA-APS/bluesky_instrument_training/bluesky/instrument/utils/image_analysis.py\n",
      "I Wed-00:28:29 - #### Startup is complete. ####\n"
     ]
    }
   ],
   "source": [
    "import os, sys\n",
    "sys.path.append(os.path.abspath(os.path.join(\".\", \"bluesky\")))\n",
    "from instrument.collection import *"
   ]
  },
  {
   "cell_type": "markdown",
   "id": "norwegian-complexity",
   "metadata": {},
   "source": [
    "## Description\n",
    "\n",
    "Might be a good idea to know now what this instrument package provides.  \n",
    "\n",
    "Notably, the table includes:\n",
    "\n",
    "ophyd name(s) | Description | label(s)\n",
    ":--- | :---| :---\n",
    "`adsimdet` | simulated EPICS area detector | `area_detector`\n",
    "`calcs` & `calcouts` | calculation support |\n",
    "`gp_stats` | details about the general purpose IOC |\n",
    "`I0`, `diode`, ... | named scaler channels | `counter`\n",
    "`m1` .. `m16` | 16 simulated EPICS motors | `motor`\n",
    "`noisy` | simulated diffraction peak |\n",
    "`scaler1` | simulated 16-channel EPICS scaler | `scalers`\n",
    "`shutter` | simulated shutter | \n",
    "`temperature` | simulated temperature controller |"
   ]
  },
  {
   "cell_type": "markdown",
   "id": "assigned-details",
   "metadata": {},
   "source": [
    "### `adsimdet`"
   ]
  },
  {
   "cell_type": "markdown",
   "id": "sophisticated-membership",
   "metadata": {},
   "source": [
    "The EPICS Area Detector ADSimDetector is included with this instrument as `adsimdet`.  The detector is a monochrome 1k x 1k frame.  The image is written to an HDF5 file and made available to the [`databroker`](#databroker) via a shared volume from the docker container.  `adsimdet` can be used as a detector.\n",
    "\n",
    "The image is a simulated diffraction spot with center randomly-chosen between 100..900 on both axes.  The width is also random as is the peak intensity and noise level.  Furthermore, to simulate realistic conditions, the center position of both axes is adjusted by a few pixels using a pair of *swait* records (`gp:userCalc9` & `gp:userCalc10`) updating from random numbers."
   ]
  },
  {
   "cell_type": "code",
   "execution_count": 2,
   "id": "checked-floor",
   "metadata": {},
   "outputs": [
    {
     "name": "stdout",
     "output_type": "stream",
     "text": [
      "data keys (* hints)\n",
      "-------------------\n",
      "\n",
      "read attrs\n",
      "----------\n",
      "hdf1                 MyHDF5Plugin        ('adsimdet_hdf1')\n",
      "\n",
      "config keys\n",
      "-----------\n",
      "adsimdet_cam_acquire_period\n",
      "adsimdet_cam_acquire_time\n",
      "adsimdet_cam_image_mode\n",
      "adsimdet_cam_manufacturer\n",
      "adsimdet_cam_model\n",
      "adsimdet_cam_num_exposures\n",
      "adsimdet_cam_num_images\n",
      "adsimdet_cam_trigger_mode\n",
      "\n",
      "configuration attrs\n",
      "-------------------\n",
      "cam                  MyFixedCam          ('adsimdet_cam')\n",
      "cam.acquire_period   EpicsSignalWithRBV  ('adsimdet_cam_acquire_period')\n",
      "cam.acquire_time     EpicsSignalWithRBV  ('adsimdet_cam_acquire_time')\n",
      "cam.image_mode       EpicsSignalWithRBV  ('adsimdet_cam_image_mode')\n",
      "cam.manufacturer     EpicsSignalRO       ('adsimdet_cam_manufacturer')\n",
      "cam.model            EpicsSignalRO       ('adsimdet_cam_model')\n",
      "cam.num_exposures    EpicsSignalWithRBV  ('adsimdet_cam_num_exposures')\n",
      "cam.num_images       EpicsSignalWithRBV  ('adsimdet_cam_num_images')\n",
      "cam.trigger_mode     EpicsSignalWithRBV  ('adsimdet_cam_trigger_mode')\n",
      "hdf1                 MyHDF5Plugin        ('adsimdet_hdf1')\n",
      "\n",
      "unused attrs\n",
      "------------\n",
      "configuration_names  ArrayAttributeSignal('adsimdet_configuration_names')\n",
      "image                MyFixedImagePlugin  ('adsimdet_image')\n",
      "\n"
     ]
    }
   ],
   "source": [
    "adsimdet.summary()"
   ]
  },
  {
   "cell_type": "markdown",
   "id": "olympic-variance",
   "metadata": {},
   "source": [
    "### `scaler1`"
   ]
  },
  {
   "cell_type": "markdown",
   "id": "overhead-river",
   "metadata": {},
   "source": [
    "A simulated 16-channel scaler is configured with several channels of pulse counters, typical of a synchrotron beam line.  `scaler1` can be used as a detector."
   ]
  },
  {
   "cell_type": "code",
   "execution_count": 3,
   "id": "according-buffer",
   "metadata": {},
   "outputs": [
    {
     "name": "stdout",
     "output_type": "stream",
     "text": [
      "data keys (* hints)\n",
      "-------------------\n",
      "*I0\n",
      "*diode\n",
      " scaler1_time\n",
      "*scint\n",
      "*timebase\n",
      "\n",
      "read attrs\n",
      "----------\n",
      "channels             Channels            ('scaler1_channels')\n",
      "channels.chan01      ScalerChannel       ('scaler1_channels_chan01')\n",
      "channels.chan01.s    EpicsSignalRO       ('timebase')\n",
      "channels.chan02      ScalerChannel       ('scaler1_channels_chan02')\n",
      "channels.chan02.s    EpicsSignalRO       ('I0')\n",
      "channels.chan03      ScalerChannel       ('scaler1_channels_chan03')\n",
      "channels.chan03.s    EpicsSignalRO       ('scint')\n",
      "channels.chan04      ScalerChannel       ('scaler1_channels_chan04')\n",
      "channels.chan04.s    EpicsSignalRO       ('diode')\n",
      "time                 EpicsSignal         ('scaler1_time')\n",
      "\n",
      "config keys\n",
      "-----------\n",
      "scaler1_auto_count_delay\n",
      "scaler1_auto_count_time\n",
      "scaler1_channels_chan01_chname\n",
      "scaler1_channels_chan01_gate\n",
      "scaler1_channels_chan01_preset\n",
      "scaler1_channels_chan02_chname\n",
      "scaler1_channels_chan02_gate\n",
      "scaler1_channels_chan02_preset\n",
      "scaler1_channels_chan03_chname\n",
      "scaler1_channels_chan03_gate\n",
      "scaler1_channels_chan03_preset\n",
      "scaler1_channels_chan04_chname\n",
      "scaler1_channels_chan04_gate\n",
      "scaler1_channels_chan04_preset\n",
      "scaler1_count_mode\n",
      "scaler1_delay\n",
      "scaler1_egu\n",
      "scaler1_freq\n",
      "scaler1_preset_time\n",
      "\n",
      "configuration attrs\n",
      "-------------------\n",
      "channels             Channels            ('scaler1_channels')\n",
      "channels.chan01      ScalerChannel       ('scaler1_channels_chan01')\n",
      "channels.chan01.chname EpicsSignal         ('scaler1_channels_chan01_chname')\n",
      "channels.chan01.preset EpicsSignal         ('scaler1_channels_chan01_preset')\n",
      "channels.chan01.gate EpicsSignal         ('scaler1_channels_chan01_gate')\n",
      "channels.chan02      ScalerChannel       ('scaler1_channels_chan02')\n",
      "channels.chan02.chname EpicsSignal         ('scaler1_channels_chan02_chname')\n",
      "channels.chan02.preset EpicsSignal         ('scaler1_channels_chan02_preset')\n",
      "channels.chan02.gate EpicsSignal         ('scaler1_channels_chan02_gate')\n",
      "channels.chan03      ScalerChannel       ('scaler1_channels_chan03')\n",
      "channels.chan03.chname EpicsSignal         ('scaler1_channels_chan03_chname')\n",
      "channels.chan03.preset EpicsSignal         ('scaler1_channels_chan03_preset')\n",
      "channels.chan03.gate EpicsSignal         ('scaler1_channels_chan03_gate')\n",
      "channels.chan04      ScalerChannel       ('scaler1_channels_chan04')\n",
      "channels.chan04.chname EpicsSignal         ('scaler1_channels_chan04_chname')\n",
      "channels.chan04.preset EpicsSignal         ('scaler1_channels_chan04_preset')\n",
      "channels.chan04.gate EpicsSignal         ('scaler1_channels_chan04_gate')\n",
      "count_mode           EpicsSignal         ('scaler1_count_mode')\n",
      "delay                EpicsSignal         ('scaler1_delay')\n",
      "auto_count_delay     EpicsSignal         ('scaler1_auto_count_delay')\n",
      "freq                 EpicsSignal         ('scaler1_freq')\n",
      "preset_time          EpicsSignal         ('scaler1_preset_time')\n",
      "auto_count_time      EpicsSignal         ('scaler1_auto_count_time')\n",
      "egu                  EpicsSignal         ('scaler1_egu')\n",
      "\n",
      "unused attrs\n",
      "------------\n",
      "count                EpicsSignal         ('scaler1_count')\n",
      "update_rate          EpicsSignal         ('scaler1_update_rate')\n",
      "auto_count_update_rate EpicsSignal         ('scaler1_auto_count_update_rate')\n",
      "\n"
     ]
    }
   ],
   "source": [
    "scaler1.summary()"
   ]
  },
  {
   "cell_type": "markdown",
   "id": "convenient-wesley",
   "metadata": {},
   "source": [
    "The timebase is always shown.  The additional channels (using names from the scaler GUI screen) are shown output of `listdevice(scaler1)` below.\n",
    "\n",
    "Note that in the instrument package, the channel names were assigned on startup.  An operating beam line would not do define the names here but instead, let the instrument team name these channels in the GUI screen at the time the cables from the pulse detectors are connected physically to the scaler.\n",
    "\n",
    "Count the scaler from the command line:"
   ]
  },
  {
   "cell_type": "code",
   "execution_count": 4,
   "id": "electronic-albuquerque",
   "metadata": {},
   "outputs": [
    {
     "name": "stdout",
     "output_type": "stream",
     "text": [
      "[This data will not be saved. Use the RunEngine to collect data.]\n",
      "timebase                       11000000.0\n",
      "I0                             7.0\n",
      "scint                          4.0\n",
      "diode                          4.0\n",
      "scaler1_time                   1.1\n"
     ]
    }
   ],
   "source": [
    "%ct scalers"
   ]
  },
  {
   "cell_type": "markdown",
   "id": "approved-football",
   "metadata": {},
   "source": [
    "NOTE: the actual counts are random numbers.  Also, the EPICS soft scaler seems to add 0.1s to the counting time.  Might be a bug with the EPICS scaler code."
   ]
  },
  {
   "cell_type": "code",
   "execution_count": 5,
   "id": "reported-banner",
   "metadata": {},
   "outputs": [
    {
     "name": "stdout",
     "output_type": "stream",
     "text": [
      "============ ========== ==========================\n",
      "name         value      timestamp                 \n",
      "============ ========== ==========================\n",
      "timebase     11000000.0 2021-03-17 00:28:30.850711\n",
      "I0           7.0        2021-03-17 00:28:30.850711\n",
      "scint        4.0        2021-03-17 00:28:30.850711\n",
      "diode        4.0        2021-03-17 00:28:30.850711\n",
      "scaler1_time 1.1        2021-03-17 00:27:58.239730\n",
      "============ ========== ==========================\n",
      "\n"
     ]
    },
    {
     "data": {
      "text/plain": [
       "<pyRestTable.rest_table.Table at 0x7fe3c12ee5b0>"
      ]
     },
     "execution_count": 5,
     "metadata": {},
     "output_type": "execute_result"
    }
   ],
   "source": [
    "listdevice(scaler1)"
   ]
  },
  {
   "cell_type": "markdown",
   "id": "sixth-netherlands",
   "metadata": {},
   "source": [
    "As an added convenience, shortcut names for these channels were also assigned to local Python symbols (since the object path to the channels is easy to forget) in `instrument/devices/scaler.py` with these lines:\n",
    "\n",
    "```python\n",
    "timebase = scaler1.channels.chan01.s\n",
    "I0 = scaler1.channels.chan02.s\n",
    "scint = scaler1.channels.chan03.s\n",
    "diode = scaler1.channels.chan04.s\n",
    "```"
   ]
  },
  {
   "cell_type": "markdown",
   "id": "killing-toddler",
   "metadata": {},
   "source": [
    "This command: `scaler1.select_channels()` configures `scaler` to use just the channels with non-empty names.  To limit data collection to a subset of these channels, name the channels in a list argument, such as: `scaler1.select_channels(['I0', 'diode'])`"
   ]
  },
  {
   "cell_type": "markdown",
   "id": "pointed-creature",
   "metadata": {},
   "source": [
    "### `temperature`"
   ]
  },
  {
   "cell_type": "markdown",
   "id": "scenic-clinton",
   "metadata": {},
   "source": [
    "The temperature simulator, implemented in `gp:userCalc8` works like a temperature controller, with setpoint and readback values.    `temperature` can be used as a detector **and** as a positioner (like a motor).\n",
    "\n",
    "Additional controls for noise, update interval, maximum change per update, in-position tolerance, and done are provided, either through EPICS or in Python.  Once a new setpoint is entered, the readback will progress towards it, limited by the max change and the update interval.  Once at the setpoint, noise continues to be added to the temperature to provide realism."
   ]
  },
  {
   "cell_type": "code",
   "execution_count": 6,
   "id": "conceptual-conspiracy",
   "metadata": {},
   "outputs": [
    {
     "name": "stdout",
     "output_type": "stream",
     "text": [
      "data keys (* hints)\n",
      "-------------------\n",
      " temperature_calculation\n",
      " temperature_description\n",
      " temperature_done\n",
      " temperature_max_change\n",
      " temperature_noise\n",
      " temperature_previous_value_pv\n",
      "*temperature_readback\n",
      " temperature_scanning_rate\n",
      " temperature_setpoint\n",
      " temperature_tolerance\n",
      "\n",
      "read attrs\n",
      "----------\n",
      "setpoint             EpicsSignal         ('temperature_setpoint')\n",
      "readback             EpicsSignal         ('temperature_readback')\n",
      "done                 Signal              ('temperature_done')\n",
      "calculation          EpicsSignal         ('temperature_calculation')\n",
      "description          EpicsSignal         ('temperature_description')\n",
      "max_change           EpicsSignal         ('temperature_max_change')\n",
      "noise                EpicsSignal         ('temperature_noise')\n",
      "previous_value_pv    EpicsSignal         ('temperature_previous_value_pv')\n",
      "scanning_rate        EpicsSignal         ('temperature_scanning_rate')\n",
      "tolerance            EpicsSignal         ('temperature_tolerance')\n",
      "\n",
      "config keys\n",
      "-----------\n",
      "\n",
      "configuration attrs\n",
      "-------------------\n",
      "\n",
      "unused attrs\n",
      "------------\n",
      "report_dmov_changes  Signal              ('temperature_report_dmov_changes')\n",
      "\n",
      "============================= =================================== ==========================\n",
      "name                          value                               timestamp                 \n",
      "============================= =================================== ==========================\n",
      "temperature_setpoint          25.0                                2021-03-17 00:28:29.279565\n",
      "temperature_readback          25.0                                2021-03-17 00:28:29.280628\n",
      "temperature_done              True                                2021-03-17 00:28:29.284171\n",
      "temperature_calculation       A+max(-D,min(D,(B-A)))+C*(RNDM-0.5) 2021-03-17 00:28:29.283372\n",
      "temperature_description       temperature                         2021-03-17 00:28:29.277588\n",
      "temperature_max_change        2.0                                 2021-03-17 00:28:29.281207\n",
      "temperature_noise             1.0                                 2021-03-17 00:28:29.280628\n",
      "temperature_previous_value_pv gp:userCalc8.VAL                    2021-03-17 00:28:29.279383\n",
      "temperature_scanning_rate     5                                   2021-03-17 00:28:29.283372\n",
      "temperature_tolerance         1.0                                 2021-03-17 00:28:29.283372\n",
      "============================= =================================== ==========================\n",
      "\n"
     ]
    },
    {
     "data": {
      "text/plain": [
       "<pyRestTable.rest_table.Table at 0x7fe3c12eeb80>"
      ]
     },
     "execution_count": 6,
     "metadata": {},
     "output_type": "execute_result"
    }
   ],
   "source": [
    "temperature.summary()\n",
    "listdevice(temperature)"
   ]
  },
  {
   "cell_type": "markdown",
   "id": "cordless-taste",
   "metadata": {},
   "source": [
    "### motors"
   ]
  },
  {
   "cell_type": "markdown",
   "id": "thousand-guarantee",
   "metadata": {},
   "source": [
    "There are 16 soft motor channels: `gp:m1` .. `gp:m16`.  Any motor can be used as a detector **and** as a positioner.\n",
    "\n",
    "The first motor, `gp:m1`, is used to compute a simulated 1-D diffraction peak ([`noisy`](#noisy)) using `gp:userCalc1`.\n",
    "\n",
    "To make it easier to change the motor step size, a custom `MyEpicsMotor` class was made, subclassing from `ophyd.EpicsMotor` and adding a component to access the motor's `.SREV` (steps/revolution) field.  The default motor step size is 0.01 (with SREV=200).  For only `m1`, the step size has been changed to 0.001 by setting SREV=2000.\n",
    "\n",
    "NOTE: Changing SREV (in this simulator* seems to affect the soft motor's simulated hardware limit.  Be careful if you adjust SREV to higher numbers (smaller step sizes) that the expected range of motion remains sufficient for your measurements.  Again, another thing to change in the EPICS support."
   ]
  },
  {
   "cell_type": "code",
   "execution_count": 7,
   "id": "proved-optimization",
   "metadata": {},
   "outputs": [
    {
     "name": "stdout",
     "output_type": "stream",
     "text": [
      "data keys (* hints)\n",
      "-------------------\n",
      "*m1\n",
      " m1_user_setpoint\n",
      "\n",
      "read attrs\n",
      "----------\n",
      "user_readback        EpicsSignalRO       ('m1')\n",
      "user_setpoint        EpicsSignal         ('m1_user_setpoint')\n",
      "\n",
      "config keys\n",
      "-----------\n",
      "m1_acceleration\n",
      "m1_motor_egu\n",
      "m1_user_offset\n",
      "m1_user_offset_dir\n",
      "m1_velocity\n",
      "\n",
      "configuration attrs\n",
      "-------------------\n",
      "user_offset          EpicsSignal         ('m1_user_offset')\n",
      "user_offset_dir      EpicsSignal         ('m1_user_offset_dir')\n",
      "velocity             EpicsSignal         ('m1_velocity')\n",
      "acceleration         EpicsSignal         ('m1_acceleration')\n",
      "motor_egu            EpicsSignal         ('m1_motor_egu')\n",
      "\n",
      "unused attrs\n",
      "------------\n",
      "offset_freeze_switch EpicsSignal         ('m1_offset_freeze_switch')\n",
      "set_use_switch       EpicsSignal         ('m1_set_use_switch')\n",
      "motor_is_moving      EpicsSignalRO       ('m1_motor_is_moving')\n",
      "motor_done_move      EpicsSignalRO       ('m1_motor_done_move')\n",
      "high_limit_switch    EpicsSignalRO       ('m1_high_limit_switch')\n",
      "low_limit_switch     EpicsSignalRO       ('m1_low_limit_switch')\n",
      "high_limit_travel    EpicsSignal         ('m1_high_limit_travel')\n",
      "low_limit_travel     EpicsSignal         ('m1_low_limit_travel')\n",
      "direction_of_travel  EpicsSignal         ('m1_direction_of_travel')\n",
      "motor_stop           EpicsSignal         ('m1_motor_stop')\n",
      "home_forward         EpicsSignal         ('m1_home_forward')\n",
      "home_reverse         EpicsSignal         ('m1_home_reverse')\n",
      "steps_per_revolution EpicsSignal         ('m1_steps_per_revolution')\n",
      "\n",
      "================ ===== ==========================\n",
      "name             value timestamp                 \n",
      "================ ===== ==========================\n",
      "m1               1.0   2021-03-17 00:27:47.808360\n",
      "m1_user_setpoint 1.0   2021-03-17 00:27:47.808360\n",
      "================ ===== ==========================\n",
      "\n"
     ]
    },
    {
     "data": {
      "text/plain": [
       "<pyRestTable.rest_table.Table at 0x7fe337282d90>"
      ]
     },
     "execution_count": 7,
     "metadata": {},
     "output_type": "execute_result"
    }
   ],
   "source": [
    "m1.summary()\n",
    "listdevice(m1)"
   ]
  },
  {
   "cell_type": "markdown",
   "id": "annoying-angel",
   "metadata": {},
   "source": [
    "### `noisy`"
   ]
  },
  {
   "cell_type": "markdown",
   "id": "automatic-connectivity",
   "metadata": {},
   "source": [
    "A simulated diffraction peak is computed in 1-D using a Lorentzian function in EPICS PV `gp:userCalc1`.  The simulation uses the position of motor `gp:m1` and random choices for center, width, noise, and peak intensity (scale factor).  `noisy` can be used as a detector.\n",
    "\n",
    "NOTE: `noisy` is an `ophyd.EpicsSignal` (variant), thus it lacks the `.summary()` method that `ophyd.Device` objects have."
   ]
  },
  {
   "cell_type": "code",
   "execution_count": 8,
   "id": "democratic-rainbow",
   "metadata": {},
   "outputs": [
    {
     "name": "stdout",
     "output_type": "stream",
     "text": [
      "===== ================== ==========================\n",
      "name  value              timestamp                 \n",
      "===== ================== ==========================\n",
      "noisy 1466.1507760194024 2021-03-17 00:28:28.259968\n",
      "===== ================== ==========================\n",
      "\n"
     ]
    },
    {
     "data": {
      "text/plain": [
       "<pyRestTable.rest_table.Table at 0x7fe337282880>"
      ]
     },
     "execution_count": 8,
     "metadata": {},
     "output_type": "execute_result"
    }
   ],
   "source": [
    "listdevice(noisy)"
   ]
  },
  {
   "cell_type": "markdown",
   "id": "exposed-webcam",
   "metadata": {},
   "source": [
    "### plans\n",
    "\n",
    "Several examples of user plan are provided in file `instrument/plans/peak_finder_example.py`.  These plans are described and used in the notebook [Lineup a 1-D peak](https://nbviewer.jupyter.org/github/BCDA-APS/bluesky_instrument_training/blob/main/lineup_1d_peak.ipynb)."
   ]
  },
  {
   "cell_type": "markdown",
   "id": "previous-stretch",
   "metadata": {},
   "source": [
    "## Log files\n",
    "\n",
    "For diagnostic and general support, log files are created to record activity.  In the working directory, the log files are written to a `./.logs` subdirectory.\n",
    "\n",
    "There are two kinds of file, one that records user commands and the python\n",
    "result, the other records items sent to the\n",
    "[customized](https://github.com/prjemian/stdlogpj#example-directing-logs-to-a-specific-directory)\n",
    "Python [logging](https://docs.python.org/3/library/logging.html) package.\n",
    "\n",
    "In the IPython session, use the `!` to run a linux command:"
   ]
  },
  {
   "cell_type": "code",
   "execution_count": 9,
   "id": "coupled-water",
   "metadata": {},
   "outputs": [
    {
     "name": "stdout",
     "output_type": "stream",
     "text": [
      "total 184K\n",
      "-rw-rw-r-- 1 prjemian  707 Mar 17 00:28 ipython_console.log\n",
      "-rw-rw-r-- 1 prjemian 2.3K Mar 17 00:27 ipython_console.log.001~\n",
      "-rw-rw-r-- 1 prjemian 3.6K Mar 17 00:27 ipython_console.log.002~\n",
      "-rw-rw-r-- 1 prjemian   20 Mar 17 00:23 ipython_console.log.003~\n",
      "-rw-rw-r-- 1 prjemian   20 Mar 17 00:22 ipython_console.log.004~\n",
      "-rw-rw-r-- 1 prjemian   20 Mar 17 00:22 ipython_console.log.005~\n",
      "-rw-rw-r-- 1 prjemian  118 Mar 17 00:22 ipython_console.log.006~\n",
      "-rw-rw-r-- 1 prjemian  412 Mar 17 00:18 ipython_console.log.007~\n",
      "-rw-rw-r-- 1 prjemian 1.4K Mar 17 00:22 ipython_console.log.008~\n",
      "-rw-rw-r-- 1 prjemian 1.2K Mar 15 11:58 ipython_console.log.009~\n",
      "-rw-rw-r-- 1 prjemian  228 Mar 15 11:56 ipython_console.log.010~\n",
      "-rw-rw-r-- 1 prjemian 1.2K Mar 15 11:54 ipython_console.log.011~\n",
      "-rw-rw-r-- 1 prjemian  178 Mar 15 11:48 ipython_console.log.012~\n",
      "-rw-rw-r-- 1 prjemian  416 Mar 15 11:46 ipython_console.log.013~\n",
      "-rw-rw-r-- 1 prjemian  440 Mar 15 11:44 ipython_console.log.014~\n",
      "-rw-rw-r-- 1 prjemian  35K Mar 15 00:59 ipython_console.log.015~\n",
      "-rw-rw-r-- 1 prjemian  80K Mar 17 00:28 ipython_logger.log\n"
     ]
    }
   ],
   "source": [
    "!ls -lAFgh .logs"
   ]
  },
  {
   "cell_type": "markdown",
   "id": "placed-demonstration",
   "metadata": {},
   "source": [
    "Let's take a look at a few lines of each type of file, to get a feel for the information logged.\n",
    "\n",
    "The `ipython_console.log` file is created for every session (every time IPython is started or every time the Jupyter kernel is started).  It records the commands that were entered and the output, if any, from each command.  It does not record anything that was sent to the console by `print()` statements.  The older log files are numbered, higher number is older (each new session shifts these numbers by 1)."
   ]
  },
  {
   "cell_type": "code",
   "execution_count": 10,
   "id": "annual-paste",
   "metadata": {},
   "outputs": [
    {
     "name": "stdout",
     "output_type": "stream",
     "text": [
      "# IPython log file\n",
      "\n",
      "# Wed, 17 Mar 2021 00:28:29\n",
      "adsimdet.summary()\n",
      "# Wed, 17 Mar 2021 00:28:29\n",
      "scaler1.summary()\n",
      "# Wed, 17 Mar 2021 00:28:29\n",
      "get_ipython().run_line_magic('ct', 'scalers')\n",
      "# Wed, 17 Mar 2021 00:28:30\n",
      "listdevice(scaler1)\n"
     ]
    }
   ],
   "source": [
    "!head .logs/ipython_console.log"
   ]
  },
  {
   "cell_type": "markdown",
   "id": "shaped-snapshot",
   "metadata": {},
   "source": [
    "The `ipython_logger.log` file(s) contain the output from calls to the `logger`.  The files are appended with new logger reports until the file reaches ca. 1 MB.  (Larger files are slow to append.)  Then the file is given a number and a new logger file is created.  Higher numbers are older.  At most, 9 numbered files are retained (to avoid filling disk storage with unnecessary diagnostics).\n",
    "\n",
    "A single *logger* file may contain reports from several sessions.  The third piece of information is the `pid` (process identifier) of the session.  The PID is assigned by the operating system when the session is started.\n",
    "\n",
    "The logger file contains a full report while the report's representation is more terse.  (Users do not always want the full details.  Just remember they are available in the logger file.)  Here's the last few logger lines as shown on the console:\n",
    "\n",
    "    I Wed-00:24:52 - /home/mintadmin/Documents/projects/BCDA-APS/bluesky_instrument_training/instrument/devices/temperature_signal.py\n",
    "    I Wed-00:24:52 - /home/mintadmin/Documents/projects/BCDA-APS/bluesky_instrument_training/instrument/plans/peak_finder_example.py\n",
    "    I Wed-00:24:52 - Startup is complete.\n",
    "\n",
    "Those same lines appear in the logger file as:\n",
    "\n",
    "    |2021-02-24 00:24:52.091|INFO|25986|bluesky-session|temperature_signal|11|MainThread| - /home/mintadmin/Documents/projects/BCDA-APS/bluesky_instrument_training/instrument/devices/temperature_signal.py\n",
    "    |2021-02-24 00:24:52.165|INFO|25986|bluesky-session|peak_finder_example|15|MainThread| - /home/mintadmin/Documents/projects/BCDA-APS/bluesky_instrument_training/instrument/plans/peak_finder_example.py\n",
    "    |2021-02-24 00:24:52.179|INFO|25986|bluesky-session|collection|23|MainThread| - Startup is complete.\n"
   ]
  },
  {
   "cell_type": "code",
   "execution_count": 11,
   "id": "identified-dietary",
   "metadata": {},
   "outputs": [
    {
     "name": "stdout",
     "output_type": "stream",
     "text": [
      "|2021-03-17 00:28:29.287|INFO|153797|bluesky-session|spec_data_file_writer|13|MainThread| - /home/prjemian/Documents/projects/BCDA-APS/bluesky_instrument_training/bluesky/instrument/callbacks/spec_data_file_writer.py\n",
      "|2021-03-17 00:28:29.288|INFO|153797|bluesky-session|spec_data_file_writer|29|MainThread| - writing to SPEC file: /home/prjemian/Documents/projects/BCDA-APS/bluesky_instrument_training/20210317-002829.dat\n",
      "|2021-03-17 00:28:29.289|INFO|153797|bluesky-session|spec_data_file_writer|30|MainThread| -    >>>>   Using default SPEC file name   <<<<\n",
      "|2021-03-17 00:28:29.291|INFO|153797|bluesky-session|spec_data_file_writer|31|MainThread| -    file will be created when bluesky ends its next scan\n",
      "|2021-03-17 00:28:29.291|INFO|153797|bluesky-session|spec_data_file_writer|32|MainThread| -    to change SPEC file, use command:   newSpecFile('title')\n",
      "|2021-03-17 00:28:29.292|INFO|153797|bluesky-session|collection|20|MainThread| - #### Plans ####\n",
      "|2021-03-17 00:28:29.293|INFO|153797|bluesky-session|peak_finder_example|15|MainThread| - /home/prjemian/Documents/projects/BCDA-APS/bluesky_instrument_training/bluesky/instrument/plans/peak_finder_example.py\n",
      "|2021-03-17 00:28:29.294|INFO|153797|bluesky-session|collection|23|MainThread| - #### Utilities ####\n",
      "|2021-03-17 00:28:29.295|INFO|153797|bluesky-session|image_analysis|11|MainThread| - /home/prjemian/Documents/projects/BCDA-APS/bluesky_instrument_training/bluesky/instrument/utils/image_analysis.py\n",
      "|2021-03-17 00:28:29.326|INFO|153797|bluesky-session|collection|29|MainThread| - #### Startup is complete. ####\n"
     ]
    }
   ],
   "source": [
    "!tail .logs/ipython_logger.log"
   ]
  },
  {
   "cell_type": "markdown",
   "id": "ambient-contrary",
   "metadata": {},
   "source": [
    "## SPEC data files\n",
    "\n",
    "A [SPEC](https://certif.com) data file records a copy of the scan data (area detector images are not stored in SPEC files).  By default, the file is created in the present working directory using a name constructed from the date and time with a `.dat` file extension.  Unlike SPEC, new data is written *at the end of a scan*.  It is also possible to use the [`SpecWriterCallback`](https://apstools.readthedocs.io/en/latest/source/_filewriters.html#apstools.filewriters.SpecWriterCallback) to write data extracted from the database after the experiment is done.\n",
    "\n",
    "The 2021-03 training does not cover the use of these files.  You are free to examine them yourselves.\n",
    "\n",
    "<summary>Example SPEC data file from a bluesky session:</summary>\n",
    "\n",
    "<details>\n",
    "\n",
    "\n",
    "    #F /home/mintadmin/Documents/projects/BCDA-APS/bluesky_instrument_training/20210223-222553.dat\n",
    "    #E 1614140753\n",
    "    #D Tue Feb 23 22:25:53 2021\n",
    "    #C Bluesky  user = mintadmin  host = mint-vm\n",
    "    #O0 \n",
    "    #o0 \n",
    "\n",
    "    #S 216  count(detectors=['scaler1', 'noisy', 'temperature'], num=1)\n",
    "    #D Tue Feb 23 22:25:59 2021\n",
    "    #C Tue Feb 23 22:25:59 2021.  plan_type = generator\n",
    "    #C Tue Feb 23 22:25:59 2021.  uid = 8c4f4b62-81ec-4fe3-bfa2-18178d37876b\n",
    "    #MD uid = 8c4f4b62-81ec-4fe3-bfa2-18178d37876b\n",
    "    #MD beamline_id = APS_Python_training_2021\n",
    "    #MD detectors = ['scaler1', 'noisy', 'temperature']\n",
    "    #MD instrument_name = class_2021_03\n",
    "    #MD login_id = mintadmin@mint-vm\n",
    "    #MD num_intervals = 0\n",
    "    #MD num_points = 1\n",
    "    #MD pid = 20559\n",
    "    #MD proposal_id = training\n",
    "    #MD versions = {'apstools': '1.4.0+1.g50c6f9d', 'bluesky': '1.6.7', 'databroker': '1.1.0', 'epics': '3.4.3', 'h5py': '2.10.0', 'intake': '0.6.0', 'matplotlib': '3.3.3', 'numpy': '1.18.5', 'ophyd': '1.6.0', 'pyRestTable': '2020.0.3', 'spec2nexus': '2021.1.8'}\n",
    "    #P0 \n",
    "    #N 20\n",
    "    #L Epoch_float  Epoch  temperature_setpoint  temperature_readback  temperature_done  temperature_calculation  temperature_description  temperature_max_change  temperature_noise  temperature_previous_value_pv  temperature_scanning_rate  temperature_tolerance  timebase  I0  scint  diode  scaler1_time  scaler1  noisy  temperature\n",
    "    2.859903573989868 3 25.0 25.35954070344091 True 0 0 2.0 1.0 0 5 1.0 21000000.0 10.0 9.0 9.0 2.1 0 29.61249046818531 0\n",
    "    #U 0 temperature_calculation A+max(-D,min(D,(B-A)))+C*(RNDM-0.5)\n",
    "    #U 0 temperature_description temperature\n",
    "    #U 0 temperature_previous_value_pv gp:userCalc8.VAL\n",
    "    #C Tue Feb 23 22:26:02 2021.  num_events_baseline = 2\n",
    "    #C Tue Feb 23 22:26:02 2021.  num_events_primary = 1\n",
    "    #C Tue Feb 23 22:26:02 2021.  exit_status = success\n",
    "\n",
    "    #S 217  count(detectors=['scaler1', 'noisy', 'temperature'], num=5)\n",
    "    #D Tue Feb 23 22:26:02 2021\n",
    "    #C Tue Feb 23 22:26:02 2021.  plan_type = generator\n",
    "    #C Tue Feb 23 22:26:02 2021.  uid = 1e857ae9-b5bf-4965-a709-b290fb04d30f\n",
    "    #MD uid = 1e857ae9-b5bf-4965-a709-b290fb04d30f\n",
    "    #MD beamline_id = APS_Python_training_2021\n",
    "    #MD detectors = ['scaler1', 'noisy', 'temperature']\n",
    "    #MD instrument_name = class_2021_03\n",
    "    #MD login_id = mintadmin@mint-vm\n",
    "    #MD num_intervals = 4\n",
    "    #MD num_points = 5\n",
    "    #MD pid = 20559\n",
    "    #MD proposal_id = training\n",
    "    #MD versions = {'apstools': '1.4.0+1.g50c6f9d', 'bluesky': '1.6.7', 'databroker': '1.1.0', 'epics': '3.4.3', 'h5py': '2.10.0', 'intake': '0.6.0', 'matplotlib': '3.3.3', 'numpy': '1.18.5', 'ophyd': '1.6.0', 'pyRestTable': '2020.0.3', 'spec2nexus': '2021.1.8'}\n",
    "    #P0 \n",
    "    #N 20\n",
    "    #L Epoch_float  Epoch  temperature_setpoint  temperature_readback  temperature_done  temperature_calculation  temperature_description  temperature_max_change  temperature_noise  temperature_previous_value_pv  temperature_scanning_rate  temperature_tolerance  timebase  I0  scint  diode  scaler1_time  scaler1  noisy  temperature\n",
    "    3.391828775405884 3 25.0 25.304470893415733 True 0 0 2.0 1.0 0 5 1.0 21000000.0 10.0 11.0 13.0 2.1 0 29.61249046818531 0\n",
    "    #U 0 temperature_calculation A+max(-D,min(D,(B-A)))+C*(RNDM-0.5)\n",
    "    #U 0 temperature_description temperature\n",
    "    #U 0 temperature_previous_value_pv gp:userCalc8.VAL\n",
    "    6.6996848583221436 7 25.0 24.56161593041886 True 1 1 2.0 1.0 1 5 1.0 21000000.0 11.0 10.0 11.0 2.1 0 29.61249046818531 0\n",
    "    #U 1 temperature_calculation A+max(-D,min(D,(B-A)))+C*(RNDM-0.5)\n",
    "    #U 1 temperature_description temperature\n",
    "    #U 1 temperature_previous_value_pv gp:userCalc8.VAL\n",
    "    9.815467119216919 10 25.0 24.70134279392691 True 2 2 2.0 1.0 2 5 1.0 21000000.0 10.0 11.0 8.0 2.1 0 29.61249046818531 0\n",
    "    #U 2 temperature_calculation A+max(-D,min(D,(B-A)))+C*(RNDM-0.5)\n",
    "    #U 2 temperature_description temperature\n",
    "    #U 2 temperature_previous_value_pv gp:userCalc8.VAL\n",
    "    12.774443626403809 13 25.0 25.29922178988327 True 3 3 2.0 1.0 3 5 1.0 21000000.0 11.0 11.0 11.0 2.1 0 29.61249046818531 0\n",
    "    #U 3 temperature_calculation A+max(-D,min(D,(B-A)))+C*(RNDM-0.5)\n",
    "    #U 3 temperature_description temperature\n",
    "    #U 3 temperature_previous_value_pv gp:userCalc8.VAL\n",
    "    16.023823261260986 16 25.0 25.317425803006028 True 4 4 2.0 1.0 4 5 1.0 21000000.0 9.0 9.0 10.0 2.1 0 29.61249046818531 0\n",
    "    #U 4 temperature_calculation A+max(-D,min(D,(B-A)))+C*(RNDM-0.5)\n",
    "    #U 4 temperature_description temperature\n",
    "    #U 4 temperature_previous_value_pv gp:userCalc8.VAL\n",
    "    #C Tue Feb 23 22:26:19 2021.  num_events_baseline = 2\n",
    "    #C Tue Feb 23 22:26:19 2021.  num_events_primary = 5\n",
    "    #C Tue Feb 23 22:26:19 2021.  exit_status = success\n",
    "\n",
    "    #S 218  count(detectors=['temperature'], num=5)\n",
    "    #D Tue Feb 23 22:26:21 2021\n",
    "    #C Tue Feb 23 22:26:21 2021.  plan_type = generator\n",
    "    #C Tue Feb 23 22:26:21 2021.  uid = b364f246-f058-43e3-b6b6-ff08003f1b63\n",
    "    #MD uid = b364f246-f058-43e3-b6b6-ff08003f1b63\n",
    "    #MD beamline_id = APS_Python_training_2021\n",
    "    #MD detectors = ['temperature']\n",
    "    #MD instrument_name = class_2021_03\n",
    "    #MD login_id = mintadmin@mint-vm\n",
    "    #MD num_intervals = 4\n",
    "    #MD num_points = 5\n",
    "    #MD pid = 20559\n",
    "    #MD proposal_id = training\n",
    "    #MD versions = {'apstools': '1.4.0+1.g50c6f9d', 'bluesky': '1.6.7', 'databroker': '1.1.0', 'epics': '3.4.3', 'h5py': '2.10.0', 'intake': '0.6.0', 'matplotlib': '3.3.3', 'numpy': '1.18.5', 'ophyd': '1.6.0', 'pyRestTable': '2020.0.3', 'spec2nexus': '2021.1.8'}\n",
    "    #P0 \n",
    "    #N 13\n",
    "    #L Epoch_float  Epoch  temperature_setpoint  temperature_readback  temperature_done  temperature_calculation  temperature_description  temperature_max_change  temperature_noise  temperature_previous_value_pv  temperature_scanning_rate  temperature_tolerance  temperature\n",
    "    0.7077298164367676 1 25.0 25.43418783855955 True 0 0 2.0 1.0 0 5 1.0 0\n",
    "    #U 0 temperature_calculation A+max(-D,min(D,(B-A)))+C*(RNDM-0.5)\n",
    "    #U 0 temperature_description temperature\n",
    "    #U 0 temperature_previous_value_pv gp:userCalc8.VAL\n",
    "    0.8045623302459717 1 25.0 25.43418783855955 True 1 1 2.0 1.0 1 5 1.0 0\n",
    "    #U 1 temperature_calculation A+max(-D,min(D,(B-A)))+C*(RNDM-0.5)\n",
    "    #U 1 temperature_description temperature\n",
    "    #U 1 temperature_previous_value_pv gp:userCalc8.VAL\n",
    "    0.8914773464202881 1 25.0 25.43418783855955 True 2 2 2.0 1.0 2 5 1.0 0\n",
    "    #U 2 temperature_calculation A+max(-D,min(D,(B-A)))+C*(RNDM-0.5)\n",
    "    #U 2 temperature_description temperature\n",
    "    #U 2 temperature_previous_value_pv gp:userCalc8.VAL\n",
    "    0.9808797836303711 1 25.0 25.43418783855955 True 3 3 2.0 1.0 3 5 1.0 0\n",
    "    #U 3 temperature_calculation A+max(-D,min(D,(B-A)))+C*(RNDM-0.5)\n",
    "    #U 3 temperature_description temperature\n",
    "    #U 3 temperature_previous_value_pv gp:userCalc8.VAL\n",
    "    1.0428459644317627 1 25.0 25.43418783855955 True 4 4 2.0 1.0 4 5 1.0 0\n",
    "    #U 4 temperature_calculation A+max(-D,min(D,(B-A)))+C*(RNDM-0.5)\n",
    "    #U 4 temperature_description temperature\n",
    "    #U 4 temperature_previous_value_pv gp:userCalc8.VAL\n",
    "    #C Tue Feb 23 22:26:22 2021.  num_events_baseline = 2\n",
    "    #C Tue Feb 23 22:26:22 2021.  num_events_primary = 5\n",
    "    #C Tue Feb 23 22:26:22 2021.  exit_status = success\n",
    "\n",
    "</details>"
   ]
  },
  {
   "cell_type": "markdown",
   "id": "directed-alaska",
   "metadata": {},
   "source": [
    "## User Code File\n",
    "\n",
    "A common request from instruments is to allow the user to write some python code that can be loaded into the current session.  Since this codedevelopment of this *user code* is often iterative, it must be possible to reload the code without requiring the session to exit and restart.\n",
    "\n",
    "The local file [`pv_finder.py`](pv_finder.py) provides an example of such a user code file.  Load this file with the command:\n",
    "\n",
    "    %run -im pv_finder\n",
    "\n",
    "Note that since the `m` (as module) command option was added, it is not necessary to give the Python extension `.py`.\n",
    "\n",
    "This file loads the command `findpv(PVNAME)` which identifies the name of the ophyd object(s) using the PV name passed as an argument.  Take for example, we want to find PV `gp:userCalc8.CALC`:"
   ]
  },
  {
   "cell_type": "code",
   "execution_count": 12,
   "id": "worldwide-discovery",
   "metadata": {},
   "outputs": [],
   "source": [
    "%run -im pv_finder"
   ]
  },
  {
   "cell_type": "code",
   "execution_count": 13,
   "id": "juvenile-shirt",
   "metadata": {},
   "outputs": [
    {
     "name": "stderr",
     "output_type": "stream",
     "text": [
      "Subscription value callback exception (EpicsSignal(read_pv='ad:image1:ArrayData', name='adsimdet_image_array_data', parent='adsimdet_image', value=array([], dtype=uint8), timestamp=631152000.0, auto_monitor=True, string=False, write_pv='ad:image1:ArrayData', limits=False, put_complete=False))\n",
      "Traceback (most recent call last):\n",
      "  File \"/opt/miniconda3/envs/class_2021_03/lib/python3.8/site-packages/ophyd/ophydobj.py\", line 462, in inner\n",
      "    cb(*args, **kwargs)\n",
      "  File \"/opt/miniconda3/envs/class_2021_03/lib/python3.8/site-packages/ophyd/signal.py\", line 608, in _derived_value_callback\n",
      "    value = self.inverse(value)\n",
      "  File \"/opt/miniconda3/envs/class_2021_03/lib/python3.8/site-packages/ophyd/areadetector/base.py\", line 107, in inverse\n",
      "    raise RuntimeError(f\"Invalid array size {self.derived_shape}\")\n",
      "RuntimeError: Invalid array size (0, 0, 0)\n"
     ]
    },
    {
     "data": {
      "text/plain": [
       "{'read': ['calcs.calc8.calculation', 'temperature.calculation'],\n",
       " 'write': ['calcs.calc8.calculation', 'temperature.calculation']}"
      ]
     },
     "execution_count": 13,
     "metadata": {},
     "output_type": "execute_result"
    }
   ],
   "source": [
    "findpv(\"gp:userCalc8.CALC\")"
   ]
  },
  {
   "cell_type": "markdown",
   "id": "living-dressing",
   "metadata": {},
   "source": [
    "Observe that the same `.calculation` is both readable and writable from two different ophyd objects: `calcs.calc8` and `temperature`."
   ]
  },
  {
   "cell_type": "markdown",
   "id": "intended-workplace",
   "metadata": {},
   "source": [
    "## databroker\n",
    "\n",
    "The [`databroker`](https://blueskyproject.io/databroker) package provides \n",
    "a Python interface to the database with the experiment data, including \n",
    "references to the large file content such as area detector images.  A \n",
    "[YAML](https://yaml.org) configuration file connects databroker with a \n",
    "specific repository in the MongoDB database server.  In the example here \n",
    "([`bluesky_class.yml`](./bluesky_class.yml)), the name of the *catalog* entry\n",
    "in this file is `class_2021_03`.  It makes two connections to a MongoDB server\n",
    "running on the same workstation `localhost`.  Both connections are to the \n",
    "same MongoDB collection: `class_2021_03-bluesky`.  The name of the file\n",
    "is not important as long as it is placed in a directory searched by \n",
    "`databroker.catalog`.\n",
    "\n",
    "**Example**\n",
    "\n",
    "```yml\n",
    "# file: bluesky_class.yml\n",
    "# purpose: Configuration file to connect Bluesky databroker with MongoDB\n",
    "# For 2021-03 Python Training at APS\n",
    "\n",
    "# Copy to: ~/.local/share/intake/bluesky_class.yml\n",
    "# Create subdirectories as needed\n",
    "\n",
    "sources:\n",
    "  class_2021_03:\n",
    "    args:\n",
    "      asset_registry_db: mongodb://localhost:27017/class_2021_03-bluesky\n",
    "      metadatastore_db: mongodb://localhost:27017/class_2021_03-bluesky\n",
    "    driver: bluesky-mongo-normalized-catalog\n",
    "```\n",
    "\n",
    "When the bluesky session starts, this `class_2021_03` catalog is referenced when\n",
    "creating the `db` object in the instrument package, in \n",
    "`instrument.framework.initialize.py` by these lines:\n",
    "\n",
    "```python\n",
    "catalog_name = \"class_2021_03\"\n",
    "db = databroker.catalog[catalog_name].v1\n",
    "logger.info(f\"using databroker catalog '{catalog_name}'\")\n",
    "```"
   ]
  }
 ],
 "metadata": {
  "kernelspec": {
   "display_name": "Python 3",
   "language": "python",
   "name": "python3"
  },
  "language_info": {
   "codemirror_mode": {
    "name": "ipython",
    "version": 3
   },
   "file_extension": ".py",
   "mimetype": "text/x-python",
   "name": "python",
   "nbconvert_exporter": "python",
   "pygments_lexer": "ipython3",
   "version": "3.8.8"
  }
 },
 "nbformat": 4,
 "nbformat_minor": 5
}
