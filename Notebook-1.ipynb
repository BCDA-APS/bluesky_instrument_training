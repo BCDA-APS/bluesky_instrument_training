{
 "cells": [
  {
   "cell_type": "markdown",
   "id": "invalid-ready",
   "metadata": {},
   "source": [
    "# First Jupyter Notebook with the Bluesky Framework : 2021-03 Training Edition\n",
    "\n",
    "TODO:\n",
    "\n",
    "See also [Guide: First Steps with Bluesky](https://github.com/BCDA-APS/use_bluesky/blob/main/first_steps_guide.md), a quick-reference guide for those learning how to use the Bluesky Framework for data acquisition.  This guide provides the basic commands you will need when using Bluesky from an IPython console or a Jupyter notebook.\n",
    "\n",
    "## Start the `instrument` package"
   ]
  },
  {
   "cell_type": "code",
   "execution_count": null,
   "id": "level-geometry",
   "metadata": {},
   "outputs": [],
   "source": [
    "# %matplotlib inline\n",
    "from instrument.collection import *"
   ]
  },
  {
   "cell_type": "markdown",
   "id": "clear-killing",
   "metadata": {},
   "source": [
    "## Where _is_ everybody?\n",
    "\n",
    "On the command line, there is an [IPython magic](https://ipython.readthedocs.io/en/stable/interactive/magics.html#built-in-magic-commands) command from the [bluesky](https://blueskyproject.io/bluesky/) package to print the current value of [labeled](https://blueskyproject.io/bluesky/magics.html?highlight=label) items: [`%wa`]()"
   ]
  },
  {
   "cell_type": "code",
   "execution_count": null,
   "id": "based-narrow",
   "metadata": {},
   "outputs": [],
   "source": [
    "%wa"
   ]
  },
  {
   "cell_type": "markdown",
   "id": "interstate-cleaning",
   "metadata": {},
   "source": [
    "## **Who** is everybody?\n",
    "\n",
    "Might be a good idea to know now what ophyd symbols are available.  The [apstools](https://apstools.readthedocs.io/en/latest/) package provides a [`listobjects()`](https://apstools.readthedocs.io/en/latest/source/_utils.html?highlight=listobjects#apstools.utils.listobjects) command that prints a table of all the known objects (in the global namespace of the session).  The columns provide the ophyd name (the name you use to call this in Python), the name of the ophyd structure, the EPICS PV (if relevant), and any labels (as used in `%wa` above).\n",
    "\n",
    "Notably, the table includes:\n",
    "\n",
    "* a simulated EPICS area detector (`adsimdet`), look for the `area_detector` label\n",
    "* a simulated 16-channel EPICS scaler (`scaler1`), look for the `scalers` label\n",
    "* some of the scaler channels are named (`I0`, `diode`, ...), look for the `counter` label\n",
    "* a _noisy_ detector for use with motor `m1` to simulate a diffraction peak\n",
    "* 16 simulated EPICS motors (`m1` .. `m16`), look for the `motor` label\n",
    "* some calculation support (`calcs` & `calcouts`)\n",
    "* a simulated shutter (`shutter`)\n",
    "* a simulated temperature controller (`temperature`)\n",
    "* details about the general purpose IOC (`gp_stats`)"
   ]
  },
  {
   "cell_type": "code",
   "execution_count": null,
   "id": "magnetic-silicon",
   "metadata": {},
   "outputs": [],
   "source": [
    "listobjects()"
   ]
  },
  {
   "cell_type": "markdown",
   "id": "employed-gabriel",
   "metadata": {},
   "source": [
    "## Let's work with the scaler\n",
    "\n",
    "A scaler is a device that counts digital pulses from a pulse detector such\n",
    "as a scintillation counter or from photodiodes or ionization chamber with\n",
    "pulse chain electronics.  Scalers have\n",
    "many channels, some of which might have no associated detector.  Our scaler\n",
    "(`scaler1`) is a simulated device that records a random number of pulses in \n",
    "each channel.  We are only interested in the channels that have names provided\n",
    "by users in the GUI screens.  In this screen for our scaler, only a few of the\n",
    "channels are named:\n",
    "\n",
    "![`scaler` GUI](resources/scaler.png \"`scaler1` GUI\")"
   ]
  },
  {
   "cell_type": "markdown",
   "id": "headed-muscle",
   "metadata": {},
   "source": [
    "Let's configure `scaler1` to report only the `diode` and `I0` channels (plus the count time channel which will *always* be included).  Keep in mind that the argument to this function is a Python list, so the channel names must be enclosed with `[]`.  The function does not return a result.  If something *is* printed, there is an error to be fixed.\n",
    "\n",
    "NOTE:  To report _all_ named channels again, call the same function with argument in the parentheses."
   ]
  },
  {
   "cell_type": "code",
   "execution_count": null,
   "id": "empty-glass",
   "metadata": {},
   "outputs": [],
   "source": [
    "scaler1.select_channels([\"diode\", \"I0\"])"
   ]
  },
  {
   "cell_type": "markdown",
   "id": "hawaiian-generic",
   "metadata": {},
   "source": [
    "The _easiest_ way to count the `scaler` object is to use the [`%ct`](https://blueskyproject.io/bluesky/magics.html?highlight=label#taking-a-reading-using-ct-post-v1-3-0) bluesky magic command, which counts all objects with the `detectors` label.\n",
    "\n",
    "Note that the various magic commands are only available from the command line, not for use in a bluesky plan function."
   ]
  },
  {
   "cell_type": "code",
   "execution_count": null,
   "id": "retained-match",
   "metadata": {},
   "outputs": [],
   "source": [
    "%ct"
   ]
  },
  {
   "cell_type": "markdown",
   "id": "cultural-holocaust",
   "metadata": {},
   "source": [
    "Compare with the reading when _all_ channels are selected:"
   ]
  },
  {
   "cell_type": "code",
   "execution_count": null,
   "id": "significant-hollywood",
   "metadata": {},
   "outputs": [],
   "source": [
    "scaler1.select_channels()\n",
    "%ct"
   ]
  },
  {
   "cell_type": "markdown",
   "id": "about-celebration",
   "metadata": {},
   "source": [
    "Now, select just the two channels again before continuing:"
   ]
  },
  {
   "cell_type": "code",
   "execution_count": null,
   "id": "correct-peeing",
   "metadata": {},
   "outputs": [],
   "source": [
    "scaler1.select_channels([\"diode\", \"I0\"])"
   ]
  },
  {
   "cell_type": "markdown",
   "id": "animated-spanish",
   "metadata": {},
   "source": [
    "As noted before, the `%ct` command is only available from the command shell.\n",
    "\n",
    "### use ophyd to count the scaler\n",
    "\n",
    "We should learn how to use the underlying Python code to do the same steps.\n",
    "\n",
    "The first step is to use pure ophyd methods to count and report, then use a bluesky plan to do the same thing.  The ophyd methods are `trigger`, `wait`, and `read`.  The `trigger` and `wait` methods can be chained together:"
   ]
  },
  {
   "cell_type": "code",
   "execution_count": null,
   "id": "molecular-lawsuit",
   "metadata": {},
   "outputs": [],
   "source": [
    "scaler1.trigger().wait()"
   ]
  },
  {
   "cell_type": "markdown",
   "id": "piano-round",
   "metadata": {},
   "source": [
    "Technically, we should `stage` and `unstage` the object.  **We'll use staging to control the count time of the scaler.**\n",
    "\n",
    "The ophyd [`.stage()` method](https://nsls-ii.github.io/ophyd/generated/ophyd.device.BlueskyInterface.stage.html?highlight=stage#ophyd.device.BlueskyInterface.stage) prepares the object for its `.trigger()` method, while the `.unstage()` method returns the object's settings to the previous state before the `.stage()` method was called."
   ]
  },
  {
   "cell_type": "code",
   "execution_count": null,
   "id": "corrected-prior",
   "metadata": {},
   "outputs": [],
   "source": [
    "scaler1.stage()\n",
    "scaler1.trigger().wait()\n",
    "scaler1.unstage()"
   ]
  },
  {
   "cell_type": "markdown",
   "id": "still-blast",
   "metadata": {},
   "source": [
    "Let's find out what happens when `scaler1` is staged.  That's controlled by the contents of a Python dictionary `.stage_sigs`:"
   ]
  },
  {
   "cell_type": "code",
   "execution_count": null,
   "id": "initial-turner",
   "metadata": {},
   "outputs": [],
   "source": [
    "scaler1.stage_sigs"
   ]
  },
  {
   "cell_type": "markdown",
   "id": "constant-graph",
   "metadata": {},
   "source": [
    "It's empty, so nothing has been preconfigured for us.  Let's make sure that we get to pick the *counting time* (the time to accumulate pulses in the various channels), say 2.0 seconds, when we count here."
   ]
  },
  {
   "cell_type": "code",
   "execution_count": null,
   "id": "likely-strap",
   "metadata": {},
   "outputs": [],
   "source": [
    "scaler1.stage_sigs[\"preset_time\"] = 2\n",
    "scaler1.stage_sigs"
   ]
  },
  {
   "cell_type": "markdown",
   "id": "gentle-smoke",
   "metadata": {},
   "source": [
    "Show the counting time *before* we count, then `stage`, `trigger`, `wait`, `read`, `unstage`, then finally show the counting time  *after* we count:"
   ]
  },
  {
   "cell_type": "code",
   "execution_count": null,
   "id": "requested-plymouth",
   "metadata": {},
   "outputs": [],
   "source": [
    "print(f\"Scaler configured to count for {scaler1.preset_time.get()}s\")\n",
    "scaler1.stage()\n",
    "scaler1.trigger().wait()\n",
    "print(scaler1.read())\n",
    "scaler1.unstage()\n",
    "print(f\"Scaler configured to count for {scaler1.preset_time.get()}s\")"
   ]
  },
  {
   "cell_type": "markdown",
   "id": "uniform-encoding",
   "metadata": {},
   "source": [
    "The report from `.read()` includes both values and timestamps (in seconds since the Python [time](https://docs.python.org/3/library/time.html) epoch, UTC).  The structure is a Python dictionary.  This is the low-level method used to collect readings from any ophyd device.  We had to `print()` this since the return result from a command within a sequence is not returned at the end of the sequence, just the return result of the *final* command in the sequence.\n",
    "\n",
    "See that the scaler counted for 2.1 seconds (a small bug in the scaler simulator it seems, always adds .1 to the count time!).  But before staging, the scaler was configured for 1.0 seconds, and after unstaging, the scaler returned to that value.\n",
    "\n",
    "**That's how to control the counting time *for a scaler*.**  (Area detectors use different terms.  More on that later.)"
   ]
  },
  {
   "cell_type": "markdown",
   "id": "fiscal-messaging",
   "metadata": {},
   "source": [
    "<details>\n",
    "    <summary>about <tt>scaler1_time</tt></summary>\n",
    "\n",
    "     Of note is the key `scaler1_time` which is the name of the ophyd symbol `scaler1.time` as returned by `scaler1.time.name`:\n",
    "\n",
    "        In [21]: scaler1.time.name\n",
    "        Out [21]: 'scaler1_time'\n",
    "\n",
    "</details>"
   ]
  },
  {
   "cell_type": "markdown",
   "id": "smart-facing",
   "metadata": {},
   "source": [
    "### use bluesky (the package) to count the scaler\n",
    "\n",
    "Now, use the bluesky [RunEngine](https://blueskyproject.io/bluesky/generated/bluesky.run_engine.RunEngine.html?highlight=runengine#bluesky.run_engine.RunEngine) (`RE`) to count `scaler1`.  We'll use the bluesky plan ([`bp`](https://blueskyproject.io/bluesky/plans.html?highlight=count#pre-assembled-plans)) called [`count()`](https://blueskyproject.io/bluesky/generated/bluesky.plans.count.html#bluesky.plans.count).  To be consistent with the result returned from `%ct`, we'll include the `noisy` detector."
   ]
  },
  {
   "cell_type": "code",
   "execution_count": null,
   "id": "acoustic-separation",
   "metadata": {},
   "outputs": [],
   "source": [
    "RE(bp.count([scaler1,noisy]))"
   ]
  },
  {
   "cell_type": "markdown",
   "id": "angry-drunk",
   "metadata": {},
   "source": [
    "There are many ways to view data from bluesky runs.  We'll pick one simple way, as a [dask](https://dask.org/) table since it is easy to display such structured content in a Jupyter notebook."
   ]
  },
  {
   "cell_type": "code",
   "execution_count": null,
   "id": "frequent-secondary",
   "metadata": {},
   "outputs": [],
   "source": [
    "db.v2[-1].primary.to_dask()"
   ]
  },
  {
   "cell_type": "markdown",
   "id": "formed-fitting",
   "metadata": {},
   "source": [
    "As a last action in this section, use the [`listruns()`](https://apstools.readthedocs.io/en/latest/source/_utils.html?highlight=listobjects#apstools.utils.listruns) command from *apstools* to show the (default: 20) most recent runs in the database.  The table shows a short version of the run's unique identifier (`short_uid`), and other more obvious columns of information, truncated to avoid lengthy output.  The name of the [databroker *catalog*](https://blueskyproject.io/databroker/index.html) (`class_2021_03`) is shown before the table."
   ]
  },
  {
   "cell_type": "code",
   "execution_count": null,
   "id": "indirect-coral",
   "metadata": {},
   "outputs": [],
   "source": [
    "listruns()"
   ]
  },
  {
   "cell_type": "markdown",
   "id": "electric-partition",
   "metadata": {},
   "source": [
    "## temperature _v_ time"
   ]
  },
  {
   "cell_type": "markdown",
   "id": "protected-administrator",
   "metadata": {},
   "source": [
    "work-in-progress"
   ]
  },
  {
   "cell_type": "code",
   "execution_count": null,
   "id": "powered-cedar",
   "metadata": {},
   "outputs": [],
   "source": [
    "temperature.position"
   ]
  },
  {
   "cell_type": "code",
   "execution_count": null,
   "id": "numerous-rehabilitation",
   "metadata": {},
   "outputs": [],
   "source": [
    "temperature.get()"
   ]
  },
  {
   "cell_type": "code",
   "execution_count": null,
   "id": "systematic-chosen",
   "metadata": {},
   "outputs": [],
   "source": [
    "temperature.readback.get()"
   ]
  },
  {
   "cell_type": "code",
   "execution_count": null,
   "id": "median-technique",
   "metadata": {},
   "outputs": [],
   "source": [
    "temperature.position"
   ]
  },
  {
   "cell_type": "code",
   "execution_count": null,
   "id": "excess-registrar",
   "metadata": {},
   "outputs": [],
   "source": [
    "temperature.read()"
   ]
  },
  {
   "cell_type": "code",
   "execution_count": null,
   "id": "confirmed-chart",
   "metadata": {},
   "outputs": [],
   "source": [
    "listdevice(temperature)"
   ]
  },
  {
   "cell_type": "code",
   "execution_count": null,
   "id": "patent-support",
   "metadata": {},
   "outputs": [],
   "source": [
    "RE(bp.count([scaler1,noisy,temperature]))"
   ]
  },
  {
   "cell_type": "code",
   "execution_count": null,
   "id": "physical-stamp",
   "metadata": {},
   "outputs": [],
   "source": [
    "RE(bp.count([scaler1,noisy,temperature], num=5))"
   ]
  },
  {
   "cell_type": "code",
   "execution_count": null,
   "id": "naval-ballot",
   "metadata": {},
   "outputs": [],
   "source": [
    "RE(bp.count([temperature], num=5))"
   ]
  },
  {
   "cell_type": "code",
   "execution_count": null,
   "id": "elegant-petroleum",
   "metadata": {},
   "outputs": [],
   "source": [
    "RE(bp.count([temperature], num=5, delay=2))"
   ]
  },
  {
   "cell_type": "code",
   "execution_count": null,
   "id": "operational-worker",
   "metadata": {},
   "outputs": [],
   "source": [
    "RE(bp.scan([noisy], temperature, 25, 35, 11))"
   ]
  },
  {
   "cell_type": "code",
   "execution_count": null,
   "id": "welsh-senate",
   "metadata": {},
   "outputs": [],
   "source": [
    "%mov temperature 25"
   ]
  },
  {
   "cell_type": "code",
   "execution_count": null,
   "id": "social-receipt",
   "metadata": {},
   "outputs": [],
   "source": [
    "temperature.position"
   ]
  },
  {
   "cell_type": "code",
   "execution_count": null,
   "id": "vocational-barbados",
   "metadata": {},
   "outputs": [],
   "source": [
    "%movr temperature 1"
   ]
  },
  {
   "cell_type": "code",
   "execution_count": null,
   "id": "universal-eclipse",
   "metadata": {},
   "outputs": [],
   "source": [
    "RE(bps.mv(temperature, 25))"
   ]
  },
  {
   "cell_type": "code",
   "execution_count": null,
   "id": "wicked-caution",
   "metadata": {},
   "outputs": [],
   "source": [
    "RE(bps.mvr(temperature, 1))"
   ]
  },
  {
   "cell_type": "markdown",
   "id": "falling-plasma",
   "metadata": {},
   "source": [
    "## Find a peak: detector _v_ motor"
   ]
  },
  {
   "cell_type": "markdown",
   "id": "entitled-chicago",
   "metadata": {},
   "source": [
    "work in progress"
   ]
  },
  {
   "cell_type": "markdown",
   "id": "artistic-madonna",
   "metadata": {},
   "source": [
    "## Record an Image"
   ]
  },
  {
   "cell_type": "markdown",
   "id": "removed-enhancement",
   "metadata": {},
   "source": [
    "work in progress"
   ]
  },
  {
   "cell_type": "markdown",
   "id": "western-pottery",
   "metadata": {},
   "source": [
    "----"
   ]
  },
  {
   "cell_type": "markdown",
   "id": "transparent-management",
   "metadata": {},
   "source": [
    "---"
   ]
  },
  {
   "cell_type": "markdown",
   "id": "derived-adobe",
   "metadata": {
    "jupyter": {
     "source_hidden": true
    }
   },
   "source": [
    "[`%mov`](https://blueskyproject.io/bluesky/magics.html?highlight=label#moving-a-motor) (Magic command) : move a positioner"
   ]
  }
 ],
 "metadata": {
  "kernelspec": {
   "display_name": "bluesky_2021_1",
   "language": "python",
   "name": "bluesky_2021_1"
  },
  "language_info": {
   "codemirror_mode": {
    "name": "ipython",
    "version": 3
   },
   "file_extension": ".py",
   "mimetype": "text/x-python",
   "name": "python",
   "nbconvert_exporter": "python",
   "pygments_lexer": "ipython3",
   "version": "3.8.2-final"
  }
 },
 "nbformat": 4,
 "nbformat_minor": 5
}