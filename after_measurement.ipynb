{
 "cells": [
  {
   "cell_type": "markdown",
   "id": "polyphonic-continent",
   "metadata": {},
   "source": [
    "# Accessing data later, after the measurement\n",
    "\n",
    "From *2021-03 APS Python Training for Bluesky Data Acquisition*.\n",
    "\n",
    "**Objective**\n",
    "\n",
    "Get the data from previous *run(s)* and work with it.\n",
    "\n",
    "## Skip the `instrument` package\n",
    "\n",
    "There is no need to import the instrument package since we won't measure anything in this notebook.\n",
    "\n",
    "## Access the database\n",
    "\n",
    "In the instrument package (in file `instrument/framework/initialize.py`), we connected databroker with the MongoDB server using the `class_2021_03` *catalog*. Get that catalog now.  We'll need to import some tools first."
   ]
  },
  {
   "cell_type": "code",
   "execution_count": 1,
   "id": "changed-ending",
   "metadata": {},
   "outputs": [
    {
     "name": "stdout",
     "output_type": "stream",
     "text": [
      "catalog name: class_2021_03\n",
      "========= ========================== ======= ======= ========================================\n",
      "short_uid date/time                  exit    scan_id command                                 \n",
      "========= ========================== ======= ======= ========================================\n",
      "dff821e   2021-02-24 19:55:30.877637 success 42809   count(detectors=['temperature'], num=50)\n",
      "54623bd   2021-02-24 19:55:10.010586 success 42808   count(detectors=['temperature'], num=10)\n",
      "bd1b5a0   2021-02-24 19:55:07.992559 success 42807   count(detectors=['temperature'], num=10)\n",
      "188b6b4   2021-02-24 19:55:07.421838 success 42806   count(detectors=['temperature'], num=1) \n",
      "ea64830   2021-02-24 19:54:38.117091 success 42805   count(detectors=['temperature'], num=1) \n",
      "========= ========================== ======= ======= ========================================\n",
      "\n"
     ]
    },
    {
     "data": {
      "text/plain": [
       "<pyRestTable.rest_table.Table at 0x7f5380064af0>"
      ]
     },
     "execution_count": 1,
     "metadata": {},
     "output_type": "execute_result"
    }
   ],
   "source": [
    "from apstools.utils import listruns, quantify_md_key_use\n",
    "import databroker\n",
    "from databroker.queries import TimeRange\n",
    "\n",
    "db = databroker.catalog[\"class_2021_03\"]\n",
    "listruns()"
   ]
  },
  {
   "cell_type": "markdown",
   "id": "above-personality",
   "metadata": {},
   "source": [
    "Our temperature count measurement is one of those listed, but which one?  Recall how we started our run: `RE(bp.count([temperature], num=50, delay=0.1, md={\"motive\": \"tscan\"}))`.  \n",
    "\n",
    "In case some other type of run is more recent, we'll search for the most recent run with this metadata.  First, find any recent (since Feb 2021) runs with this metadata.  We need to do this search with the `v2` version of databroker catalogs.  The result of the search is another catalog."
   ]
  },
  {
   "cell_type": "code",
   "execution_count": 2,
   "id": "vietnamese-revision",
   "metadata": {},
   "outputs": [
    {
     "name": "stdout",
     "output_type": "stream",
     "text": [
      "Search for runs with motive='tscan' metadata found 1 run(s).\n"
     ]
    }
   ],
   "source": [
    "cat = db.v2.search(TimeRange(since=\"2021-02-02\")).search({\"motive\": \"tscan\"})\n",
    "print(f\"Search for runs with motive='tscan' metadata found {len(cat)} run(s).\")"
   ]
  },
  {
   "cell_type": "markdown",
   "id": "extraordinary-transcript",
   "metadata": {},
   "source": [
    "Show the run's metadata."
   ]
  },
  {
   "cell_type": "code",
   "execution_count": 3,
   "id": "incorporate-triangle",
   "metadata": {},
   "outputs": [
    {
     "data": {
      "text/plain": [
       "{'start': Start({'beamline_id': 'APS_Python_training_2021',\n",
       " 'detectors': ['temperature'],\n",
       " 'hints': {'dimensions': [[['time'], 'primary']]},\n",
       " 'instrument_name': 'class_2021_03',\n",
       " 'login_id': 'jemian@otz.xray.aps.anl.gov',\n",
       " 'motive': 'tscan',\n",
       " 'num_intervals': 49,\n",
       " 'num_points': 50,\n",
       " 'pid': 12191,\n",
       " 'plan_args': {'detectors': [\"MyPvPositioner(prefix='gp:userCalc8', \"\n",
       "                             \"name='temperature', settle_time=0.0, \"\n",
       "                             \"timeout=None, read_attrs=['setpoint', \"\n",
       "                             \"'readback', 'done', 'calculation', \"\n",
       "                             \"'description', 'max_change', 'noise', \"\n",
       "                             \"'previous_value_pv', 'scanning_rate', \"\n",
       "                             \"'tolerance'], configuration_attrs=[], \"\n",
       "                             \"limits=(-20, 255), egu='C')\"],\n",
       "               'num': 50},\n",
       " 'plan_name': 'count',\n",
       " 'plan_type': 'generator',\n",
       " 'proposal_id': 'training',\n",
       " 'scan_id': 42809,\n",
       " 'time': 1614218130.8776371,\n",
       " 'uid': 'dff821e7-98a4-4253-88f5-107ec4c9c2aa',\n",
       " 'versions': {'apstools': '1.4.1',\n",
       "              'bluesky': '1.6.6',\n",
       "              'databroker': '1.1.0',\n",
       "              'epics': '3.4.2',\n",
       "              'h5py': '2.10.0',\n",
       "              'intake': '0.6.0',\n",
       "              'matplotlib': '3.3.2',\n",
       "              'numpy': '1.19.2',\n",
       "              'ophyd': '1.5.4.post44+gc91317f',\n",
       "              'pyRestTable': '2020.0.3',\n",
       "              'spec2nexus': '2021.1.8'}}),\n",
       " 'stop': Stop({'exit_status': 'success',\n",
       " 'num_events': {'baseline': 2, 'primary': 50},\n",
       " 'reason': '',\n",
       " 'run_start': 'dff821e7-98a4-4253-88f5-107ec4c9c2aa',\n",
       " 'time': 1614218136.429909,\n",
       " 'uid': '96ea5475-0bf3-465b-8131-1d74f41f0333'}),\n",
       " 'catalog_dir': None}"
      ]
     },
     "execution_count": 3,
     "metadata": {},
     "output_type": "execute_result"
    }
   ],
   "source": [
    "if len(cat):\n",
    "    run = cat[-1]\n",
    "else:\n",
    "    raise KeyError(\"No runs found with `motive='tscan'`\")\n",
    "\n",
    "run.metadata"
   ]
  },
  {
   "cell_type": "markdown",
   "id": "integral-country",
   "metadata": {},
   "source": [
    "## Get the data (from the database)\n",
    "Let's get the measured data from the database now.  It's the most recent bluesky run, so an index of `-1` will identify it."
   ]
  },
  {
   "cell_type": "code",
   "execution_count": 4,
   "id": "driving-denmark",
   "metadata": {},
   "outputs": [],
   "source": [
    "dataset = db.v2[-1].primary.read()"
   ]
  },
  {
   "cell_type": "markdown",
   "id": "cleared-sympathy",
   "metadata": {},
   "source": [
    "Let's get the values as a 1-D numpy array."
   ]
  },
  {
   "cell_type": "code",
   "execution_count": 5,
   "id": "crucial-genre",
   "metadata": {},
   "outputs": [],
   "source": [
    "T = dataset[\"temperature_readback\"].values"
   ]
  },
  {
   "cell_type": "markdown",
   "id": "catholic-respect",
   "metadata": {},
   "source": [
    "## Compute the statistics\n",
    "Use the methods of numpy arrays to compute maximum, mean, standard deviation, and minimum.  Looks nicer in a table."
   ]
  },
  {
   "cell_type": "code",
   "execution_count": 6,
   "id": "israeli-habitat",
   "metadata": {},
   "outputs": [
    {
     "name": "stdout",
     "output_type": "stream",
     "text": [
      "======= ==================\n",
      "measure value             \n",
      "======= ==================\n",
      "max     25.472167544060426\n",
      "mean    25.03523949034867 \n",
      "dev     0.2544483983769354\n",
      "min     24.54193179217212 \n",
      "#       50                \n",
      "======= ==================\n",
      "\n"
     ]
    }
   ],
   "source": [
    "import pyRestTable\n",
    "\n",
    "table = pyRestTable.Table()\n",
    "table.addLabel(\"measure\")\n",
    "table.addLabel(\"value\")\n",
    "table.addRow((\"max\", T.max()))\n",
    "table.addRow((\"mean\", T.mean()))\n",
    "table.addRow((\"dev\", T.std()))\n",
    "table.addRow((\"min\", T.min()))\n",
    "table.addRow((\"#\", len(T)))\n",
    "print(table)"
   ]
  },
  {
   "cell_type": "markdown",
   "id": "linear-sector",
   "metadata": {},
   "source": [
    "Let's replot that data for comparison."
   ]
  },
  {
   "cell_type": "code",
   "execution_count": 7,
   "id": "numerous-turkey",
   "metadata": {},
   "outputs": [
    {
     "data": {
      "text/plain": [
       "[<matplotlib.lines.Line2D at 0x7f5369e029d0>]"
      ]
     },
     "execution_count": 7,
     "metadata": {},
     "output_type": "execute_result"
    },
    {
     "data": {
      "image/png": "[encoded data removed]",
      "text/plain": [
       "<Figure size 432x288 with 1 Axes>"
      ]
     },
     "metadata": {
      "needs_background": "light"
     },
     "output_type": "display_data"
    }
   ],
   "source": [
    "dataset[\"temperature_readback\"].plot(marker=\"o\", color=\"red\")"
   ]
  }
 ],
 "metadata": {
  "kernelspec": {
   "display_name": "Python 3",
   "language": "python",
   "name": "python3"
  },
  "language_info": {
   "codemirror_mode": {
    "name": "ipython",
    "version": 3
   },
   "file_extension": ".py",
   "mimetype": "text/x-python",
   "name": "python",
   "nbconvert_exporter": "python",
   "pygments_lexer": "ipython3",
   "version": "3.8.5"
  }
 },
 "nbformat": 4,
 "nbformat_minor": 5
}
