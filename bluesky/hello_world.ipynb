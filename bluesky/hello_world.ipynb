{
 "metadata": {
  "language_info": {
   "codemirror_mode": {
    "name": "ipython",
    "version": 3
   },
   "file_extension": ".py",
   "mimetype": "text/x-python",
   "name": "python",
   "nbconvert_exporter": "python",
   "pygments_lexer": "ipython3",
   "version": "3.8.8-final"
  },
  "orig_nbformat": 2,
  "kernelspec": {
   "name": "class_2021_03",
   "display_name": "class_2021_03",
   "language": "python"
  }
 },
 "nbformat": 4,
 "nbformat_minor": 2,
 "cells": [
  {
   "source": [
    "# Bluesky *Hello World*\n",
    "\n",
    "A few lines of Python to test:\n",
    "\n",
    "* account is setup\n",
    "* basic import works\n",
    "* [`ophyd`](blueskyproject.io/ophyd) package is importable\n",
    "* [`PyEpics`](http://pyepics.github.io/pyepics/) connects with [EPICS](https://epics.anl.gov) [IOC](https://github.com/prjemian/epics-docker)\n",
    "* EPICS IOC is running"
   ],
   "cell_type": "markdown",
   "metadata": {}
  },
  {
   "cell_type": "code",
   "execution_count": null,
   "metadata": {},
   "outputs": [],
   "source": [
    "%load_ext dotenv\n",
    "%dotenv env.txt"
   ]
  },
  {
   "cell_type": "code",
   "execution_count": 1,
   "metadata": {},
   "outputs": [
    {
     "output_type": "stream",
     "name": "stdout",
     "text": [
      "ioc = 'gpprjemian:'\n"
     ]
    }
   ],
   "source": [
    "import os\n",
    "user = os.environ[\"USER\"]\n",
    "ioc = f\"gp{user}:\"\n",
    "print(f\"{ioc = }\")"
   ]
  },
  {
   "cell_type": "code",
   "execution_count": 2,
   "metadata": {},
   "outputs": [],
   "source": [
    "from ophyd import EpicsSignal"
   ]
  },
  {
   "cell_type": "code",
   "execution_count": 3,
   "metadata": {},
   "outputs": [
    {
     "output_type": "stream",
     "name": "stdout",
     "text": [
      "uptime.connected = False\n"
     ]
    }
   ],
   "source": [
    "uptime =  EpicsSignal(f\"{ioc}:UPTIME\", name=\"uptime\")\n",
    "print(f\"{uptime.connected = }\")"
   ]
  },
  {
   "cell_type": "code",
   "execution_count": 4,
   "metadata": {},
   "outputs": [
    {
     "output_type": "stream",
     "name": "stdout",
     "text": [
      "uptime.connected = True\n"
     ]
    }
   ],
   "source": [
    "uptime.wait_for_connection()\n",
    "print(f\"{uptime.connected = }\")"
   ]
  },
  {
   "cell_type": "code",
   "execution_count": 5,
   "metadata": {},
   "outputs": [
    {
     "output_type": "stream",
     "name": "stdout",
     "text": [
      "uptime.get() = '00:03:04'\n"
     ]
    }
   ],
   "source": [
    "print(f\"{uptime.get() = }\")"
   ]
  }
 ]
}