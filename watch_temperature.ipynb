{
 "cells": [
  {
   "cell_type": "markdown",
   "id": "loose-worcester",
   "metadata": {},
   "source": [
    "# Watch a temperature : scan temperature *v* time\n",
    "\n",
    "From *2021-03 APS Python Training for Bluesky Data Acquisition*.\n",
    "\n",
    "**Objective**\n",
    "\n",
    "Measure the temperature for a short period and compute basics measures of the collected readings.\n",
    "\n",
    "## Start the `instrument` package\n",
    "\n",
    "Our instrument package is in the `bluesky` subdirectory here so we add that to the search path before importing it."
   ]
  },
  {
   "cell_type": "code",
   "execution_count": 1,
   "id": "historical-providence",
   "metadata": {},
   "outputs": [
    {
     "name": "stderr",
     "output_type": "stream",
     "text": [
      "I Wed-00:31:18 - ############################################################ startup\n",
      "I Wed-00:31:18 - logging started\n",
      "I Wed-00:31:18 - logging level = 10\n",
      "I Wed-00:31:18 - /home/prjemian/Documents/projects/BCDA-APS/bluesky_instrument_training/bluesky/instrument/collection.py\n",
      "I Wed-00:31:18 - /home/prjemian/Documents/projects/BCDA-APS/bluesky_instrument_training/bluesky/instrument/mpl/notebook.py\n",
      "I Wed-00:31:18 - #### Bluesky Framework ####\n",
      "I Wed-00:31:18 - /home/prjemian/Documents/projects/BCDA-APS/bluesky_instrument_training/bluesky/instrument/framework/check_python.py\n",
      "I Wed-00:31:18 - /home/prjemian/Documents/projects/BCDA-APS/bluesky_instrument_training/bluesky/instrument/framework/check_bluesky.py\n"
     ]
    },
    {
     "name": "stdout",
     "output_type": "stream",
     "text": [
      "Activating auto-logging. Current session state plus future input saved.\n",
      "Filename       : /home/prjemian/Documents/projects/BCDA-APS/bluesky_instrument_training/.logs/ipython_console.log\n",
      "Mode           : rotate\n",
      "Output logging : True\n",
      "Raw input log  : False\n",
      "Timestamping   : True\n",
      "State          : active\n"
     ]
    },
    {
     "name": "stderr",
     "output_type": "stream",
     "text": [
      "I Wed-00:31:18 - /home/prjemian/Documents/projects/BCDA-APS/bluesky_instrument_training/bluesky/instrument/framework/initialize.py\n",
      "I Wed-00:31:19 - using databroker catalog 'class_2021_03'\n",
      "I Wed-00:31:19 - /home/prjemian/Documents/projects/BCDA-APS/bluesky_instrument_training/bluesky/instrument/framework/metadata.py\n",
      "I Wed-00:31:19 - #### Devices ####\n",
      "I Wed-00:31:19 - /home/prjemian/Documents/projects/BCDA-APS/bluesky_instrument_training/bluesky/instrument/devices/area_detector.py\n",
      "I Wed-00:31:19 - /home/prjemian/Documents/projects/BCDA-APS/bluesky_instrument_training/bluesky/instrument/devices/calculation_records.py\n",
      "I Wed-00:31:21 - /home/prjemian/Documents/projects/BCDA-APS/bluesky_instrument_training/bluesky/instrument/devices/ioc_stats.py\n",
      "I Wed-00:31:21 - /home/prjemian/Documents/projects/BCDA-APS/bluesky_instrument_training/bluesky/instrument/devices/motors.py\n",
      "I Wed-00:31:21 - /home/prjemian/Documents/projects/BCDA-APS/bluesky_instrument_training/bluesky/instrument/devices/noisy_detector.py\n",
      "I Wed-00:31:21 - /home/prjemian/Documents/projects/BCDA-APS/bluesky_instrument_training/bluesky/instrument/devices/scaler.py\n",
      "I Wed-00:31:23 - /home/prjemian/Documents/projects/BCDA-APS/bluesky_instrument_training/bluesky/instrument/devices/shutter_simulator.py\n",
      "I Wed-00:31:23 - /home/prjemian/Documents/projects/BCDA-APS/bluesky_instrument_training/bluesky/instrument/devices/temperature_signal.py\n",
      "I Wed-00:31:23 - #### Callbacks ####\n",
      "I Wed-00:31:23 - /home/prjemian/Documents/projects/BCDA-APS/bluesky_instrument_training/bluesky/instrument/callbacks/spec_data_file_writer.py\n",
      "I Wed-00:31:23 - writing to SPEC file: /home/prjemian/Documents/projects/BCDA-APS/bluesky_instrument_training/20210317-003123.dat\n",
      "I Wed-00:31:23 -    >>>>   Using default SPEC file name   <<<<\n",
      "I Wed-00:31:23 -    file will be created when bluesky ends its next scan\n",
      "I Wed-00:31:23 -    to change SPEC file, use command:   newSpecFile('title')\n",
      "I Wed-00:31:23 - #### Plans ####\n",
      "I Wed-00:31:23 - /home/prjemian/Documents/projects/BCDA-APS/bluesky_instrument_training/bluesky/instrument/plans/peak_finder_example.py\n",
      "I Wed-00:31:23 - #### Utilities ####\n",
      "I Wed-00:31:23 - /home/prjemian/Documents/projects/BCDA-APS/bluesky_instrument_training/bluesky/instrument/utils/image_analysis.py\n",
      "I Wed-00:31:23 - #### Startup is complete. ####\n"
     ]
    }
   ],
   "source": [
    "import os, sys\n",
    "sys.path.append(os.path.abspath(os.path.join(\".\", \"bluesky\")))\n",
    "from instrument.collection import *"
   ]
  },
  {
   "cell_type": "markdown",
   "id": "mexican-third",
   "metadata": {},
   "source": [
    "## Describe\n",
    "\n",
    "Note the initial settings of the `temperature` (controller).  It's actually an EPICS *swait* record that simulates a temperature sensor and controller.  It has a setpoint, a readback, and a few other support attributes as shown.  A Random noise level is part of the simulation.  We'll compute that noise level from the standard deviation of the measurements."
   ]
  },
  {
   "cell_type": "code",
   "execution_count": 2,
   "id": "connected-longitude",
   "metadata": {},
   "outputs": [
    {
     "name": "stdout",
     "output_type": "stream",
     "text": [
      "============================= =================================== ==========================\n",
      "name                          value                               timestamp                 \n",
      "============================= =================================== ==========================\n",
      "temperature_setpoint          25.0                                2021-03-17 00:31:23.069706\n",
      "temperature_readback          25.0                                2021-03-17 00:31:23.070703\n",
      "temperature_done              True                                2021-03-17 00:31:23.075505\n",
      "temperature_calculation       A+max(-D,min(D,(B-A)))+C*(RNDM-0.5) 2021-03-17 00:31:23.071409\n",
      "temperature_description       temperature                         2021-03-17 00:31:23.067918\n",
      "temperature_max_change        2.0                                 2021-03-17 00:31:23.071165\n",
      "temperature_noise             1.0                                 2021-03-17 00:31:23.070703\n",
      "temperature_previous_value_pv gp:userCalc8.VAL                    2021-03-17 00:31:23.067918\n",
      "temperature_scanning_rate     5                                   2021-03-17 00:31:23.071409\n",
      "temperature_tolerance         1.0                                 2021-03-17 00:31:23.071409\n",
      "============================= =================================== ==========================\n",
      "\n"
     ]
    },
    {
     "data": {
      "text/plain": [
       "<pyRestTable.rest_table.Table at 0x7f5d583c4460>"
      ]
     },
     "execution_count": 2,
     "metadata": {},
     "output_type": "execute_result"
    }
   ],
   "source": [
    "listdevice(temperature)"
   ]
  },
  {
   "cell_type": "markdown",
   "id": "adapted-torture",
   "metadata": {},
   "source": [
    "## Count\n",
    "Use the bluesky RunEngine, `RE`, and a standard plan, `bp.count()`, to count the temperature."
   ]
  },
  {
   "cell_type": "code",
   "execution_count": 3,
   "id": "radical-seeker",
   "metadata": {},
   "outputs": [
    {
     "name": "stdout",
     "output_type": "stream",
     "text": [
      "\n",
      "\n",
      "Transient Scan ID: 29     Time: 2021-03-17 00:31:23\n",
      "Persistent Unique Scan ID: '8e2b3b52-f481-43a0-9060-e941d6f2d11c'\n",
      "New stream: 'baseline'\n",
      "New stream: 'primary'\n",
      "+-----------+------------+----------------------+\n",
      "|   seq_num |       time | temperature_readback |\n",
      "+-----------+------------+----------------------+\n",
      "|         1 | 00:31:23.3 |             25.25967 |\n",
      "+-----------+------------+----------------------+\n",
      "generator count ['8e2b3b52'] (scan num: 29)\n"
     ]
    },
    {
     "data": {
      "text/plain": [
       "('8e2b3b52-f481-43a0-9060-e941d6f2d11c',)"
      ]
     },
     "execution_count": 3,
     "metadata": {},
     "output_type": "execute_result"
    }
   ],
   "source": [
    "RE(bp.count([temperature]))"
   ]
  },
  {
   "cell_type": "markdown",
   "id": "collective-pacific",
   "metadata": {},
   "source": [
    "Take ten readings by adding the `num=10` keyword argument (a.k.a. *kwarg*)."
   ]
  },
  {
   "cell_type": "code",
   "execution_count": 4,
   "id": "dense-insider",
   "metadata": {},
   "outputs": [
    {
     "name": "stdout",
     "output_type": "stream",
     "text": [
      "\n",
      "\n",
      "Transient Scan ID: 30     Time: 2021-03-17 00:31:23\n",
      "Persistent Unique Scan ID: 'aab735d5-738c-4428-912f-0c7e74f04b30'\n",
      "New stream: 'baseline'\n",
      "New stream: 'primary'\n",
      "+-----------+------------+----------------------+\n",
      "|   seq_num |       time | temperature_readback |\n",
      "+-----------+------------+----------------------+\n",
      "|         1 | 00:31:23.8 |             25.25967 |\n",
      "|         2 | 00:31:23.8 |             25.25967 |\n",
      "|         3 | 00:31:23.8 |             25.25967 |\n",
      "|         4 | 00:31:23.9 |             25.25967 |\n",
      "|         5 | 00:31:23.9 |             25.25967 |\n",
      "|         6 | 00:31:23.9 |             25.25967 |\n",
      "|         7 | 00:31:23.9 |             25.25967 |\n",
      "|         8 | 00:31:23.9 |             25.25967 |\n",
      "|         9 | 00:31:24.0 |             25.25967 |\n",
      "|        10 | 00:31:24.0 |             25.25967 |\n",
      "+-----------+------------+----------------------+\n",
      "generator count ['aab735d5'] (scan num: 30)\n"
     ]
    },
    {
     "data": {
      "text/plain": [
       "('aab735d5-738c-4428-912f-0c7e74f04b30',)"
      ]
     },
     "execution_count": 4,
     "metadata": {},
     "output_type": "execute_result"
    },
    {
     "data": {
      "image/png": "[encoded data removed]",
      "text/plain": [
       "<Figure size 360x360 with 1 Axes>"
      ]
     },
     "metadata": {
      "needs_background": "light"
     },
     "output_type": "display_data"
    }
   ],
   "source": [
    "RE(bp.count([temperature], num=10))"
   ]
  },
  {
   "cell_type": "markdown",
   "id": "accompanied-material",
   "metadata": {},
   "source": [
    "Do all the readings look the same?  Perhaps there are only two different values (first one, then the other)?  That's because our measurements were only *reading* the temperature without waiting for it to update.  (If there are two different values, we caught the moment when EPICS updated the calculation.)  The table above showed `temperature_scanning_rate 5` which means EPICS is only updating every 2 seconds."
   ]
  },
  {
   "cell_type": "code",
   "execution_count": 5,
   "id": "administrative-opinion",
   "metadata": {},
   "outputs": [
    {
     "data": {
      "text/plain": [
       "'2 second'"
      ]
     },
     "execution_count": 5,
     "metadata": {},
     "output_type": "execute_result"
    }
   ],
   "source": [
    "temperature.scanning_rate.get(as_string=True)"
   ]
  },
  {
   "cell_type": "markdown",
   "id": "domestic-richmond",
   "metadata": {},
   "source": [
    "## Adjust the measurement interval\n",
    "We need to slow down the measurement to this interval by adding the `delay=2` kwarg, sampling every 2 seconds."
   ]
  },
  {
   "cell_type": "code",
   "execution_count": 6,
   "id": "banner-reference",
   "metadata": {},
   "outputs": [
    {
     "name": "stdout",
     "output_type": "stream",
     "text": [
      "\n",
      "\n",
      "Transient Scan ID: 31     Time: 2021-03-17 00:31:24\n",
      "Persistent Unique Scan ID: '0ac9f009-e731-42f2-abf3-c2e36cb70d0e'\n",
      "New stream: 'baseline'\n",
      "New stream: 'primary'\n",
      "+-----------+------------+----------------------+\n",
      "|   seq_num |       time | temperature_readback |\n",
      "+-----------+------------+----------------------+\n",
      "|         1 | 00:31:24.5 |             25.25967 |\n",
      "|         2 | 00:31:26.5 |             25.17826 |\n",
      "|         3 | 00:31:28.5 |             25.13952 |\n",
      "|         4 | 00:31:30.5 |             24.88978 |\n",
      "|         5 | 00:31:32.5 |             24.94393 |\n",
      "|         6 | 00:31:34.5 |             24.55808 |\n",
      "|         7 | 00:31:36.5 |             25.37408 |\n",
      "|         8 | 00:31:38.5 |             24.79841 |\n",
      "|         9 | 00:31:40.5 |             24.92800 |\n",
      "|        10 | 00:31:42.5 |             24.58536 |\n",
      "+-----------+------------+----------------------+\n",
      "generator count ['0ac9f009'] (scan num: 31)\n"
     ]
    },
    {
     "data": {
      "text/plain": [
       "('0ac9f009-e731-42f2-abf3-c2e36cb70d0e',)"
      ]
     },
     "execution_count": 6,
     "metadata": {},
     "output_type": "execute_result"
    },
    {
     "data": {
      "image/png": "[encoded data removed]",
      "text/plain": [
       "<Figure size 360x360 with 1 Axes>"
      ]
     },
     "metadata": {
      "needs_background": "light"
     },
     "output_type": "display_data"
    }
   ],
   "source": [
    "RE(bp.count([temperature], num=10, delay=2))"
   ]
  },
  {
   "cell_type": "markdown",
   "id": "checked-water",
   "metadata": {},
   "source": [
    "Let's reduce the update interval that EPICS uses, to the shortest interval EPICS provides, so our measurements do not take so long."
   ]
  },
  {
   "cell_type": "code",
   "execution_count": 7,
   "id": "bronze-hollywood",
   "metadata": {},
   "outputs": [
    {
     "name": "stdout",
     "output_type": "stream",
     "text": [
      "('Passive', 'Event', 'I/O Intr', '10 second', '5 second', '2 second', '1 second', '.5 second', '.2 second', '.1 second')\n"
     ]
    },
    {
     "data": {
      "text/plain": [
       "'2 second'"
      ]
     },
     "execution_count": 7,
     "metadata": {},
     "output_type": "execute_result"
    }
   ],
   "source": [
    "# print the list of possible values\n",
    "print(temperature.scanning_rate.enum_strs)\n",
    "\n",
    "# set the shortest interval, by name\n",
    "temperature.scanning_rate.put(\".1 second\")\n",
    "temperature.scanning_rate.get(as_string=True)"
   ]
  },
  {
   "cell_type": "markdown",
   "id": "different-segment",
   "metadata": {},
   "source": [
    "## Collect our measurements\n",
    "Repeat the measurement, this time with more observations.\n",
    "\n",
    "Also, we'll add a metadata key:value pair so that later we can find this data more easily in the database.  Most plans take a `md={}` kwarg where the value is a Python dictionary with the key:value pair(s) to add to the run's metadata."
   ]
  },
  {
   "cell_type": "code",
   "execution_count": 8,
   "id": "hydraulic-latex",
   "metadata": {},
   "outputs": [
    {
     "name": "stdout",
     "output_type": "stream",
     "text": [
      "\n",
      "\n",
      "Transient Scan ID: 32     Time: 2021-03-17 00:31:44\n",
      "Persistent Unique Scan ID: 'be32b29f-0b3d-44f7-93d8-b20bb535f767'\n",
      "New stream: 'baseline'\n",
      "New stream: 'primary'\n",
      "+-----------+------------+----------------------+\n",
      "|   seq_num |       time | temperature_readback |\n",
      "+-----------+------------+----------------------+\n",
      "|         1 | 00:31:45.1 |             24.80861 |\n",
      "|         2 | 00:31:45.1 |             25.27551 |\n",
      "|         3 | 00:31:45.2 |             24.52997 |\n",
      "|         4 | 00:31:45.3 |             25.26422 |\n",
      "|         5 | 00:31:45.4 |             25.22010 |\n",
      "|         6 | 00:31:45.5 |             24.59462 |\n",
      "|         7 | 00:31:45.6 |             24.74448 |\n",
      "|         8 | 00:31:45.7 |             25.47461 |\n",
      "|         9 | 00:31:45.8 |             24.74518 |\n",
      "|        10 | 00:31:45.9 |             24.55061 |\n",
      "|        11 | 00:31:46.0 |             25.28276 |\n",
      "|        12 | 00:31:46.1 |             24.64104 |\n",
      "|        13 | 00:31:46.3 |             24.90211 |\n",
      "|        14 | 00:31:46.4 |             25.24792 |\n",
      "|        15 | 00:31:46.5 |             25.23774 |\n",
      "|        16 | 00:31:46.6 |             24.63545 |\n",
      "|        17 | 00:31:46.7 |             25.34074 |\n",
      "|        18 | 00:31:46.8 |             24.52959 |\n",
      "|        19 | 00:31:46.9 |             25.04896 |\n",
      "|        20 | 00:31:47.0 |             25.23306 |\n",
      "|        21 | 00:31:47.1 |             25.45421 |\n",
      "|        22 | 00:31:47.2 |             25.47046 |\n",
      "|        23 | 00:31:47.3 |             25.26982 |\n",
      "|        24 | 00:31:47.4 |             24.80486 |\n",
      "|        25 | 00:31:47.5 |             25.03565 |\n",
      "|        26 | 00:31:47.6 |             24.83547 |\n",
      "|        27 | 00:31:47.7 |             24.95945 |\n",
      "|        28 | 00:31:47.8 |             25.01720 |\n",
      "|        29 | 00:31:47.9 |             24.55487 |\n",
      "|        30 | 00:31:48.0 |             24.80904 |\n",
      "|        31 | 00:31:48.1 |             25.44499 |\n",
      "|        32 | 00:31:48.2 |             25.34186 |\n",
      "|        33 | 00:31:48.3 |             24.79335 |\n",
      "|        34 | 00:31:48.4 |             24.76317 |\n",
      "|        35 | 00:31:48.5 |             25.12947 |\n",
      "|        36 | 00:31:48.6 |             24.64778 |\n",
      "|        37 | 00:31:48.7 |             25.24125 |\n",
      "|        38 | 00:31:48.8 |             25.01556 |\n",
      "|        39 | 00:31:48.9 |             25.02857 |\n",
      "|        40 | 00:31:49.0 |             24.98171 |\n",
      "|        41 | 00:31:49.1 |             25.14573 |\n",
      "|        42 | 00:31:49.2 |             24.58336 |\n",
      "|        43 | 00:31:49.3 |             25.15451 |\n",
      "|        44 | 00:31:49.4 |             24.70098 |\n",
      "|        45 | 00:31:49.5 |             24.78479 |\n",
      "|        46 | 00:31:49.6 |             25.27554 |\n",
      "|        47 | 00:31:49.7 |             24.57675 |\n",
      "|        48 | 00:31:49.8 |             24.98566 |\n",
      "|        49 | 00:31:49.9 |             25.20419 |\n",
      "+-----------+------------+----------------------+\n",
      "|   seq_num |       time | temperature_readback |\n",
      "+-----------+------------+----------------------+\n",
      "|        50 | 00:31:50.0 |             25.19706 |\n",
      "+-----------+------------+----------------------+\n",
      "generator count ['be32b29f'] (scan num: 32)\n"
     ]
    },
    {
     "data": {
      "text/plain": [
       "('be32b29f-0b3d-44f7-93d8-b20bb535f767',)"
      ]
     },
     "execution_count": 8,
     "metadata": {},
     "output_type": "execute_result"
    },
    {
     "data": {
      "image/png": "[encoded data removed]",
      "text/plain": [
       "<Figure size 360x360 with 1 Axes>"
      ]
     },
     "metadata": {
      "needs_background": "light"
     },
     "output_type": "display_data"
    }
   ],
   "source": [
    "RE(bp.count([temperature], num=50, delay=0.1, md={\"motive\": \"tscan\"}))"
   ]
  },
  {
   "cell_type": "markdown",
   "id": "cognitive-litigation",
   "metadata": {},
   "source": [
    "## Get the data (from the database)\n",
    "Let's get the measured data from the database now.  It's the most recent bluesky run, so an index of `-1` will identify it."
   ]
  },
  {
   "cell_type": "code",
   "execution_count": 9,
   "id": "buried-coordinator",
   "metadata": {},
   "outputs": [],
   "source": [
    "dataset = db.v2[-1].primary.read()"
   ]
  },
  {
   "cell_type": "markdown",
   "id": "provincial-cover",
   "metadata": {},
   "source": [
    "Let's get the values as a 1-D numpy array."
   ]
  },
  {
   "cell_type": "code",
   "execution_count": 10,
   "id": "integrated-depth",
   "metadata": {},
   "outputs": [],
   "source": [
    "T = dataset[\"temperature_readback\"].values"
   ]
  },
  {
   "cell_type": "markdown",
   "id": "solved-collins",
   "metadata": {},
   "source": [
    "## Compute the statistics\n",
    "Use the methods of numpy arrays to compute maximum, mean, standard deviation, and minimum.  Looks nicer in a table."
   ]
  },
  {
   "cell_type": "code",
   "execution_count": 11,
   "id": "together-indonesian",
   "metadata": {},
   "outputs": [
    {
     "name": "stdout",
     "output_type": "stream",
     "text": [
      "======= ==================\n",
      "measure value             \n",
      "======= ==================\n",
      "max     25.474608987563897\n",
      "mean    24.99029221026932 \n",
      "dev     0.2877445557256184\n",
      "min     24.529587243457694\n",
      "#       50                \n",
      "======= ==================\n",
      "\n"
     ]
    }
   ],
   "source": [
    "table = pyRestTable.Table()\n",
    "table.addLabel(\"measure\")\n",
    "table.addLabel(\"value\")\n",
    "table.addRow((\"max\", T.max()))\n",
    "table.addRow((\"mean\", T.mean()))\n",
    "table.addRow((\"dev\", T.std()))\n",
    "table.addRow((\"min\", T.min()))\n",
    "table.addRow((\"#\", len(T)))\n",
    "print(table)"
   ]
  },
  {
   "cell_type": "markdown",
   "id": "military-shock",
   "metadata": {},
   "source": [
    "Let's replot that data for comparison."
   ]
  },
  {
   "cell_type": "code",
   "execution_count": 12,
   "id": "adjacent-actress",
   "metadata": {},
   "outputs": [
    {
     "data": {
      "text/plain": [
       "[<matplotlib.lines.Line2D at 0x7f5d4a9b1040>]"
      ]
     },
     "execution_count": 12,
     "metadata": {},
     "output_type": "execute_result"
    },
    {
     "data": {
      "image/png": "[encoded data removed]",
      "text/plain": [
       "<Figure size 432x288 with 1 Axes>"
      ]
     },
     "metadata": {
      "needs_background": "light"
     },
     "output_type": "display_data"
    }
   ],
   "source": [
    "dataset[\"temperature_readback\"].plot(marker=\"o\", color=\"red\")"
   ]
  }
 ],
 "metadata": {
  "kernelspec": {
   "display_name": "Python 3",
   "language": "python",
   "name": "python3"
  },
  "language_info": {
   "codemirror_mode": {
    "name": "ipython",
    "version": 3
   },
   "file_extension": ".py",
   "mimetype": "text/x-python",
   "name": "python",
   "nbconvert_exporter": "python",
   "pygments_lexer": "ipython3",
   "version": "3.8.8"
  }
 },
 "nbformat": 4,
 "nbformat_minor": 5
}
