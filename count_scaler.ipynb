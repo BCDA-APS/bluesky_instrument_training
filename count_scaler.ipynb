{
 "cells": [
  {
   "cell_type": "markdown",
   "id": "invalid-ready",
   "metadata": {},
   "source": [
    "# Count the scaler\n",
    "\n",
    "From *2021-03 APS Python Training for Bluesky Data Acquisition*.\n",
    "\n",
    "In this notebook, we show how to count the scaler:\n",
    "\n",
    "* on the command line\n",
    "* using ophyd\n",
    "* using the bluesky RunEngine\n",
    "\n",
    "We also show how to:\n",
    "\n",
    "* set the counting time\n",
    "* choose certain channels for data acquisition\n",
    "\n",
    "TODO:\n",
    "\n",
    "## Start the `instrument` package"
   ]
  },
  {
   "cell_type": "code",
   "execution_count": 1,
   "id": "level-geometry",
   "metadata": {},
   "outputs": [
    {
     "output_type": "stream",
     "name": "stderr",
     "text": [
      "I Tue-22:52:52 - ############################################################ startup\n",
      "I Tue-22:52:52 - logging started\n",
      "I Tue-22:52:52 - logging level = 10\n",
      "I Tue-22:52:52 - /home/mintadmin/Documents/projects/BCDA-APS/bluesky_instrument_training/instrument/collection.py\n",
      "I Tue-22:52:52 - /home/mintadmin/Documents/projects/BCDA-APS/bluesky_instrument_training/instrument/mpl/notebook.py\n",
      "Activating auto-logging. Current session state plus future input saved.\n",
      "Filename       : /home/mintadmin/Documents/projects/BCDA-APS/bluesky_instrument_training/.logs/ipython_console.log\n",
      "Mode           : rotate\n",
      "Output logging : True\n",
      "Raw input log  : False\n",
      "Timestamping   : True\n",
      "State          : active\n",
      "I Tue-22:52:52 - bluesky framework\n",
      "I Tue-22:52:52 - /home/mintadmin/Documents/projects/BCDA-APS/bluesky_instrument_training/instrument/framework/check_python.py\n",
      "I Tue-22:52:52 - /home/mintadmin/Documents/projects/BCDA-APS/bluesky_instrument_training/instrument/framework/check_bluesky.py\n",
      "I Tue-22:52:53 - /home/mintadmin/Documents/projects/BCDA-APS/bluesky_instrument_training/instrument/framework/initialize.py\n",
      "I Tue-22:52:54 - /home/mintadmin/Documents/projects/BCDA-APS/bluesky_instrument_training/instrument/framework/metadata.py\n",
      "I Tue-22:52:54 - /home/mintadmin/Documents/projects/BCDA-APS/bluesky_instrument_training/instrument/framework/callbacks.py\n",
      "I Tue-22:52:55 - writing to SPEC file: /home/mintadmin/Documents/projects/BCDA-APS/bluesky_instrument_training/20210223-225255.dat\n",
      "I Tue-22:52:55 -    >>>>   Using default SPEC file name   <<<<\n",
      "I Tue-22:52:55 -    file will be created when bluesky ends its next scan\n",
      "I Tue-22:52:55 -    to change SPEC file, use command:   newSpecFile('title')\n",
      "I Tue-22:52:55 - /home/mintadmin/Documents/projects/BCDA-APS/bluesky_instrument_training/instrument/devices/area_detector.py\n",
      "I Tue-22:52:55 - /home/mintadmin/Documents/projects/BCDA-APS/bluesky_instrument_training/instrument/devices/calculation_records.py\n",
      "I Tue-22:52:59 - /home/mintadmin/Documents/projects/BCDA-APS/bluesky_instrument_training/instrument/devices/ioc_stats.py\n",
      "I Tue-22:52:59 - /home/mintadmin/Documents/projects/BCDA-APS/bluesky_instrument_training/instrument/devices/motors.py\n",
      "I Tue-22:53:00 - /home/mintadmin/Documents/projects/BCDA-APS/bluesky_instrument_training/instrument/devices/noisy.py\n",
      "I Tue-22:53:00 - /home/mintadmin/Documents/projects/BCDA-APS/bluesky_instrument_training/instrument/devices/scaler.py\n",
      "I Tue-22:53:01 - /home/mintadmin/Documents/projects/BCDA-APS/bluesky_instrument_training/instrument/devices/shutter.py\n",
      "I Tue-22:53:01 - /home/mintadmin/Documents/projects/BCDA-APS/bluesky_instrument_training/instrument/devices/temperature_signal.py\n",
      "I Tue-22:53:01 - /home/mintadmin/Documents/projects/BCDA-APS/bluesky_instrument_training/instrument/plans/peak_finder_example.py\n",
      "I Tue-22:53:01 - Startup is complete.\n"
     ]
    }
   ],
   "source": [
    "from instrument.collection import *"
   ]
  },
  {
   "cell_type": "markdown",
   "id": "employed-gabriel",
   "metadata": {},
   "source": [
    "## Let's work with the scaler\n",
    "\n",
    "A scaler is a device that counts digital pulses from a pulse detector such\n",
    "as a scintillation counter or from photodiodes or ionization chamber with\n",
    "pulse chain electronics.  Scalers have\n",
    "many channels, some of which might have no associated detector.  Our scaler\n",
    "(`scaler1`) is a simulated device that records a random number of pulses in \n",
    "each channel.  We are only interested in the channels that have names provided\n",
    "by users in the GUI screens.  In this screen for our scaler, only a few of the\n",
    "channels are named:\n",
    "\n",
    "![`scaler` GUI](resources/scaler.png \"`scaler1` GUI\")"
   ]
  },
  {
   "cell_type": "markdown",
   "id": "headed-muscle",
   "metadata": {},
   "source": [
    "Let's configure `scaler1` to report only the `diode` and `I0` channels (plus the count time channel which will *always* be included).  Keep in mind that the argument to this function is a Python list, so the channel names must be enclosed with `[]`.  The function does not return a result.  If something *is* printed, there is an error to be fixed.\n",
    "\n",
    "NOTE:  To report _all_ named channels again, call the same function with argument in the parentheses."
   ]
  },
  {
   "cell_type": "code",
   "execution_count": 2,
   "id": "empty-glass",
   "metadata": {},
   "outputs": [],
   "source": [
    "scaler1.select_channels([\"diode\", \"I0\"])"
   ]
  },
  {
   "cell_type": "markdown",
   "id": "hawaiian-generic",
   "metadata": {},
   "source": [
    "The _easiest_ way to count the `scaler` object is to use the [`%ct`](https://blueskyproject.io/bluesky/magics.html?highlight=label#taking-a-reading-using-ct-post-v1-3-0) bluesky magic command, which counts all objects with the `detectors` label.\n",
    "\n",
    "Note that the various magic commands are only available from the command line, not for use in a bluesky plan function."
   ]
  },
  {
   "cell_type": "code",
   "execution_count": 3,
   "id": "retained-match",
   "metadata": {},
   "outputs": [
    {
     "output_type": "stream",
     "name": "stdout",
     "text": [
      "[This data will not be saved. Use the RunEngine to collect data.]\n",
      "noisy                          1316.7728834747093\n",
      "I0                             12.0\n",
      "diode                          7.0\n",
      "scaler1_time                   2.1\n"
     ]
    }
   ],
   "source": [
    "%ct"
   ]
  },
  {
   "cell_type": "markdown",
   "id": "cultural-holocaust",
   "metadata": {},
   "source": [
    "Compare with the reading when _all_ channels are selected:"
   ]
  },
  {
   "cell_type": "code",
   "execution_count": 4,
   "id": "significant-hollywood",
   "metadata": {},
   "outputs": [
    {
     "output_type": "stream",
     "name": "stdout",
     "text": [
      "[This data will not be saved. Use the RunEngine to collect data.]\n",
      "noisy                          1316.7728834747093\n",
      "timebase                       21000000.0\n",
      "I0                             6.0\n",
      "scint                          7.0\n",
      "diode                          11.0\n",
      "scaler1_time                   2.1\n"
     ]
    }
   ],
   "source": [
    "scaler1.select_channels()\n",
    "%ct"
   ]
  },
  {
   "cell_type": "markdown",
   "id": "about-celebration",
   "metadata": {},
   "source": [
    "Now, select just the two channels again before continuing:"
   ]
  },
  {
   "cell_type": "code",
   "execution_count": 5,
   "id": "correct-peeing",
   "metadata": {},
   "outputs": [],
   "source": [
    "scaler1.select_channels([\"diode\", \"I0\"])"
   ]
  },
  {
   "cell_type": "markdown",
   "id": "animated-spanish",
   "metadata": {},
   "source": [
    "As noted before, the `%ct` command is only available from the command shell.\n",
    "\n",
    "### use ophyd to count the scaler\n",
    "\n",
    "We should learn how to use the underlying Python code to do the same steps.\n",
    "\n",
    "The first step is to use pure ophyd methods to count and report, then use a bluesky plan to do the same thing.  The ophyd methods are `trigger`, `wait`, and `read`.  The `trigger` and `wait` methods can be chained together:"
   ]
  },
  {
   "cell_type": "code",
   "execution_count": 6,
   "id": "molecular-lawsuit",
   "metadata": {},
   "outputs": [],
   "source": [
    "scaler1.trigger().wait()"
   ]
  },
  {
   "cell_type": "markdown",
   "id": "piano-round",
   "metadata": {},
   "source": [
    "Technically, we should `stage` and `unstage` the object.  **We'll use staging to control the count time of the scaler.**\n",
    "\n",
    "The ophyd [`.stage()` method](https://nsls-ii.github.io/ophyd/generated/ophyd.device.BlueskyInterface.stage.html?highlight=stage#ophyd.device.BlueskyInterface.stage) prepares the object for its `.trigger()` method, while the `.unstage()` method returns the object's settings to the previous state before the `.stage()` method was called."
   ]
  },
  {
   "cell_type": "code",
   "execution_count": 7,
   "id": "corrected-prior",
   "metadata": {},
   "outputs": [
    {
     "output_type": "execute_result",
     "data": {
      "text/plain": [
       "[Channels(prefix='gp:scaler1', name='scaler1_channels', parent='scaler1', read_attrs=['chan02', 'chan02.s', 'chan04', 'chan04.s'], configuration_attrs=['chan02', 'chan02.chname', 'chan02.preset', 'chan02.gate', 'chan04', 'chan04.chname', 'chan04.preset', 'chan04.gate']),\n",
       " ScalerCH(prefix='gp:scaler1', name='scaler1', read_attrs=['channels', 'channels.chan02', 'channels.chan02.s', 'channels.chan04', 'channels.chan04.s', 'time'], configuration_attrs=['channels', 'channels.chan02', 'channels.chan02.chname', 'channels.chan02.preset', 'channels.chan02.gate', 'channels.chan04', 'channels.chan04.chname', 'channels.chan04.preset', 'channels.chan04.gate', 'count_mode', 'delay', 'auto_count_delay', 'freq', 'preset_time', 'auto_count_time', 'egu'])]"
      ]
     },
     "metadata": {},
     "execution_count": 7
    }
   ],
   "source": [
    "scaler1.stage()\n",
    "scaler1.trigger().wait()\n",
    "scaler1.unstage()"
   ]
  },
  {
   "cell_type": "markdown",
   "id": "still-blast",
   "metadata": {},
   "source": [
    "Let's find out what happens when `scaler1` is staged.  That's controlled by the contents of a Python dictionary `.stage_sigs`:"
   ]
  },
  {
   "cell_type": "code",
   "execution_count": 8,
   "id": "initial-turner",
   "metadata": {},
   "outputs": [
    {
     "output_type": "execute_result",
     "data": {
      "text/plain": [
       "OrderedDict()"
      ]
     },
     "metadata": {},
     "execution_count": 8
    }
   ],
   "source": [
    "scaler1.stage_sigs"
   ]
  },
  {
   "cell_type": "markdown",
   "id": "constant-graph",
   "metadata": {},
   "source": [
    "It's empty, so nothing has been preconfigured for us.  Let's make sure that we get to pick the *counting time* (the time to accumulate pulses in the various channels), say 2.0 seconds, when we count here."
   ]
  },
  {
   "cell_type": "code",
   "execution_count": 9,
   "id": "likely-strap",
   "metadata": {},
   "outputs": [
    {
     "output_type": "execute_result",
     "data": {
      "text/plain": [
       "OrderedDict([('preset_time', 2)])"
      ]
     },
     "metadata": {},
     "execution_count": 9
    }
   ],
   "source": [
    "scaler1.stage_sigs[\"preset_time\"] = 2\n",
    "scaler1.stage_sigs"
   ]
  },
  {
   "cell_type": "markdown",
   "id": "gentle-smoke",
   "metadata": {},
   "source": [
    "Show the counting time *before* we count, then `stage`, `trigger`, `wait`, `read`, `unstage`, then finally show the counting time  *after* we count:"
   ]
  },
  {
   "cell_type": "code",
   "execution_count": 10,
   "id": "requested-plymouth",
   "metadata": {},
   "outputs": [
    {
     "output_type": "stream",
     "name": "stdout",
     "text": [
      "Scaler configured to count for 2.0s\n",
      "OrderedDict([('I0', {'value': 10.0, 'timestamp': 1614142393.010983}), ('diode', {'value': 10.0, 'timestamp': 1614142393.010983}), ('scaler1_time', {'value': 2.1, 'timestamp': 1614142390.528019})])\n",
      "Scaler configured to count for 2.0s\n"
     ]
    }
   ],
   "source": [
    "print(f\"Scaler configured to count for {scaler1.preset_time.get()}s\")\n",
    "scaler1.stage()\n",
    "scaler1.trigger().wait()\n",
    "print(scaler1.read())\n",
    "scaler1.unstage()\n",
    "print(f\"Scaler configured to count for {scaler1.preset_time.get()}s\")"
   ]
  },
  {
   "cell_type": "markdown",
   "id": "uniform-encoding",
   "metadata": {},
   "source": [
    "The report from `.read()` includes both values and timestamps (in seconds since the Python [time](https://docs.python.org/3/library/time.html) epoch, UTC).  The structure is a Python dictionary.  This is the low-level method used to collect readings from any ophyd device.  We had to `print()` this since the return result from a command within a sequence is not returned at the end of the sequence, just the return result of the *final* command in the sequence.\n",
    "\n",
    "See that the scaler counted for 2.1 seconds (a small bug in the scaler simulator it seems, always adds .1 to the count time!).  But before staging, the scaler was configured for 1.0 seconds, and after unstaging, the scaler returned to that value.\n",
    "\n",
    "**That's how to control the counting time *for a scaler*.**  (Area detectors use different terms.  More on that later.)"
   ]
  },
  {
   "cell_type": "markdown",
   "id": "fiscal-messaging",
   "metadata": {},
   "source": [
    "<details>\n",
    "    <summary>about <tt>scaler1_time</tt></summary>\n",
    "\n",
    "     Of note is the key `scaler1_time` which is the name of the ophyd symbol `scaler1.time` as returned by `scaler1.time.name`:\n",
    "\n",
    "        In [21]: scaler1.time.name\n",
    "        Out [21]: 'scaler1_time'\n",
    "\n",
    "</details>"
   ]
  },
  {
   "cell_type": "markdown",
   "id": "smart-facing",
   "metadata": {},
   "source": [
    "### use bluesky (the package) to count the scaler\n",
    "\n",
    "Now, use the bluesky [RunEngine](https://blueskyproject.io/bluesky/generated/bluesky.run_engine.RunEngine.html?highlight=runengine#bluesky.run_engine.RunEngine) (`RE`) to count `scaler1`.  We'll use the bluesky plan ([`bp`](https://blueskyproject.io/bluesky/plans.html?highlight=count#pre-assembled-plans)) called [`count()`](https://blueskyproject.io/bluesky/generated/bluesky.plans.count.html#bluesky.plans.count).  To be consistent with the result returned from `%ct`, we'll include the `noisy` detector."
   ]
  },
  {
   "cell_type": "code",
   "execution_count": 11,
   "id": "acoustic-separation",
   "metadata": {},
   "outputs": [
    {
     "output_type": "stream",
     "name": "stdout",
     "text": [
      "\n",
      "\n",
      "Transient Scan ID: 231     Time: 2021-02-23 22:53:13\n",
      "Persistent Unique Scan ID: '780165e5-7af4-4260-9a9f-9b2ca5892b05'\n",
      "New stream: 'baseline'\n",
      "New stream: 'primary'\n",
      "+-----------+------------+------------+------------+------------+\n",
      "|   seq_num |       time |         I0 |      diode |      noisy |\n",
      "+-----------+------------+------------+------------+------------+\n",
      "|         1 | 22:53:15.9 |         11 |         10 | 1316.77288 |\n",
      "+-----------+------------+------------+------------+------------+\n",
      "generator count ['780165e5'] (scan num: 231)\n"
     ]
    },
    {
     "output_type": "execute_result",
     "data": {
      "text/plain": [
       "('780165e5-7af4-4260-9a9f-9b2ca5892b05',)"
      ]
     },
     "metadata": {},
     "execution_count": 11
    }
   ],
   "source": [
    "RE(bp.count([scaler1,noisy]))"
   ]
  },
  {
   "cell_type": "markdown",
   "id": "angry-drunk",
   "metadata": {},
   "source": [
    "There are many ways to view data from bluesky runs.  We'll pick one simple way, as a [dask](https://dask.org/) table since it is easy to display such structured content in a Jupyter notebook."
   ]
  },
  {
   "cell_type": "code",
   "execution_count": 12,
   "id": "frequent-secondary",
   "metadata": {},
   "outputs": [
    {
     "output_type": "execute_result",
     "data": {
      "text/plain": [
       "<xarray.Dataset>\n",
       "Dimensions:                                 (time: 1)\n",
       "Coordinates:\n",
       "  * time                                    (time) float64 1.614e+09\n",
       "Data variables:\n",
       "    I0                                      (time) float64 dask.array<chunksize=(1,), meta=np.ndarray>\n",
       "    diode                                   (time) float64 dask.array<chunksize=(1,), meta=np.ndarray>\n",
       "    scaler1_time                            (time) float64 dask.array<chunksize=(1,), meta=np.ndarray>\n",
       "    noisy                                   (time) float64 dask.array<chunksize=(1,), meta=np.ndarray>\n",
       "    scaler1:scaler1_channels_chan02_chname  (time) <U2 'I0'\n",
       "    scaler1:scaler1_channels_chan02_preset  (time) float64 0.0\n",
       "    scaler1:scaler1_channels_chan02_gate    (time) <U1 'N'\n",
       "    scaler1:scaler1_channels_chan04_chname  (time) <U5 'diode'\n",
       "    scaler1:scaler1_channels_chan04_preset  (time) float64 0.0\n",
       "    scaler1:scaler1_channels_chan04_gate    (time) <U1 'N'\n",
       "    scaler1:scaler1_count_mode              (time) <U7 'OneShot'\n",
       "    scaler1:scaler1_delay                   (time) float64 0.0\n",
       "    scaler1:scaler1_auto_count_delay        (time) float64 0.0\n",
       "    scaler1:scaler1_freq                    (time) float64 1e+07\n",
       "    scaler1:scaler1_preset_time             (time) float64 2.0\n",
       "    scaler1:scaler1_auto_count_time         (time) float64 1.0\n",
       "    scaler1:scaler1_egu                     (time) <U1 ''\n",
       "    noisy:noisy                             (time) float64 1.317e+03\n",
       "    seq_num                                 (time) int64 1\n",
       "    uid                                     (time) <U36 '5b4b82b9-0fa3-4359-9..."
      ],
      "text/html": "<div><svg style=\"position: absolute; width: 0; height: 0; overflow: hidden\">\n<defs>\n<symbol id=\"icon-database\" viewBox=\"0 0 32 32\">\n<path d=\"M16 0c-8.837 0-16 2.239-16 5v4c0 2.761 7.163 5 16 5s16-2.239 16-5v-4c0-2.761-7.163-5-16-5z\"></path>\n<path d=\"M16 17c-8.837 0-16-2.239-16-5v6c0 2.761 7.163 5 16 5s16-2.239 16-5v-6c0 2.761-7.163 5-16 5z\"></path>\n<path d=\"M16 26c-8.837 0-16-2.239-16-5v6c0 2.761 7.163 5 16 5s16-2.239 16-5v-6c0 2.761-7.163 5-16 5z\"></path>\n</symbol>\n<symbol id=\"icon-file-text2\" viewBox=\"0 0 32 32\">\n<path d=\"M28.681 7.159c-0.694-0.947-1.662-2.053-2.724-3.116s-2.169-2.030-3.116-2.724c-1.612-1.182-2.393-1.319-2.841-1.319h-15.5c-1.378 0-2.5 1.121-2.5 2.5v27c0 1.378 1.122 2.5 2.5 2.5h23c1.378 0 2.5-1.122 2.5-2.5v-19.5c0-0.448-0.137-1.23-1.319-2.841zM24.543 5.457c0.959 0.959 1.712 1.825 2.268 2.543h-4.811v-4.811c0.718 0.556 1.584 1.309 2.543 2.268zM28 29.5c0 0.271-0.229 0.5-0.5 0.5h-23c-0.271 0-0.5-0.229-0.5-0.5v-27c0-0.271 0.229-0.5 0.5-0.5 0 0 15.499-0 15.5 0v7c0 0.552 0.448 1 1 1h7v19.5z\"></path>\n<path d=\"M23 26h-14c-0.552 0-1-0.448-1-1s0.448-1 1-1h14c0.552 0 1 0.448 1 1s-0.448 1-1 1z\"></path>\n<path d=\"M23 22h-14c-0.552 0-1-0.448-1-1s0.448-1 1-1h14c0.552 0 1 0.448 1 1s-0.448 1-1 1z\"></path>\n<path d=\"M23 18h-14c-0.552 0-1-0.448-1-1s0.448-1 1-1h14c0.552 0 1 0.448 1 1s-0.448 1-1 1z\"></path>\n</symbol>\n</defs>\n</svg>\n<style>/* CSS stylesheet for displaying xarray objects in jupyterlab.\n *\n */\n\n:root {\n  --xr-font-color0: var(--jp-content-font-color0, rgba(0, 0, 0, 1));\n  --xr-font-color2: var(--jp-content-font-color2, rgba(0, 0, 0, 0.54));\n  --xr-font-color3: var(--jp-content-font-color3, rgba(0, 0, 0, 0.38));\n  --xr-border-color: var(--jp-border-color2, #e0e0e0);\n  --xr-disabled-color: var(--jp-layout-color3, #bdbdbd);\n  --xr-background-color: var(--jp-layout-color0, white);\n  --xr-background-color-row-even: var(--jp-layout-color1, white);\n  --xr-background-color-row-odd: var(--jp-layout-color2, #eeeeee);\n}\n\nhtml[theme=dark],\nbody.vscode-dark {\n  --xr-font-color0: rgba(255, 255, 255, 1);\n  --xr-font-color2: rgba(255, 255, 255, 0.54);\n  --xr-font-color3: rgba(255, 255, 255, 0.38);\n  --xr-border-color: #1F1F1F;\n  --xr-disabled-color: #515151;\n  --xr-background-color: #111111;\n  --xr-background-color-row-even: #111111;\n  --xr-background-color-row-odd: #313131;\n}\n\n.xr-wrap {\n  display: block;\n  min-width: 300px;\n  max-width: 700px;\n}\n\n.xr-text-repr-fallback {\n  /* fallback to plain text repr when CSS is not injected (untrusted notebook) */\n  display: none;\n}\n\n.xr-header {\n  padding-top: 6px;\n  padding-bottom: 6px;\n  margin-bottom: 4px;\n  border-bottom: solid 1px var(--xr-border-color);\n}\n\n.xr-header > div,\n.xr-header > ul {\n  display: inline;\n  margin-top: 0;\n  margin-bottom: 0;\n}\n\n.xr-obj-type,\n.xr-array-name {\n  margin-left: 2px;\n  margin-right: 10px;\n}\n\n.xr-obj-type {\n  color: var(--xr-font-color2);\n}\n\n.xr-sections {\n  padding-left: 0 !important;\n  display: grid;\n  grid-template-columns: 150px auto auto 1fr 20px 20px;\n}\n\n.xr-section-item {\n  display: contents;\n}\n\n.xr-section-item input {\n  display: none;\n}\n\n.xr-section-item input + label {\n  color: var(--xr-disabled-color);\n}\n\n.xr-section-item input:enabled + label {\n  cursor: pointer;\n  color: var(--xr-font-color2);\n}\n\n.xr-section-item input:enabled + label:hover {\n  color: var(--xr-font-color0);\n}\n\n.xr-section-summary {\n  grid-column: 1;\n  color: var(--xr-font-color2);\n  font-weight: 500;\n}\n\n.xr-section-summary > span {\n  display: inline-block;\n  padding-left: 0.5em;\n}\n\n.xr-section-summary-in:disabled + label {\n  color: var(--xr-font-color2);\n}\n\n.xr-section-summary-in + label:before {\n  display: inline-block;\n  content: '►';\n  font-size: 11px;\n  width: 15px;\n  text-align: center;\n}\n\n.xr-section-summary-in:disabled + label:before {\n  color: var(--xr-disabled-color);\n}\n\n.xr-section-summary-in:checked + label:before {\n  content: '▼';\n}\n\n.xr-section-summary-in:checked + label > span {\n  display: none;\n}\n\n.xr-section-summary,\n.xr-section-inline-details {\n  padding-top: 4px;\n  padding-bottom: 4px;\n}\n\n.xr-section-inline-details {\n  grid-column: 2 / -1;\n}\n\n.xr-section-details {\n  display: none;\n  grid-column: 1 / -1;\n  margin-bottom: 5px;\n}\n\n.xr-section-summary-in:checked ~ .xr-section-details {\n  display: contents;\n}\n\n.xr-array-wrap {\n  grid-column: 1 / -1;\n  display: grid;\n  grid-template-columns: 20px auto;\n}\n\n.xr-array-wrap > label {\n  grid-column: 1;\n  vertical-align: top;\n}\n\n.xr-preview {\n  color: var(--xr-font-color3);\n}\n\n.xr-array-preview,\n.xr-array-data {\n  padding: 0 5px !important;\n  grid-column: 2;\n}\n\n.xr-array-data,\n.xr-array-in:checked ~ .xr-array-preview {\n  display: none;\n}\n\n.xr-array-in:checked ~ .xr-array-data,\n.xr-array-preview {\n  display: inline-block;\n}\n\n.xr-dim-list {\n  display: inline-block !important;\n  list-style: none;\n  padding: 0 !important;\n  margin: 0;\n}\n\n.xr-dim-list li {\n  display: inline-block;\n  padding: 0;\n  margin: 0;\n}\n\n.xr-dim-list:before {\n  content: '(';\n}\n\n.xr-dim-list:after {\n  content: ')';\n}\n\n.xr-dim-list li:not(:last-child):after {\n  content: ',';\n  padding-right: 5px;\n}\n\n.xr-has-index {\n  font-weight: bold;\n}\n\n.xr-var-list,\n.xr-var-item {\n  display: contents;\n}\n\n.xr-var-item > div,\n.xr-var-item label,\n.xr-var-item > .xr-var-name span {\n  background-color: var(--xr-background-color-row-even);\n  margin-bottom: 0;\n}\n\n.xr-var-item > .xr-var-name:hover span {\n  padding-right: 5px;\n}\n\n.xr-var-list > li:nth-child(odd) > div,\n.xr-var-list > li:nth-child(odd) > label,\n.xr-var-list > li:nth-child(odd) > .xr-var-name span {\n  background-color: var(--xr-background-color-row-odd);\n}\n\n.xr-var-name {\n  grid-column: 1;\n}\n\n.xr-var-dims {\n  grid-column: 2;\n}\n\n.xr-var-dtype {\n  grid-column: 3;\n  text-align: right;\n  color: var(--xr-font-color2);\n}\n\n.xr-var-preview {\n  grid-column: 4;\n}\n\n.xr-var-name,\n.xr-var-dims,\n.xr-var-dtype,\n.xr-preview,\n.xr-attrs dt {\n  white-space: nowrap;\n  overflow: hidden;\n  text-overflow: ellipsis;\n  padding-right: 10px;\n}\n\n.xr-var-name:hover,\n.xr-var-dims:hover,\n.xr-var-dtype:hover,\n.xr-attrs dt:hover {\n  overflow: visible;\n  width: auto;\n  z-index: 1;\n}\n\n.xr-var-attrs,\n.xr-var-data {\n  display: none;\n  background-color: var(--xr-background-color) !important;\n  padding-bottom: 5px !important;\n}\n\n.xr-var-attrs-in:checked ~ .xr-var-attrs,\n.xr-var-data-in:checked ~ .xr-var-data {\n  display: block;\n}\n\n.xr-var-data > table {\n  float: right;\n}\n\n.xr-var-name span,\n.xr-var-data,\n.xr-attrs {\n  padding-left: 25px !important;\n}\n\n.xr-attrs,\n.xr-var-attrs,\n.xr-var-data {\n  grid-column: 1 / -1;\n}\n\ndl.xr-attrs {\n  padding: 0;\n  margin: 0;\n  display: grid;\n  grid-template-columns: 125px auto;\n}\n\n.xr-attrs dt,\n.xr-attrs dd {\n  padding: 0;\n  margin: 0;\n  float: left;\n  padding-right: 10px;\n  width: auto;\n}\n\n.xr-attrs dt {\n  font-weight: normal;\n  grid-column: 1;\n}\n\n.xr-attrs dt:hover span {\n  display: inline-block;\n  background: var(--xr-background-color);\n  padding-right: 10px;\n}\n\n.xr-attrs dd {\n  grid-column: 2;\n  white-space: pre-wrap;\n  word-break: break-all;\n}\n\n.xr-icon-database,\n.xr-icon-file-text2 {\n  display: inline-block;\n  vertical-align: middle;\n  width: 1em;\n  height: 1.5em !important;\n  stroke-width: 0;\n  stroke: currentColor;\n  fill: currentColor;\n}\n</style><pre class='xr-text-repr-fallback'>&lt;xarray.Dataset&gt;\nDimensions:                                 (time: 1)\nCoordinates:\n  * time                                    (time) float64 1.614e+09\nData variables:\n    I0                                      (time) float64 dask.array&lt;chunksize=(1,), meta=np.ndarray&gt;\n    diode                                   (time) float64 dask.array&lt;chunksize=(1,), meta=np.ndarray&gt;\n    scaler1_time                            (time) float64 dask.array&lt;chunksize=(1,), meta=np.ndarray&gt;\n    noisy                                   (time) float64 dask.array&lt;chunksize=(1,), meta=np.ndarray&gt;\n    scaler1:scaler1_channels_chan02_chname  (time) &lt;U2 &#x27;I0&#x27;\n    scaler1:scaler1_channels_chan02_preset  (time) float64 0.0\n    scaler1:scaler1_channels_chan02_gate    (time) &lt;U1 &#x27;N&#x27;\n    scaler1:scaler1_channels_chan04_chname  (time) &lt;U5 &#x27;diode&#x27;\n    scaler1:scaler1_channels_chan04_preset  (time) float64 0.0\n    scaler1:scaler1_channels_chan04_gate    (time) &lt;U1 &#x27;N&#x27;\n    scaler1:scaler1_count_mode              (time) &lt;U7 &#x27;OneShot&#x27;\n    scaler1:scaler1_delay                   (time) float64 0.0\n    scaler1:scaler1_auto_count_delay        (time) float64 0.0\n    scaler1:scaler1_freq                    (time) float64 1e+07\n    scaler1:scaler1_preset_time             (time) float64 2.0\n    scaler1:scaler1_auto_count_time         (time) float64 1.0\n    scaler1:scaler1_egu                     (time) &lt;U1 &#x27;&#x27;\n    noisy:noisy                             (time) float64 1.317e+03\n    seq_num                                 (time) int64 1\n    uid                                     (time) &lt;U36 &#x27;5b4b82b9-0fa3-4359-9...</pre><div class='xr-wrap' hidden><div class='xr-header'><div class='xr-obj-type'>xarray.Dataset</div></div><ul class='xr-sections'><li class='xr-section-item'><input id='section-2dfd2285-ef0d-4091-9515-b5e9cfd1b989' class='xr-section-summary-in' type='checkbox' disabled ><label for='section-2dfd2285-ef0d-4091-9515-b5e9cfd1b989' class='xr-section-summary'  title='Expand/collapse section'>Dimensions:</label><div class='xr-section-inline-details'><ul class='xr-dim-list'><li><span class='xr-has-index'>time</span>: 1</li></ul></div><div class='xr-section-details'></div></li><li class='xr-section-item'><input id='section-05ddf61c-bf74-44ea-b0c2-d0e62c6fbd44' class='xr-section-summary-in' type='checkbox'  checked><label for='section-05ddf61c-bf74-44ea-b0c2-d0e62c6fbd44' class='xr-section-summary' >Coordinates: <span>(1)</span></label><div class='xr-section-inline-details'></div><div class='xr-section-details'><ul class='xr-var-list'><li class='xr-var-item'><div class='xr-var-name'><span class='xr-has-index'>time</span></div><div class='xr-var-dims'>(time)</div><div class='xr-var-dtype'>float64</div><div class='xr-var-preview xr-preview'>1.614e+09</div><input id='attrs-19301e4f-5dc6-47ac-b2f4-8a2379ace198' class='xr-var-attrs-in' type='checkbox' disabled><label for='attrs-19301e4f-5dc6-47ac-b2f4-8a2379ace198' title='Show/Hide attributes'><svg class='icon xr-icon-file-text2'><use xlink:href='#icon-file-text2'></use></svg></label><input id='data-66add6e9-aba8-4900-9a91-b780bfd2e9f3' class='xr-var-data-in' type='checkbox'><label for='data-66add6e9-aba8-4900-9a91-b780bfd2e9f3' title='Show/Hide data repr'><svg class='icon xr-icon-database'><use xlink:href='#icon-database'></use></svg></label><div class='xr-var-attrs'><dl class='xr-attrs'></dl></div><div class='xr-var-data'><pre>array([1.614142e+09])</pre></div></li></ul></div></li><li class='xr-section-item'><input id='section-b35e64cb-af58-4447-a874-22a25581491e' class='xr-section-summary-in' type='checkbox'  ><label for='section-b35e64cb-af58-4447-a874-22a25581491e' class='xr-section-summary' >Data variables: <span>(20)</span></label><div class='xr-section-inline-details'></div><div class='xr-section-details'><ul class='xr-var-list'><li class='xr-var-item'><div class='xr-var-name'><span>I0</span></div><div class='xr-var-dims'>(time)</div><div class='xr-var-dtype'>float64</div><div class='xr-var-preview xr-preview'>dask.array&lt;chunksize=(1,), meta=np.ndarray&gt;</div><input id='attrs-d593347d-ad94-401c-b9af-91f8b1e1ab85' class='xr-var-attrs-in' type='checkbox' disabled><label for='attrs-d593347d-ad94-401c-b9af-91f8b1e1ab85' title='Show/Hide attributes'><svg class='icon xr-icon-file-text2'><use xlink:href='#icon-file-text2'></use></svg></label><input id='data-308e69c5-570d-4037-bac1-5e82cf1aeef5' class='xr-var-data-in' type='checkbox'><label for='data-308e69c5-570d-4037-bac1-5e82cf1aeef5' title='Show/Hide data repr'><svg class='icon xr-icon-database'><use xlink:href='#icon-database'></use></svg></label><div class='xr-var-attrs'><dl class='xr-attrs'></dl></div><div class='xr-var-data'><table>\n<tr>\n<td>\n<table>\n  <thead>\n    <tr><td> </td><th> Array </th><th> Chunk </th></tr>\n  </thead>\n  <tbody>\n    <tr><th> Bytes </th><td> 8 B </td> <td> 8 B </td></tr>\n    <tr><th> Shape </th><td> (1,) </td> <td> (1,) </td></tr>\n    <tr><th> Count </th><td> 1 Tasks </td><td> 1 Chunks </td></tr>\n    <tr><th> Type </th><td> float64 </td><td> numpy.ndarray </td></tr>\n  </tbody>\n</table>\n</td>\n<td>\n<svg width=\"170\" height=\"170\" style=\"stroke:rgb(0,0,0);stroke-width:1\" >\n\n  <!-- Horizontal lines -->\n  <line x1=\"0\" y1=\"0\" x2=\"120\" y2=\"0\" style=\"stroke-width:2\" />\n  <line x1=\"0\" y1=\"120\" x2=\"120\" y2=\"120\" style=\"stroke-width:2\" />\n\n  <!-- Vertical lines -->\n  <line x1=\"0\" y1=\"0\" x2=\"0\" y2=\"120\" style=\"stroke-width:2\" />\n  <line x1=\"120\" y1=\"0\" x2=\"120\" y2=\"120\" style=\"stroke-width:2\" />\n\n  <!-- Colored Rectangle -->\n  <polygon points=\"0.0,0.0 120.0,0.0 120.0,120.0 0.0,120.0\" style=\"fill:#ECB172A0;stroke-width:0\"/>\n\n  <!-- Text -->\n  <text x=\"60.000000\" y=\"140.000000\" font-size=\"1.0rem\" font-weight=\"100\" text-anchor=\"middle\" >1</text>\n  <text x=\"140.000000\" y=\"60.000000\" font-size=\"1.0rem\" font-weight=\"100\" text-anchor=\"middle\" transform=\"rotate(0,140.000000,60.000000)\">1</text>\n</svg>\n</td>\n</tr>\n</table></div></li><li class='xr-var-item'><div class='xr-var-name'><span>diode</span></div><div class='xr-var-dims'>(time)</div><div class='xr-var-dtype'>float64</div><div class='xr-var-preview xr-preview'>dask.array&lt;chunksize=(1,), meta=np.ndarray&gt;</div><input id='attrs-0984dc68-09a4-42e4-971e-21066164f259' class='xr-var-attrs-in' type='checkbox' disabled><label for='attrs-0984dc68-09a4-42e4-971e-21066164f259' title='Show/Hide attributes'><svg class='icon xr-icon-file-text2'><use xlink:href='#icon-file-text2'></use></svg></label><input id='data-49023232-8d29-4fb0-8ac6-1c93453ea37b' class='xr-var-data-in' type='checkbox'><label for='data-49023232-8d29-4fb0-8ac6-1c93453ea37b' title='Show/Hide data repr'><svg class='icon xr-icon-database'><use xlink:href='#icon-database'></use></svg></label><div class='xr-var-attrs'><dl class='xr-attrs'></dl></div><div class='xr-var-data'><table>\n<tr>\n<td>\n<table>\n  <thead>\n    <tr><td> </td><th> Array </th><th> Chunk </th></tr>\n  </thead>\n  <tbody>\n    <tr><th> Bytes </th><td> 8 B </td> <td> 8 B </td></tr>\n    <tr><th> Shape </th><td> (1,) </td> <td> (1,) </td></tr>\n    <tr><th> Count </th><td> 1 Tasks </td><td> 1 Chunks </td></tr>\n    <tr><th> Type </th><td> float64 </td><td> numpy.ndarray </td></tr>\n  </tbody>\n</table>\n</td>\n<td>\n<svg width=\"170\" height=\"170\" style=\"stroke:rgb(0,0,0);stroke-width:1\" >\n\n  <!-- Horizontal lines -->\n  <line x1=\"0\" y1=\"0\" x2=\"120\" y2=\"0\" style=\"stroke-width:2\" />\n  <line x1=\"0\" y1=\"120\" x2=\"120\" y2=\"120\" style=\"stroke-width:2\" />\n\n  <!-- Vertical lines -->\n  <line x1=\"0\" y1=\"0\" x2=\"0\" y2=\"120\" style=\"stroke-width:2\" />\n  <line x1=\"120\" y1=\"0\" x2=\"120\" y2=\"120\" style=\"stroke-width:2\" />\n\n  <!-- Colored Rectangle -->\n  <polygon points=\"0.0,0.0 120.0,0.0 120.0,120.0 0.0,120.0\" style=\"fill:#ECB172A0;stroke-width:0\"/>\n\n  <!-- Text -->\n  <text x=\"60.000000\" y=\"140.000000\" font-size=\"1.0rem\" font-weight=\"100\" text-anchor=\"middle\" >1</text>\n  <text x=\"140.000000\" y=\"60.000000\" font-size=\"1.0rem\" font-weight=\"100\" text-anchor=\"middle\" transform=\"rotate(0,140.000000,60.000000)\">1</text>\n</svg>\n</td>\n</tr>\n</table></div></li><li class='xr-var-item'><div class='xr-var-name'><span>scaler1_time</span></div><div class='xr-var-dims'>(time)</div><div class='xr-var-dtype'>float64</div><div class='xr-var-preview xr-preview'>dask.array&lt;chunksize=(1,), meta=np.ndarray&gt;</div><input id='attrs-25d10aa5-18e1-4303-9a71-6bf3e1600e0d' class='xr-var-attrs-in' type='checkbox' disabled><label for='attrs-25d10aa5-18e1-4303-9a71-6bf3e1600e0d' title='Show/Hide attributes'><svg class='icon xr-icon-file-text2'><use xlink:href='#icon-file-text2'></use></svg></label><input id='data-561ef304-7ee5-4d77-948a-0cb4b2f5f707' class='xr-var-data-in' type='checkbox'><label for='data-561ef304-7ee5-4d77-948a-0cb4b2f5f707' title='Show/Hide data repr'><svg class='icon xr-icon-database'><use xlink:href='#icon-database'></use></svg></label><div class='xr-var-attrs'><dl class='xr-attrs'></dl></div><div class='xr-var-data'><table>\n<tr>\n<td>\n<table>\n  <thead>\n    <tr><td> </td><th> Array </th><th> Chunk </th></tr>\n  </thead>\n  <tbody>\n    <tr><th> Bytes </th><td> 8 B </td> <td> 8 B </td></tr>\n    <tr><th> Shape </th><td> (1,) </td> <td> (1,) </td></tr>\n    <tr><th> Count </th><td> 1 Tasks </td><td> 1 Chunks </td></tr>\n    <tr><th> Type </th><td> float64 </td><td> numpy.ndarray </td></tr>\n  </tbody>\n</table>\n</td>\n<td>\n<svg width=\"170\" height=\"170\" style=\"stroke:rgb(0,0,0);stroke-width:1\" >\n\n  <!-- Horizontal lines -->\n  <line x1=\"0\" y1=\"0\" x2=\"120\" y2=\"0\" style=\"stroke-width:2\" />\n  <line x1=\"0\" y1=\"120\" x2=\"120\" y2=\"120\" style=\"stroke-width:2\" />\n\n  <!-- Vertical lines -->\n  <line x1=\"0\" y1=\"0\" x2=\"0\" y2=\"120\" style=\"stroke-width:2\" />\n  <line x1=\"120\" y1=\"0\" x2=\"120\" y2=\"120\" style=\"stroke-width:2\" />\n\n  <!-- Colored Rectangle -->\n  <polygon points=\"0.0,0.0 120.0,0.0 120.0,120.0 0.0,120.0\" style=\"fill:#ECB172A0;stroke-width:0\"/>\n\n  <!-- Text -->\n  <text x=\"60.000000\" y=\"140.000000\" font-size=\"1.0rem\" font-weight=\"100\" text-anchor=\"middle\" >1</text>\n  <text x=\"140.000000\" y=\"60.000000\" font-size=\"1.0rem\" font-weight=\"100\" text-anchor=\"middle\" transform=\"rotate(0,140.000000,60.000000)\">1</text>\n</svg>\n</td>\n</tr>\n</table></div></li><li class='xr-var-item'><div class='xr-var-name'><span>noisy</span></div><div class='xr-var-dims'>(time)</div><div class='xr-var-dtype'>float64</div><div class='xr-var-preview xr-preview'>dask.array&lt;chunksize=(1,), meta=np.ndarray&gt;</div><input id='attrs-0f28c643-3142-4a7c-b186-96720d91f6c1' class='xr-var-attrs-in' type='checkbox' disabled><label for='attrs-0f28c643-3142-4a7c-b186-96720d91f6c1' title='Show/Hide attributes'><svg class='icon xr-icon-file-text2'><use xlink:href='#icon-file-text2'></use></svg></label><input id='data-c3083350-a52f-47ec-af06-ee21a4af46e0' class='xr-var-data-in' type='checkbox'><label for='data-c3083350-a52f-47ec-af06-ee21a4af46e0' title='Show/Hide data repr'><svg class='icon xr-icon-database'><use xlink:href='#icon-database'></use></svg></label><div class='xr-var-attrs'><dl class='xr-attrs'></dl></div><div class='xr-var-data'><table>\n<tr>\n<td>\n<table>\n  <thead>\n    <tr><td> </td><th> Array </th><th> Chunk </th></tr>\n  </thead>\n  <tbody>\n    <tr><th> Bytes </th><td> 8 B </td> <td> 8 B </td></tr>\n    <tr><th> Shape </th><td> (1,) </td> <td> (1,) </td></tr>\n    <tr><th> Count </th><td> 1 Tasks </td><td> 1 Chunks </td></tr>\n    <tr><th> Type </th><td> float64 </td><td> numpy.ndarray </td></tr>\n  </tbody>\n</table>\n</td>\n<td>\n<svg width=\"170\" height=\"170\" style=\"stroke:rgb(0,0,0);stroke-width:1\" >\n\n  <!-- Horizontal lines -->\n  <line x1=\"0\" y1=\"0\" x2=\"120\" y2=\"0\" style=\"stroke-width:2\" />\n  <line x1=\"0\" y1=\"120\" x2=\"120\" y2=\"120\" style=\"stroke-width:2\" />\n\n  <!-- Vertical lines -->\n  <line x1=\"0\" y1=\"0\" x2=\"0\" y2=\"120\" style=\"stroke-width:2\" />\n  <line x1=\"120\" y1=\"0\" x2=\"120\" y2=\"120\" style=\"stroke-width:2\" />\n\n  <!-- Colored Rectangle -->\n  <polygon points=\"0.0,0.0 120.0,0.0 120.0,120.0 0.0,120.0\" style=\"fill:#ECB172A0;stroke-width:0\"/>\n\n  <!-- Text -->\n  <text x=\"60.000000\" y=\"140.000000\" font-size=\"1.0rem\" font-weight=\"100\" text-anchor=\"middle\" >1</text>\n  <text x=\"140.000000\" y=\"60.000000\" font-size=\"1.0rem\" font-weight=\"100\" text-anchor=\"middle\" transform=\"rotate(0,140.000000,60.000000)\">1</text>\n</svg>\n</td>\n</tr>\n</table></div></li><li class='xr-var-item'><div class='xr-var-name'><span>scaler1:scaler1_channels_chan02_chname</span></div><div class='xr-var-dims'>(time)</div><div class='xr-var-dtype'>&lt;U2</div><div class='xr-var-preview xr-preview'>&#x27;I0&#x27;</div><input id='attrs-128e2b80-1b99-49f3-8d64-c7fad2f93aa9' class='xr-var-attrs-in' type='checkbox' disabled><label for='attrs-128e2b80-1b99-49f3-8d64-c7fad2f93aa9' title='Show/Hide attributes'><svg class='icon xr-icon-file-text2'><use xlink:href='#icon-file-text2'></use></svg></label><input id='data-96f71aef-8804-471f-ae09-127242dcd310' class='xr-var-data-in' type='checkbox'><label for='data-96f71aef-8804-471f-ae09-127242dcd310' title='Show/Hide data repr'><svg class='icon xr-icon-database'><use xlink:href='#icon-database'></use></svg></label><div class='xr-var-attrs'><dl class='xr-attrs'></dl></div><div class='xr-var-data'><pre>array([&#x27;I0&#x27;], dtype=&#x27;&lt;U2&#x27;)</pre></div></li><li class='xr-var-item'><div class='xr-var-name'><span>scaler1:scaler1_channels_chan02_preset</span></div><div class='xr-var-dims'>(time)</div><div class='xr-var-dtype'>float64</div><div class='xr-var-preview xr-preview'>0.0</div><input id='attrs-5b502603-eceb-47de-9cd1-5fb58a1a3aed' class='xr-var-attrs-in' type='checkbox' disabled><label for='attrs-5b502603-eceb-47de-9cd1-5fb58a1a3aed' title='Show/Hide attributes'><svg class='icon xr-icon-file-text2'><use xlink:href='#icon-file-text2'></use></svg></label><input id='data-8dbd58c6-1726-45e2-bfb4-a535f1e6bd34' class='xr-var-data-in' type='checkbox'><label for='data-8dbd58c6-1726-45e2-bfb4-a535f1e6bd34' title='Show/Hide data repr'><svg class='icon xr-icon-database'><use xlink:href='#icon-database'></use></svg></label><div class='xr-var-attrs'><dl class='xr-attrs'></dl></div><div class='xr-var-data'><pre>array([0.])</pre></div></li><li class='xr-var-item'><div class='xr-var-name'><span>scaler1:scaler1_channels_chan02_gate</span></div><div class='xr-var-dims'>(time)</div><div class='xr-var-dtype'>&lt;U1</div><div class='xr-var-preview xr-preview'>&#x27;N&#x27;</div><input id='attrs-796e5393-15a2-4373-82ff-bff0bb070792' class='xr-var-attrs-in' type='checkbox' disabled><label for='attrs-796e5393-15a2-4373-82ff-bff0bb070792' title='Show/Hide attributes'><svg class='icon xr-icon-file-text2'><use xlink:href='#icon-file-text2'></use></svg></label><input id='data-6be787b9-753e-4f20-9632-fbf0645b5abd' class='xr-var-data-in' type='checkbox'><label for='data-6be787b9-753e-4f20-9632-fbf0645b5abd' title='Show/Hide data repr'><svg class='icon xr-icon-database'><use xlink:href='#icon-database'></use></svg></label><div class='xr-var-attrs'><dl class='xr-attrs'></dl></div><div class='xr-var-data'><pre>array([&#x27;N&#x27;], dtype=&#x27;&lt;U1&#x27;)</pre></div></li><li class='xr-var-item'><div class='xr-var-name'><span>scaler1:scaler1_channels_chan04_chname</span></div><div class='xr-var-dims'>(time)</div><div class='xr-var-dtype'>&lt;U5</div><div class='xr-var-preview xr-preview'>&#x27;diode&#x27;</div><input id='attrs-7e2d7da7-a11c-46c2-a1a0-6cbde2365a14' class='xr-var-attrs-in' type='checkbox' disabled><label for='attrs-7e2d7da7-a11c-46c2-a1a0-6cbde2365a14' title='Show/Hide attributes'><svg class='icon xr-icon-file-text2'><use xlink:href='#icon-file-text2'></use></svg></label><input id='data-183fd5f9-36a0-47f6-b3fe-029340128100' class='xr-var-data-in' type='checkbox'><label for='data-183fd5f9-36a0-47f6-b3fe-029340128100' title='Show/Hide data repr'><svg class='icon xr-icon-database'><use xlink:href='#icon-database'></use></svg></label><div class='xr-var-attrs'><dl class='xr-attrs'></dl></div><div class='xr-var-data'><pre>array([&#x27;diode&#x27;], dtype=&#x27;&lt;U5&#x27;)</pre></div></li><li class='xr-var-item'><div class='xr-var-name'><span>scaler1:scaler1_channels_chan04_preset</span></div><div class='xr-var-dims'>(time)</div><div class='xr-var-dtype'>float64</div><div class='xr-var-preview xr-preview'>0.0</div><input id='attrs-60ce7232-0260-46f2-80c1-693a8dbf7bd2' class='xr-var-attrs-in' type='checkbox' disabled><label for='attrs-60ce7232-0260-46f2-80c1-693a8dbf7bd2' title='Show/Hide attributes'><svg class='icon xr-icon-file-text2'><use xlink:href='#icon-file-text2'></use></svg></label><input id='data-60d16176-ccd3-4d28-ba9b-f665ce5ce90c' class='xr-var-data-in' type='checkbox'><label for='data-60d16176-ccd3-4d28-ba9b-f665ce5ce90c' title='Show/Hide data repr'><svg class='icon xr-icon-database'><use xlink:href='#icon-database'></use></svg></label><div class='xr-var-attrs'><dl class='xr-attrs'></dl></div><div class='xr-var-data'><pre>array([0.])</pre></div></li><li class='xr-var-item'><div class='xr-var-name'><span>scaler1:scaler1_channels_chan04_gate</span></div><div class='xr-var-dims'>(time)</div><div class='xr-var-dtype'>&lt;U1</div><div class='xr-var-preview xr-preview'>&#x27;N&#x27;</div><input id='attrs-1a7516ad-d050-4730-8e41-d384110c6444' class='xr-var-attrs-in' type='checkbox' disabled><label for='attrs-1a7516ad-d050-4730-8e41-d384110c6444' title='Show/Hide attributes'><svg class='icon xr-icon-file-text2'><use xlink:href='#icon-file-text2'></use></svg></label><input id='data-4ee89bc4-cbbc-43f2-bb1d-611c37ae78ae' class='xr-var-data-in' type='checkbox'><label for='data-4ee89bc4-cbbc-43f2-bb1d-611c37ae78ae' title='Show/Hide data repr'><svg class='icon xr-icon-database'><use xlink:href='#icon-database'></use></svg></label><div class='xr-var-attrs'><dl class='xr-attrs'></dl></div><div class='xr-var-data'><pre>array([&#x27;N&#x27;], dtype=&#x27;&lt;U1&#x27;)</pre></div></li><li class='xr-var-item'><div class='xr-var-name'><span>scaler1:scaler1_count_mode</span></div><div class='xr-var-dims'>(time)</div><div class='xr-var-dtype'>&lt;U7</div><div class='xr-var-preview xr-preview'>&#x27;OneShot&#x27;</div><input id='attrs-3847db05-4c09-4098-98e5-e9d0380b3363' class='xr-var-attrs-in' type='checkbox' disabled><label for='attrs-3847db05-4c09-4098-98e5-e9d0380b3363' title='Show/Hide attributes'><svg class='icon xr-icon-file-text2'><use xlink:href='#icon-file-text2'></use></svg></label><input id='data-1bdcb0f2-ad4f-4d1b-9ff6-544846cbd44f' class='xr-var-data-in' type='checkbox'><label for='data-1bdcb0f2-ad4f-4d1b-9ff6-544846cbd44f' title='Show/Hide data repr'><svg class='icon xr-icon-database'><use xlink:href='#icon-database'></use></svg></label><div class='xr-var-attrs'><dl class='xr-attrs'></dl></div><div class='xr-var-data'><pre>array([&#x27;OneShot&#x27;], dtype=&#x27;&lt;U7&#x27;)</pre></div></li><li class='xr-var-item'><div class='xr-var-name'><span>scaler1:scaler1_delay</span></div><div class='xr-var-dims'>(time)</div><div class='xr-var-dtype'>float64</div><div class='xr-var-preview xr-preview'>0.0</div><input id='attrs-c072f170-ce49-4610-ac1c-44feccdea6e2' class='xr-var-attrs-in' type='checkbox' disabled><label for='attrs-c072f170-ce49-4610-ac1c-44feccdea6e2' title='Show/Hide attributes'><svg class='icon xr-icon-file-text2'><use xlink:href='#icon-file-text2'></use></svg></label><input id='data-f3a9059f-fd56-4594-9773-64a61fb7710c' class='xr-var-data-in' type='checkbox'><label for='data-f3a9059f-fd56-4594-9773-64a61fb7710c' title='Show/Hide data repr'><svg class='icon xr-icon-database'><use xlink:href='#icon-database'></use></svg></label><div class='xr-var-attrs'><dl class='xr-attrs'></dl></div><div class='xr-var-data'><pre>array([0.])</pre></div></li><li class='xr-var-item'><div class='xr-var-name'><span>scaler1:scaler1_auto_count_delay</span></div><div class='xr-var-dims'>(time)</div><div class='xr-var-dtype'>float64</div><div class='xr-var-preview xr-preview'>0.0</div><input id='attrs-2eef2e8e-b1eb-47ef-bf73-c5783fc18440' class='xr-var-attrs-in' type='checkbox' disabled><label for='attrs-2eef2e8e-b1eb-47ef-bf73-c5783fc18440' title='Show/Hide attributes'><svg class='icon xr-icon-file-text2'><use xlink:href='#icon-file-text2'></use></svg></label><input id='data-98d43f3c-15ae-453e-835c-01b4c69a79f9' class='xr-var-data-in' type='checkbox'><label for='data-98d43f3c-15ae-453e-835c-01b4c69a79f9' title='Show/Hide data repr'><svg class='icon xr-icon-database'><use xlink:href='#icon-database'></use></svg></label><div class='xr-var-attrs'><dl class='xr-attrs'></dl></div><div class='xr-var-data'><pre>array([0.])</pre></div></li><li class='xr-var-item'><div class='xr-var-name'><span>scaler1:scaler1_freq</span></div><div class='xr-var-dims'>(time)</div><div class='xr-var-dtype'>float64</div><div class='xr-var-preview xr-preview'>1e+07</div><input id='attrs-9cb14dc2-39b8-4721-9895-0aead6812d36' class='xr-var-attrs-in' type='checkbox' disabled><label for='attrs-9cb14dc2-39b8-4721-9895-0aead6812d36' title='Show/Hide attributes'><svg class='icon xr-icon-file-text2'><use xlink:href='#icon-file-text2'></use></svg></label><input id='data-b545d71c-515c-4e06-b283-d00dbfd7fe1d' class='xr-var-data-in' type='checkbox'><label for='data-b545d71c-515c-4e06-b283-d00dbfd7fe1d' title='Show/Hide data repr'><svg class='icon xr-icon-database'><use xlink:href='#icon-database'></use></svg></label><div class='xr-var-attrs'><dl class='xr-attrs'></dl></div><div class='xr-var-data'><pre>array([10000000.])</pre></div></li><li class='xr-var-item'><div class='xr-var-name'><span>scaler1:scaler1_preset_time</span></div><div class='xr-var-dims'>(time)</div><div class='xr-var-dtype'>float64</div><div class='xr-var-preview xr-preview'>2.0</div><input id='attrs-3c1226a6-0f22-4dea-8227-88fe7275cdaa' class='xr-var-attrs-in' type='checkbox' disabled><label for='attrs-3c1226a6-0f22-4dea-8227-88fe7275cdaa' title='Show/Hide attributes'><svg class='icon xr-icon-file-text2'><use xlink:href='#icon-file-text2'></use></svg></label><input id='data-240964fb-06cd-419f-a032-d2d0bd2871f5' class='xr-var-data-in' type='checkbox'><label for='data-240964fb-06cd-419f-a032-d2d0bd2871f5' title='Show/Hide data repr'><svg class='icon xr-icon-database'><use xlink:href='#icon-database'></use></svg></label><div class='xr-var-attrs'><dl class='xr-attrs'></dl></div><div class='xr-var-data'><pre>array([2.])</pre></div></li><li class='xr-var-item'><div class='xr-var-name'><span>scaler1:scaler1_auto_count_time</span></div><div class='xr-var-dims'>(time)</div><div class='xr-var-dtype'>float64</div><div class='xr-var-preview xr-preview'>1.0</div><input id='attrs-21dc5d49-afb5-468d-94d4-7d6ea779033c' class='xr-var-attrs-in' type='checkbox' disabled><label for='attrs-21dc5d49-afb5-468d-94d4-7d6ea779033c' title='Show/Hide attributes'><svg class='icon xr-icon-file-text2'><use xlink:href='#icon-file-text2'></use></svg></label><input id='data-2c3b03d0-7671-4aba-95eb-42605fd7bc60' class='xr-var-data-in' type='checkbox'><label for='data-2c3b03d0-7671-4aba-95eb-42605fd7bc60' title='Show/Hide data repr'><svg class='icon xr-icon-database'><use xlink:href='#icon-database'></use></svg></label><div class='xr-var-attrs'><dl class='xr-attrs'></dl></div><div class='xr-var-data'><pre>array([1.])</pre></div></li><li class='xr-var-item'><div class='xr-var-name'><span>scaler1:scaler1_egu</span></div><div class='xr-var-dims'>(time)</div><div class='xr-var-dtype'>&lt;U1</div><div class='xr-var-preview xr-preview'>&#x27;&#x27;</div><input id='attrs-ff6842ae-190a-44bf-b62e-995a763e7d89' class='xr-var-attrs-in' type='checkbox' disabled><label for='attrs-ff6842ae-190a-44bf-b62e-995a763e7d89' title='Show/Hide attributes'><svg class='icon xr-icon-file-text2'><use xlink:href='#icon-file-text2'></use></svg></label><input id='data-abc10375-2159-48d2-a182-0b3f2d537d6b' class='xr-var-data-in' type='checkbox'><label for='data-abc10375-2159-48d2-a182-0b3f2d537d6b' title='Show/Hide data repr'><svg class='icon xr-icon-database'><use xlink:href='#icon-database'></use></svg></label><div class='xr-var-attrs'><dl class='xr-attrs'></dl></div><div class='xr-var-data'><pre>array([&#x27;&#x27;], dtype=&#x27;&lt;U1&#x27;)</pre></div></li><li class='xr-var-item'><div class='xr-var-name'><span>noisy:noisy</span></div><div class='xr-var-dims'>(time)</div><div class='xr-var-dtype'>float64</div><div class='xr-var-preview xr-preview'>1.317e+03</div><input id='attrs-c8bb5f80-f32e-4a14-94ba-cc350798098d' class='xr-var-attrs-in' type='checkbox' disabled><label for='attrs-c8bb5f80-f32e-4a14-94ba-cc350798098d' title='Show/Hide attributes'><svg class='icon xr-icon-file-text2'><use xlink:href='#icon-file-text2'></use></svg></label><input id='data-1149bd61-678b-4564-8381-8f2fe921d17b' class='xr-var-data-in' type='checkbox'><label for='data-1149bd61-678b-4564-8381-8f2fe921d17b' title='Show/Hide data repr'><svg class='icon xr-icon-database'><use xlink:href='#icon-database'></use></svg></label><div class='xr-var-attrs'><dl class='xr-attrs'></dl></div><div class='xr-var-data'><pre>array([1316.77288347])</pre></div></li><li class='xr-var-item'><div class='xr-var-name'><span>seq_num</span></div><div class='xr-var-dims'>(time)</div><div class='xr-var-dtype'>int64</div><div class='xr-var-preview xr-preview'>1</div><input id='attrs-c45bc5c5-13fd-4bfe-ab76-8f605e9aade9' class='xr-var-attrs-in' type='checkbox' disabled><label for='attrs-c45bc5c5-13fd-4bfe-ab76-8f605e9aade9' title='Show/Hide attributes'><svg class='icon xr-icon-file-text2'><use xlink:href='#icon-file-text2'></use></svg></label><input id='data-9a152edb-bda2-4a88-ab5b-f1d4d53fdf61' class='xr-var-data-in' type='checkbox'><label for='data-9a152edb-bda2-4a88-ab5b-f1d4d53fdf61' title='Show/Hide data repr'><svg class='icon xr-icon-database'><use xlink:href='#icon-database'></use></svg></label><div class='xr-var-attrs'><dl class='xr-attrs'></dl></div><div class='xr-var-data'><pre>array([1])</pre></div></li><li class='xr-var-item'><div class='xr-var-name'><span>uid</span></div><div class='xr-var-dims'>(time)</div><div class='xr-var-dtype'>&lt;U36</div><div class='xr-var-preview xr-preview'>&#x27;5b4b82b9-0fa3-4359-9ad7-63027c4...</div><input id='attrs-78c9701a-13fe-4f65-8d1d-aea75900540d' class='xr-var-attrs-in' type='checkbox' disabled><label for='attrs-78c9701a-13fe-4f65-8d1d-aea75900540d' title='Show/Hide attributes'><svg class='icon xr-icon-file-text2'><use xlink:href='#icon-file-text2'></use></svg></label><input id='data-3904c415-36b7-4dec-ba0b-514635e64fd3' class='xr-var-data-in' type='checkbox'><label for='data-3904c415-36b7-4dec-ba0b-514635e64fd3' title='Show/Hide data repr'><svg class='icon xr-icon-database'><use xlink:href='#icon-database'></use></svg></label><div class='xr-var-attrs'><dl class='xr-attrs'></dl></div><div class='xr-var-data'><pre>array([&#x27;5b4b82b9-0fa3-4359-9ad7-63027c49d6e9&#x27;], dtype=&#x27;&lt;U36&#x27;)</pre></div></li></ul></div></li><li class='xr-section-item'><input id='section-1d784bdf-491f-4429-9cdc-6690180ebbd9' class='xr-section-summary-in' type='checkbox' disabled ><label for='section-1d784bdf-491f-4429-9cdc-6690180ebbd9' class='xr-section-summary'  title='Expand/collapse section'>Attributes: <span>(0)</span></label><div class='xr-section-inline-details'></div><div class='xr-section-details'><dl class='xr-attrs'></dl></div></li></ul></div></div>"
     },
     "metadata": {},
     "execution_count": 12
    }
   ],
   "source": [
    "db.v2[-1].primary.to_dask()"
   ]
  },
  {
   "cell_type": "markdown",
   "id": "formed-fitting",
   "metadata": {},
   "source": [
    "As a last action in this section, use the [`listruns()`](https://apstools.readthedocs.io/en/latest/source/_utils.html?highlight=listobjects#apstools.utils.listruns) command from *apstools* to show the (default: 20) most recent runs in the database.  The table shows a short version of the run's unique identifier (`short_uid`), and other more obvious columns of information, truncated to avoid lengthy output.  The name of the [databroker *catalog*](https://blueskyproject.io/databroker/index.html) (`class_2021_03`) is shown before the table."
   ]
  },
  {
   "cell_type": "code",
   "execution_count": 13,
   "id": "indirect-coral",
   "metadata": {},
   "outputs": [
    {
     "output_type": "stream",
     "name": "stdout",
     "text": [
      "catalog name: class_2021_03\n",
      "========= ========================== ======= ======= ========================================\n",
      "short_uid date/time                  exit    scan_id command                                 \n",
      "========= ========================== ======= ======= ========================================\n",
      "780165e   2021-02-23 22:53:13.051335 success 231     count(detectors=['scaler1', 'noisy'] ...\n",
      "f9f2bc2   2021-02-23 22:33:12.855476 success 230     rel_scan(detectors=['noisy'], num=23 ...\n",
      "75b94b5   2021-02-23 22:33:08.534057 success 229     rel_scan(detectors=['noisy'], num=23 ...\n",
      "78b7fdb   2021-02-23 22:33:01.784896 success 228     rel_scan(detectors=['noisy'], num=23 ...\n",
      "6ee3d39   2021-02-23 22:32:43.917597 success 227     rel_scan(detectors=['noisy'], num=23 ...\n",
      "bae7625   2021-02-23 22:32:39.499707 success 226     rel_scan(detectors=['noisy'], num=23 ...\n",
      "76582b9   2021-02-23 22:32:36.576356 success 225     rel_scan(detectors=['noisy'], num=23 ...\n",
      "67dda3f   2021-02-23 22:32:29.930314 success 224     rel_scan(detectors=['noisy'], num=23 ...\n",
      "e2717ef   2021-02-23 22:32:12.240727 success 223     rel_scan(detectors=['noisy'], num=23 ...\n",
      "69ab1ad   2021-02-23 22:32:04.087022 success 222     rel_scan(detectors=['noisy'], num=23 ...\n",
      "77f09ed   2021-02-23 22:31:48.176467 success 221     rel_scan(detectors=['noisy'], num=23 ...\n",
      "bc3ed7a   2021-02-23 22:26:34.504579 success 220     scan(detectors=['noisy'], num=11, ar ...\n",
      "5304871   2021-02-23 22:26:23.376934 success 219     count(detectors=['temperature'], num=5) \n",
      "b364f24   2021-02-23 22:26:21.685350 success 218     count(detectors=['temperature'], num=5) \n",
      "1e857ae   2021-02-23 22:26:02.768712 success 217     count(detectors=['scaler1', 'noisy', ...\n",
      "8c4f4b6   2021-02-23 22:25:59.649171 success 216     count(detectors=['scaler1', 'noisy', ...\n",
      "a5b0511   2021-02-23 22:18:01.095678 success 215     count(detectors=['scaler1', 'noisy'] ...\n",
      "65c2eb8   2021-02-23 22:02:19.318720 success 214     count(detectors=['adsimdet'], num=1)    \n",
      "d406d51   2021-02-23 22:02:11.078801 success 213     rel_scan(detectors=['noisy'], num=23 ...\n",
      "238dd22   2021-02-23 22:02:05.739347 success 212     rel_scan(detectors=['noisy'], num=23 ...\n",
      "========= ========================== ======= ======= ========================================\n",
      "\n"
     ]
    },
    {
     "output_type": "execute_result",
     "data": {
      "text/plain": [
       "<pyRestTable.rest_table.Table at 0x7f3e9222e850>"
      ]
     },
     "metadata": {},
     "execution_count": 13
    }
   ],
   "source": [
    "listruns()"
   ]
  },
  {
   "cell_type": "markdown",
   "id": "derived-adobe",
   "metadata": {
    "jupyter": {
     "source_hidden": true
    }
   },
   "source": [
    "[`%mov`](https://blueskyproject.io/bluesky/magics.html?highlight=label#moving-a-motor) (Magic command) : move a positioner"
   ]
  }
 ],
 "metadata": {
  "kernelspec": {
   "display_name": "bluesky_2021_1",
   "language": "python",
   "name": "bluesky_2021_1"
  },
  "language_info": {
   "codemirror_mode": {
    "name": "ipython",
    "version": 3
   },
   "file_extension": ".py",
   "mimetype": "text/x-python",
   "name": "python",
   "nbconvert_exporter": "python",
   "pygments_lexer": "ipython3",
   "version": "3.8.2-final"
  }
 },
 "nbformat": 4,
 "nbformat_minor": 5
}