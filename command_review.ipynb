{
 "cells": [
  {
   "cell_type": "markdown",
   "id": "invalid-ready",
   "metadata": {},
   "source": [
    "# Review of commands\n",
    "\n",
    "From *2021-03 APS Python Training for Bluesky Data Acquisition*.\n",
    "\n",
    "In this notebook, the commands described in [Guide: First Steps with Bluesky](https://github.com/BCDA-APS/use_bluesky/blob/main/first_steps_guide.md), are demonstrated using the `instrument` package.\n",
    "\n",
    "## Start the `instrument` package"
   ]
  },
  {
   "cell_type": "code",
   "execution_count": 2,
   "id": "level-geometry",
   "metadata": {},
   "outputs": [
    {
     "output_type": "stream",
     "name": "stderr",
     "text": [
      "I Tue-23:56:50 - ############################################################ startup\n",
      "I Tue-23:56:50 - logging started\n",
      "I Tue-23:56:50 - logging level = 10\n",
      "I Tue-23:56:50 - /home/mintadmin/Documents/projects/BCDA-APS/bluesky_instrument_training/instrument/collection.py\n",
      "I Tue-23:56:50 - /home/mintadmin/Documents/projects/BCDA-APS/bluesky_instrument_training/instrument/mpl/notebook.py\n",
      "Activating auto-logging. Current session state plus future input saved.\n",
      "Filename       : /home/mintadmin/Documents/projects/BCDA-APS/bluesky_instrument_training/.logs/ipython_console.log\n",
      "Mode           : rotate\n",
      "Output logging : True\n",
      "Raw input log  : False\n",
      "Timestamping   : True\n",
      "State          : active\n",
      "I Tue-23:56:51 - bluesky framework\n",
      "I Tue-23:56:51 - /home/mintadmin/Documents/projects/BCDA-APS/bluesky_instrument_training/instrument/framework/check_python.py\n",
      "I Tue-23:56:51 - /home/mintadmin/Documents/projects/BCDA-APS/bluesky_instrument_training/instrument/framework/check_bluesky.py\n",
      "I Tue-23:56:52 - /home/mintadmin/Documents/projects/BCDA-APS/bluesky_instrument_training/instrument/framework/initialize.py\n",
      "I Tue-23:56:53 - /home/mintadmin/Documents/projects/BCDA-APS/bluesky_instrument_training/instrument/framework/metadata.py\n",
      "I Tue-23:56:53 - /home/mintadmin/Documents/projects/BCDA-APS/bluesky_instrument_training/instrument/framework/callbacks.py\n",
      "I Tue-23:56:53 - writing to SPEC file: /home/mintadmin/Documents/projects/BCDA-APS/bluesky_instrument_training/20210223-235653.dat\n",
      "I Tue-23:56:53 -    >>>>   Using default SPEC file name   <<<<\n",
      "I Tue-23:56:53 -    file will be created when bluesky ends its next scan\n",
      "I Tue-23:56:53 -    to change SPEC file, use command:   newSpecFile('title')\n",
      "I Tue-23:56:53 - /home/mintadmin/Documents/projects/BCDA-APS/bluesky_instrument_training/instrument/devices/area_detector.py\n",
      "I Tue-23:56:53 - /home/mintadmin/Documents/projects/BCDA-APS/bluesky_instrument_training/instrument/devices/calculation_records.py\n",
      "I Tue-23:56:56 - /home/mintadmin/Documents/projects/BCDA-APS/bluesky_instrument_training/instrument/devices/ioc_stats.py\n",
      "I Tue-23:56:56 - /home/mintadmin/Documents/projects/BCDA-APS/bluesky_instrument_training/instrument/devices/motors.py\n",
      "I Tue-23:56:57 - /home/mintadmin/Documents/projects/BCDA-APS/bluesky_instrument_training/instrument/devices/noisy.py\n",
      "I Tue-23:56:57 - /home/mintadmin/Documents/projects/BCDA-APS/bluesky_instrument_training/instrument/devices/scaler.py\n",
      "I Tue-23:56:58 - /home/mintadmin/Documents/projects/BCDA-APS/bluesky_instrument_training/instrument/devices/shutter.py\n",
      "I Tue-23:56:58 - /home/mintadmin/Documents/projects/BCDA-APS/bluesky_instrument_training/instrument/devices/temperature_signal.py\n",
      "D Tue-23:56:58 - temperature reached: True\n",
      "I Tue-23:56:58 - /home/mintadmin/Documents/projects/BCDA-APS/bluesky_instrument_training/instrument/plans/peak_finder_example.py\n",
      "I Tue-23:56:58 - Startup is complete.\n"
     ]
    }
   ],
   "source": [
    "from instrument.collection import *"
   ]
  },
  {
   "source": [
    "## List, Describe, Summary\n",
    "\n",
    "On the command line, there is an [IPython magic](https://ipython.readthedocs.io/en/stable/interactive/magics.html#built-in-magic-commands) command from the [bluesky](https://blueskyproject.io/bluesky/) package to print the current value of [labeled](https://blueskyproject.io/bluesky/magics.html?highlight=label) items: [`%wa`]()"
   ],
   "cell_type": "markdown",
   "metadata": {}
  },
  {
   "cell_type": "code",
   "execution_count": 3,
   "metadata": {},
   "outputs": [
    {
     "output_type": "stream",
     "name": "stdout",
     "text": [
      "area_detector\n",
      "  Local variable name                    Ophyd name (to be recorded as metadata)\n",
      "  adsimdet                               adsimdet                              \n",
      "\n",
      "motor\n",
      "  Positioner                     Value       Low Limit   High Limit  Offset     \n",
      "  m1                             0.91        -32000.0    32000.0     0.0        \n",
      "  m10                            0.0         -32000.0    32000.0     0.0        \n",
      "  m11                            0.0         -32000.0    32000.0     0.0        \n",
      "  m12                            0.0         -32000.0    32000.0     0.0        \n",
      "  m13                            0.0         -32000.0    32000.0     0.0        \n",
      "  m14                            0.0         -32000.0    32000.0     0.0        \n",
      "  m15                            0.0         -32000.0    32000.0     0.0        \n",
      "  m16                            0.0         -32000.0    32000.0     0.0        \n",
      "  m2                             0.0         -32000.0    32000.0     0.0        \n",
      "  m3                             0.0         -32000.0    32000.0     0.0        \n",
      "  m4                             0.0         -32000.0    32000.0     0.0        \n",
      "  m5                             0.0         -32000.0    32000.0     0.0        \n",
      "  m6                             0.0         -32000.0    32000.0     0.0        \n",
      "  m7                             0.0         -32000.0    32000.0     0.0        \n",
      "  m8                             0.0         -32000.0    32000.0     0.0        \n",
      "  m9                             0.0         -32000.0    32000.0     0.0        \n",
      "\n",
      "  Local variable name                    Ophyd name (to be recorded as metadata)\n",
      "  m1                                     m1                                    \n",
      "  m10                                    m10                                   \n",
      "  m11                                    m11                                   \n",
      "  m12                                    m12                                   \n",
      "  m13                                    m13                                   \n",
      "  m14                                    m14                                   \n",
      "  m15                                    m15                                   \n",
      "  m16                                    m16                                   \n",
      "  m2                                     m2                                    \n",
      "  m3                                     m3                                    \n",
      "  m4                                     m4                                    \n",
      "  m5                                     m5                                    \n",
      "  m6                                     m6                                    \n",
      "  m7                                     m7                                    \n",
      "  m8                                     m8                                    \n",
      "  m9                                     m9                                    \n",
      "\n",
      "detectors\n",
      "  Local variable name                    Ophyd name (to be recorded as metadata)\n",
      "  noisy                                  noisy                                 \n",
      "  scaler1                                scaler1                               \n",
      "\n",
      "scalers\n",
      "  Local variable name                    Ophyd name (to be recorded as metadata)\n",
      "  scaler1                                scaler1                               \n",
      "\n",
      "channel\n",
      "  Local variable name                    Ophyd name (to be recorded as metadata)\n",
      "  I0                                     I0                                    \n",
      "  diode                                  diode                                 \n",
      "  scaler1.channels.chan01.s              timebase                              \n",
      "  scaler1.channels.chan02.s              I0                                    \n",
      "  scaler1.channels.chan03.s              scint                                 \n",
      "  scaler1.channels.chan04.s              diode                                 \n",
      "  scint                                  scint                                 \n",
      "  timebase                               timebase                              \n",
      "\n",
      "counter\n",
      "  Local variable name                    Ophyd name (to be recorded as metadata)\n",
      "  I0                                     I0                                    \n",
      "  diode                                  diode                                 \n",
      "  scaler1.channels.chan01.s              timebase                              \n",
      "  scaler1.channels.chan02.s              I0                                    \n",
      "  scaler1.channels.chan03.s              scint                                 \n",
      "  scaler1.channels.chan04.s              diode                                 \n",
      "  scint                                  scint                                 \n",
      "  timebase                               timebase                              \n",
      "\n",
      "shutters\n",
      "  Local variable name                    Ophyd name (to be recorded as metadata)\n",
      "  shutter                                shutter                               \n",
      "\n"
     ]
    }
   ],
   "source": [
    "%wa"
   ]
  },
  {
   "source": [
    "Might be a good idea to know now what ophyd symbols are available.  The [apstools](https://apstools.readthedocs.io/en/latest/) package provides a [`listobjects()`](https://apstools.readthedocs.io/en/latest/source/_utils.html?highlight=listobjects#apstools.utils.listobjects) command that prints a table of all the known objects (in the global namespace of the session).  The columns provide the ophyd name (the name you use to call this in Python), the name of the ophyd structure, the EPICS PV (if relevant), and any labels (as used in `%wa` above)."
   ],
   "cell_type": "markdown",
   "metadata": {}
  },
  {
   "cell_type": "code",
   "execution_count": 4,
   "metadata": {},
   "outputs": [
    {
     "output_type": "stream",
     "name": "stdout",
     "text": [
      "=========== ================================ ============= =================\n",
      "name        ophyd structure                  EPICS PV      label(s)         \n",
      "=========== ================================ ============= =================\n",
      "I0          EpicsSignalRO                    gp:scaler1.S2 channel counter  \n",
      "adsimdet    MySimDetector                    ad:           area_detector    \n",
      "calcouts    UserCalcoutDevice                gp:                            \n",
      "calcs       UserCalcsDevice                  gp:                            \n",
      "diode       EpicsSignalRO                    gp:scaler1.S4 channel counter  \n",
      "gp_stats    IocInfoDevice                    gp:                            \n",
      "m1          EpicsMotor                       gp:m1         motor            \n",
      "m10         EpicsMotor                       gp:m10        motor            \n",
      "m11         EpicsMotor                       gp:m11        motor            \n",
      "m12         EpicsMotor                       gp:m12        motor            \n",
      "m13         EpicsMotor                       gp:m13        motor            \n",
      "m14         EpicsMotor                       gp:m14        motor            \n",
      "m15         EpicsMotor                       gp:m15        motor            \n",
      "m16         EpicsMotor                       gp:m16        motor            \n",
      "m2          EpicsMotor                       gp:m2         motor            \n",
      "m3          EpicsMotor                       gp:m3         motor            \n",
      "m4          EpicsMotor                       gp:m4         motor            \n",
      "m5          EpicsMotor                       gp:m5         motor            \n",
      "m6          EpicsMotor                       gp:m6         motor            \n",
      "m7          EpicsMotor                       gp:m7         motor            \n",
      "m8          EpicsMotor                       gp:m8         motor            \n",
      "m9          EpicsMotor                       gp:m9         motor            \n",
      "noisy       EpicsSignalRO                    gp:userCalc1  detectors        \n",
      "scaler1     ScalerCH                         gp:scaler1    detectors scalers\n",
      "scint       EpicsSignalRO                    gp:scaler1.S3 channel counter  \n",
      "shutter     SimulatedApsPssShutterWithStatus               shutters         \n",
      "temperature MyPvPositioner                   gp:userCalc8                   \n",
      "timebase    EpicsSignalRO                    gp:scaler1.S1 channel counter  \n",
      "=========== ================================ ============= =================\n",
      "\n"
     ]
    },
    {
     "output_type": "execute_result",
     "data": {
      "text/plain": [
       "<pyRestTable.rest_table.Table at 0x7f57d262f520>"
      ]
     },
     "metadata": {},
     "execution_count": 4
    }
   ],
   "source": [
    "listobjects()"
   ]
  },
  {
   "cell_type": "markdown",
   "id": "clear-killing",
   "metadata": {},
   "source": [
    "## Read"
   ]
  },
  {
   "source": [
    "## Move"
   ],
   "cell_type": "markdown",
   "metadata": {}
  },
  {
   "source": [
    "## Count"
   ],
   "cell_type": "markdown",
   "metadata": {}
  },
  {
   "source": [
    "## Bluesky Plans _vs_. Command-line Actions"
   ],
   "cell_type": "markdown",
   "metadata": {}
  }
 ],
 "metadata": {
  "kernelspec": {
   "display_name": "bluesky_2021_1",
   "language": "python",
   "name": "bluesky_2021_1"
  },
  "language_info": {
   "codemirror_mode": {
    "name": "ipython",
    "version": 3
   },
   "file_extension": ".py",
   "mimetype": "text/x-python",
   "name": "python",
   "nbconvert_exporter": "python",
   "pygments_lexer": "ipython3",
   "version": "3.8.2-final"
  }
 },
 "nbformat": 4,
 "nbformat_minor": 5
}