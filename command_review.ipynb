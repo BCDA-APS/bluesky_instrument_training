{
 "cells": [
  {
   "cell_type": "markdown",
   "id": "coral-yorkshire",
   "metadata": {},
   "source": [
    "# Review of commands\n",
    "\n",
    "From *2021-03 APS Python Training for Bluesky Data Acquisition*.\n",
    "\n",
    "In this notebook, the commands described in [Guide: First Steps with Bluesky](https://github.com/BCDA-APS/use_bluesky/blob/main/first_steps_guide.md), are demonstrated using the `instrument` package.\n",
    "\n",
    "## Start the `instrument` package"
   ]
  },
  {
   "cell_type": "code",
   "execution_count": 1,
   "id": "attractive-promotion",
   "metadata": {},
   "outputs": [
    {
     "name": "stderr",
     "output_type": "stream",
     "text": [
      "I Wed-22:58:41 - ############################################################ startup\n",
      "I Wed-22:58:41 - logging started\n",
      "I Wed-22:58:41 - logging level = 10\n",
      "I Wed-22:58:41 - /home/beams1/JEMIAN/Documents/projects/BCDA-APS/bluesky_instrument_training/instrument/collection.py\n",
      "I Wed-22:58:41 - /home/beams1/JEMIAN/Documents/projects/BCDA-APS/bluesky_instrument_training/instrument/mpl/notebook.py\n"
     ]
    },
    {
     "name": "stdout",
     "output_type": "stream",
     "text": [
      "Activating auto-logging. Current session state plus future input saved.\n",
      "Filename       : /home/beams1/JEMIAN/Documents/projects/BCDA-APS/bluesky_instrument_training/.logs/ipython_console.log\n",
      "Mode           : rotate\n",
      "Output logging : True\n",
      "Raw input log  : False\n",
      "Timestamping   : True\n",
      "State          : active\n"
     ]
    },
    {
     "name": "stderr",
     "output_type": "stream",
     "text": [
      "I Wed-22:58:43 - #### Bluesky Framework ####\n",
      "I Wed-22:58:43 - /home/beams1/JEMIAN/Documents/projects/BCDA-APS/bluesky_instrument_training/instrument/framework/check_python.py\n",
      "I Wed-22:58:43 - /home/beams1/JEMIAN/Documents/projects/BCDA-APS/bluesky_instrument_training/instrument/framework/check_bluesky.py\n",
      "I Wed-22:58:46 - /home/beams1/JEMIAN/Documents/projects/BCDA-APS/bluesky_instrument_training/instrument/framework/initialize.py\n",
      "I Wed-22:58:52 - using databroker catalog 'class_2021_03'\n",
      "I Wed-22:58:52 - /home/beams1/JEMIAN/Documents/projects/BCDA-APS/bluesky_instrument_training/instrument/framework/metadata.py\n",
      "I Wed-22:58:52 - #### Devices ####\n",
      "I Wed-22:58:52 - /home/beams1/JEMIAN/Documents/projects/BCDA-APS/bluesky_instrument_training/instrument/devices/area_detector.py\n",
      "I Wed-22:58:52 - /home/beams1/JEMIAN/Documents/projects/BCDA-APS/bluesky_instrument_training/instrument/devices/calculation_records.py\n",
      "I Wed-22:58:56 - /home/beams1/JEMIAN/Documents/projects/BCDA-APS/bluesky_instrument_training/instrument/devices/ioc_stats.py\n",
      "I Wed-22:58:56 - /home/beams1/JEMIAN/Documents/projects/BCDA-APS/bluesky_instrument_training/instrument/devices/motors.py\n",
      "I Wed-22:58:56 - /home/beams1/JEMIAN/Documents/projects/BCDA-APS/bluesky_instrument_training/instrument/devices/noisy_detector.py\n",
      "I Wed-22:58:56 - /home/beams1/JEMIAN/Documents/projects/BCDA-APS/bluesky_instrument_training/instrument/devices/scaler.py\n",
      "I Wed-22:58:57 - /home/beams1/JEMIAN/Documents/projects/BCDA-APS/bluesky_instrument_training/instrument/devices/shutter_simulator.py\n",
      "I Wed-22:58:57 - /home/beams1/JEMIAN/Documents/projects/BCDA-APS/bluesky_instrument_training/instrument/devices/temperature_signal.py\n",
      "I Wed-22:58:57 - #### Callbacks ####\n",
      "I Wed-22:58:57 - /home/beams1/JEMIAN/Documents/projects/BCDA-APS/bluesky_instrument_training/instrument/callbacks/spec_data_file_writer.py\n",
      "I Wed-22:58:57 - writing to SPEC file: /home/beams1/JEMIAN/Documents/projects/BCDA-APS/bluesky_instrument_training/20210224-225857.dat\n",
      "I Wed-22:58:57 -    >>>>   Using default SPEC file name   <<<<\n",
      "I Wed-22:58:57 -    file will be created when bluesky ends its next scan\n",
      "I Wed-22:58:57 -    to change SPEC file, use command:   newSpecFile('title')\n",
      "I Wed-22:58:57 - #### Plans ####\n",
      "I Wed-22:58:57 - /home/beams1/JEMIAN/Documents/projects/BCDA-APS/bluesky_instrument_training/instrument/plans/peak_finder_example.py\n",
      "I Wed-22:58:57 - #### Utilities ####\n",
      "I Wed-22:58:57 - #### Startup is complete. ####\n"
     ]
    }
   ],
   "source": [
    "from instrument.collection import *"
   ]
  },
  {
   "cell_type": "markdown",
   "id": "piano-tours",
   "metadata": {},
   "source": [
    "## List, Describe, Summary\n",
    "\n",
    "On the command line, there is an [IPython magic](https://ipython.readthedocs.io/en/stable/interactive/magics.html#built-in-magic-commands) command from the [bluesky](https://blueskyproject.io/bluesky/) package to print the current value of [labeled](https://blueskyproject.io/bluesky/magics.html?highlight=label) items: [`%wa`]()"
   ]
  },
  {
   "cell_type": "code",
   "execution_count": 2,
   "id": "cubic-humor",
   "metadata": {},
   "outputs": [
    {
     "name": "stdout",
     "output_type": "stream",
     "text": [
      "area_detector\n",
      "  Local variable name                    Ophyd name (to be recorded as metadata)\n",
      "  adsimdet                               adsimdet                              \n",
      "\n",
      "motor\n",
      "  Positioner                     Value       Low Limit   High Limit  Offset     \n",
      "  m1                             0.449       -32000.0    32000.0     0.0        \n",
      "  m10                            0.0         -32000.0    32000.0     0.0        \n",
      "  m11                            0.0         -32000.0    32000.0     0.0        \n",
      "  m12                            0.0         -32000.0    32000.0     0.0        \n",
      "  m13                            0.0         -32000.0    32000.0     0.0        \n",
      "  m14                            0.0         -32000.0    32000.0     0.0        \n",
      "  m15                            0.0         -32000.0    32000.0     0.0        \n",
      "  m16                            0.0         -32000.0    32000.0     0.0        \n",
      "  m2                             0.0         -32000.0    32000.0     0.0        \n",
      "  m3                             0.0         -32000.0    32000.0     0.0        \n",
      "  m4                             0.0         -32000.0    32000.0     0.0        \n",
      "  m5                             0.0         -32000.0    32000.0     0.0        \n",
      "  m6                             0.0         -32000.0    32000.0     0.0        \n",
      "  m7                             0.0         -32000.0    32000.0     0.0        \n",
      "  m8                             0.0         -32000.0    32000.0     0.0        \n",
      "  m9                             0.0         -32000.0    32000.0     0.0        \n",
      "\n",
      "  Local variable name                    Ophyd name (to be recorded as metadata)\n",
      "  m1                                     m1                                    \n",
      "  m10                                    m10                                   \n",
      "  m11                                    m11                                   \n",
      "  m12                                    m12                                   \n",
      "  m13                                    m13                                   \n",
      "  m14                                    m14                                   \n",
      "  m15                                    m15                                   \n",
      "  m16                                    m16                                   \n",
      "  m2                                     m2                                    \n",
      "  m3                                     m3                                    \n",
      "  m4                                     m4                                    \n",
      "  m5                                     m5                                    \n",
      "  m6                                     m6                                    \n",
      "  m7                                     m7                                    \n",
      "  m8                                     m8                                    \n",
      "  m9                                     m9                                    \n",
      "\n",
      "detectors\n",
      "  Local variable name                    Ophyd name (to be recorded as metadata)\n",
      "  noisy                                  noisy                                 \n",
      "  scaler1                                scaler1                               \n",
      "\n",
      "scalers\n",
      "  Local variable name                    Ophyd name (to be recorded as metadata)\n",
      "  scaler1                                scaler1                               \n",
      "\n",
      "counter\n",
      "  Local variable name                    Ophyd name (to be recorded as metadata)\n",
      "  I0                                     I0                                    \n",
      "  diode                                  diode                                 \n",
      "  scaler1.channels.chan01.s              timebase                              \n",
      "  scaler1.channels.chan02.s              I0                                    \n",
      "  scaler1.channels.chan03.s              scint                                 \n",
      "  scaler1.channels.chan04.s              diode                                 \n",
      "  scint                                  scint                                 \n",
      "  timebase                               timebase                              \n",
      "\n",
      "channel\n",
      "  Local variable name                    Ophyd name (to be recorded as metadata)\n",
      "  I0                                     I0                                    \n",
      "  diode                                  diode                                 \n",
      "  scaler1.channels.chan01.s              timebase                              \n",
      "  scaler1.channels.chan02.s              I0                                    \n",
      "  scaler1.channels.chan03.s              scint                                 \n",
      "  scaler1.channels.chan04.s              diode                                 \n",
      "  scint                                  scint                                 \n",
      "  timebase                               timebase                              \n",
      "\n",
      "shutters\n",
      "  Local variable name                    Ophyd name (to be recorded as metadata)\n",
      "  shutter                                shutter                               \n",
      "\n"
     ]
    }
   ],
   "source": [
    "%wa"
   ]
  },
  {
   "cell_type": "markdown",
   "id": "portuguese-subscriber",
   "metadata": {},
   "source": [
    "Might be a good idea to know now what ophyd symbols are available.  The [apstools](https://apstools.readthedocs.io/en/latest/) package provides a [`listobjects()`](https://apstools.readthedocs.io/en/latest/source/_utils.html?highlight=listobjects#apstools.utils.listobjects) command that prints a table of all the known objects (in the global namespace of the session).  The columns provide the ophyd name (the name you use to call this in Python), the name of the ophyd structure, the EPICS PV (if relevant), and any labels (as used in `%wa` above)."
   ]
  },
  {
   "cell_type": "code",
   "execution_count": 3,
   "id": "expired-threshold",
   "metadata": {},
   "outputs": [
    {
     "name": "stdout",
     "output_type": "stream",
     "text": [
      "=========== ================================ ============= =================\n",
      "name        ophyd structure                  EPICS PV      label(s)         \n",
      "=========== ================================ ============= =================\n",
      "I0          EpicsSignalRO                    gp:scaler1.S2 counter channel  \n",
      "adsimdet    MySimDetector                    ad:           area_detector    \n",
      "calcouts    UserCalcoutDevice                gp:                            \n",
      "calcs       UserCalcsDevice                  gp:                            \n",
      "diode       EpicsSignalRO                    gp:scaler1.S4 counter channel  \n",
      "gp_stats    IocInfoDevice                    gp:                            \n",
      "m1          MyEpicsMotor                     gp:m1         motor            \n",
      "m10         MyEpicsMotor                     gp:m10        motor            \n",
      "m11         MyEpicsMotor                     gp:m11        motor            \n",
      "m12         MyEpicsMotor                     gp:m12        motor            \n",
      "m13         MyEpicsMotor                     gp:m13        motor            \n",
      "m14         MyEpicsMotor                     gp:m14        motor            \n",
      "m15         MyEpicsMotor                     gp:m15        motor            \n",
      "m16         MyEpicsMotor                     gp:m16        motor            \n",
      "m2          MyEpicsMotor                     gp:m2         motor            \n",
      "m3          MyEpicsMotor                     gp:m3         motor            \n",
      "m4          MyEpicsMotor                     gp:m4         motor            \n",
      "m5          MyEpicsMotor                     gp:m5         motor            \n",
      "m6          MyEpicsMotor                     gp:m6         motor            \n",
      "m7          MyEpicsMotor                     gp:m7         motor            \n",
      "m8          MyEpicsMotor                     gp:m8         motor            \n",
      "m9          MyEpicsMotor                     gp:m9         motor            \n",
      "noisy       EpicsSignalRO                    gp:userCalc1  detectors        \n",
      "scaler1     ScalerCH                         gp:scaler1    detectors scalers\n",
      "scint       EpicsSignalRO                    gp:scaler1.S3 counter channel  \n",
      "shutter     SimulatedApsPssShutterWithStatus               shutters         \n",
      "temperature MyPvPositioner                   gp:userCalc8                   \n",
      "timebase    EpicsSignalRO                    gp:scaler1.S1 counter channel  \n",
      "=========== ================================ ============= =================\n",
      "\n"
     ]
    },
    {
     "data": {
      "text/plain": [
       "<pyRestTable.rest_table.Table at 0x7f389cda29a0>"
      ]
     },
     "execution_count": 3,
     "metadata": {},
     "output_type": "execute_result"
    }
   ],
   "source": [
    "listobjects()"
   ]
  },
  {
   "cell_type": "markdown",
   "id": "fiscal-works",
   "metadata": {},
   "source": [
    "## Read"
   ]
  },
  {
   "cell_type": "markdown",
   "id": "historical-thunder",
   "metadata": {},
   "source": [
    "## Move"
   ]
  },
  {
   "cell_type": "markdown",
   "id": "textile-necessity",
   "metadata": {},
   "source": [
    "## Count"
   ]
  },
  {
   "cell_type": "markdown",
   "id": "comparative-negotiation",
   "metadata": {},
   "source": [
    "## Bluesky Plans _vs_. Command-line Actions"
   ]
  }
 ],
 "metadata": {
  "kernelspec": {
   "display_name": "class_2021_03",
   "language": "python",
   "name": "class_2021_03"
  },
  "language_info": {
   "codemirror_mode": {
    "name": "ipython",
    "version": 3
   },
   "file_extension": ".py",
   "mimetype": "text/x-python",
   "name": "python",
   "nbconvert_exporter": "python",
   "pygments_lexer": "ipython3",
   "version": "3.8.5"
  }
 },
 "nbformat": 4,
 "nbformat_minor": 5
}
