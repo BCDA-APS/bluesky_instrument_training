{
 "cells": [
  {
   "cell_type": "markdown",
   "id": "invalid-ready",
   "metadata": {},
   "source": [
    "# Review of commands\n",
    "\n",
    "From *2021-03 APS Python Training for Bluesky Data Acquisition*.\n",
    "\n",
    "In this notebook, the commands described in [Guide: First Steps with Bluesky](https://github.com/BCDA-APS/use_bluesky/blob/main/first_steps_guide.md), are demonstrated using the `instrument` package.\n",
    "\n",
    "## Start the `instrument` package"
   ]
  },
  {
   "cell_type": "code",
   "execution_count": 1,
   "id": "level-geometry",
   "metadata": {},
   "outputs": [
    {
     "output_type": "stream",
     "name": "stderr",
     "text": [
      "I Tue-23:02:52 - ############################################################ startup\n",
      "I Tue-23:02:52 - logging started\n",
      "I Tue-23:02:52 - logging level = 10\n",
      "I Tue-23:02:52 - /home/mintadmin/Documents/projects/BCDA-APS/bluesky_instrument_training/instrument/collection.py\n",
      "I Tue-23:02:52 - /home/mintadmin/Documents/projects/BCDA-APS/bluesky_instrument_training/instrument/mpl/notebook.py\n",
      "Activating auto-logging. Current session state plus future input saved.\n",
      "Filename       : /home/mintadmin/Documents/projects/BCDA-APS/bluesky_instrument_training/.logs/ipython_console.log\n",
      "Mode           : rotate\n",
      "Output logging : True\n",
      "Raw input log  : False\n",
      "Timestamping   : True\n",
      "State          : active\n",
      "I Tue-23:02:53 - bluesky framework\n",
      "I Tue-23:02:53 - /home/mintadmin/Documents/projects/BCDA-APS/bluesky_instrument_training/instrument/framework/check_python.py\n",
      "I Tue-23:02:53 - /home/mintadmin/Documents/projects/BCDA-APS/bluesky_instrument_training/instrument/framework/check_bluesky.py\n",
      "I Tue-23:02:54 - /home/mintadmin/Documents/projects/BCDA-APS/bluesky_instrument_training/instrument/framework/initialize.py\n",
      "I Tue-23:02:55 - /home/mintadmin/Documents/projects/BCDA-APS/bluesky_instrument_training/instrument/framework/metadata.py\n",
      "I Tue-23:02:55 - /home/mintadmin/Documents/projects/BCDA-APS/bluesky_instrument_training/instrument/framework/callbacks.py\n",
      "I Tue-23:02:55 - writing to SPEC file: /home/mintadmin/Documents/projects/BCDA-APS/bluesky_instrument_training/20210223-230255.dat\n",
      "I Tue-23:02:55 -    >>>>   Using default SPEC file name   <<<<\n",
      "I Tue-23:02:55 -    file will be created when bluesky ends its next scan\n",
      "I Tue-23:02:55 -    to change SPEC file, use command:   newSpecFile('title')\n",
      "I Tue-23:02:55 - /home/mintadmin/Documents/projects/BCDA-APS/bluesky_instrument_training/instrument/devices/area_detector.py\n",
      "I Tue-23:02:55 - /home/mintadmin/Documents/projects/BCDA-APS/bluesky_instrument_training/instrument/devices/calculation_records.py\n",
      "I Tue-23:02:59 - /home/mintadmin/Documents/projects/BCDA-APS/bluesky_instrument_training/instrument/devices/ioc_stats.py\n",
      "I Tue-23:02:59 - /home/mintadmin/Documents/projects/BCDA-APS/bluesky_instrument_training/instrument/devices/motors.py\n",
      "I Tue-23:02:59 - /home/mintadmin/Documents/projects/BCDA-APS/bluesky_instrument_training/instrument/devices/noisy.py\n",
      "I Tue-23:03:00 - /home/mintadmin/Documents/projects/BCDA-APS/bluesky_instrument_training/instrument/devices/scaler.py\n",
      "I Tue-23:03:01 - /home/mintadmin/Documents/projects/BCDA-APS/bluesky_instrument_training/instrument/devices/shutter.py\n",
      "I Tue-23:03:01 - /home/mintadmin/Documents/projects/BCDA-APS/bluesky_instrument_training/instrument/devices/temperature_signal.py\n",
      "I Tue-23:03:01 - /home/mintadmin/Documents/projects/BCDA-APS/bluesky_instrument_training/instrument/plans/peak_finder_example.py\n",
      "I Tue-23:03:01 - Startup is complete.\n"
     ]
    }
   ],
   "source": [
    "from instrument.collection import *"
   ]
  },
  {
   "cell_type": "markdown",
   "id": "clear-killing",
   "metadata": {},
   "source": [
    "## aaaaa"
   ]
  }
 ],
 "metadata": {
  "kernelspec": {
   "display_name": "bluesky_2021_1",
   "language": "python",
   "name": "bluesky_2021_1"
  },
  "language_info": {
   "codemirror_mode": {
    "name": "ipython",
    "version": 3
   },
   "file_extension": ".py",
   "mimetype": "text/x-python",
   "name": "python",
   "nbconvert_exporter": "python",
   "pygments_lexer": "ipython3",
   "version": "3.8.2-final"
  }
 },
 "nbformat": 4,
 "nbformat_minor": 5
}