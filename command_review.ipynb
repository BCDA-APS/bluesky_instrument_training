{
 "cells": [
  {
   "cell_type": "markdown",
   "id": "bigger-origin",
   "metadata": {},
   "source": [
    "# Review of commands\n",
    "\n",
    "From *2021-03 APS Python Training for Bluesky Data Acquisition*.\n",
    "\n",
    "In this notebook, the commands described in [Guide: First Steps with Bluesky](https://github.com/BCDA-APS/use_bluesky/blob/main/first_steps_guide.md), are demonstrated using the `instrument` package.\n",
    "\n",
    "## Start the `instrument` package"
   ]
  },
  {
   "cell_type": "code",
   "execution_count": 1,
   "id": "appointed-excitement",
   "metadata": {},
   "outputs": [
    {
     "name": "stdout",
     "output_type": "stream",
     "text": [
      "Activating auto-logging. Current session state plus future input saved.\n",
      "Filename       : /home/mintadmin/Documents/projects/BCDA-APS/bluesky_instrument_training/.logs/ipython_console.log\n",
      "Mode           : rotate\n",
      "Output logging : True\n",
      "Raw input log  : False\n",
      "Timestamping   : True\n",
      "State          : active\n"
     ]
    },
    {
     "name": "stderr",
     "output_type": "stream",
     "text": [
      "I Thu-22:30:26 - #### Bluesky Framework ####\n",
      "I Thu-22:30:26 - /home/mintadmin/Documents/projects/BCDA-APS/bluesky_instrument_training/instrument/framework/check_python.py\n",
      "I Thu-22:30:26 - /home/mintadmin/Documents/projects/BCDA-APS/bluesky_instrument_training/instrument/framework/check_bluesky.py\n",
      "I Thu-22:30:26 - /home/mintadmin/Documents/projects/BCDA-APS/bluesky_instrument_training/instrument/framework/initialize.py\n",
      "I Thu-22:30:27 - using databroker catalog 'class_2021_03'\n",
      "I Thu-22:30:27 - /home/mintadmin/Documents/projects/BCDA-APS/bluesky_instrument_training/instrument/framework/metadata.py\n",
      "I Thu-22:30:27 - #### Devices ####\n",
      "I Thu-22:30:27 - /home/mintadmin/Documents/projects/BCDA-APS/bluesky_instrument_training/instrument/devices/area_detector.py\n",
      "I Thu-22:30:27 - /home/mintadmin/Documents/projects/BCDA-APS/bluesky_instrument_training/instrument/devices/calculation_records.py\n",
      "I Thu-22:30:30 - /home/mintadmin/Documents/projects/BCDA-APS/bluesky_instrument_training/instrument/devices/ioc_stats.py\n",
      "I Thu-22:30:30 - /home/mintadmin/Documents/projects/BCDA-APS/bluesky_instrument_training/instrument/devices/motors.py\n",
      "I Thu-22:30:30 - /home/mintadmin/Documents/projects/BCDA-APS/bluesky_instrument_training/instrument/devices/noisy_detector.py\n",
      "I Thu-22:30:30 - /home/mintadmin/Documents/projects/BCDA-APS/bluesky_instrument_training/instrument/devices/scaler.py\n",
      "I Thu-22:30:31 - /home/mintadmin/Documents/projects/BCDA-APS/bluesky_instrument_training/instrument/devices/shutter_simulator.py\n",
      "I Thu-22:30:31 - /home/mintadmin/Documents/projects/BCDA-APS/bluesky_instrument_training/instrument/devices/temperature_signal.py\n",
      "I Thu-22:30:32 - #### Callbacks ####\n",
      "I Thu-22:30:32 - /home/mintadmin/Documents/projects/BCDA-APS/bluesky_instrument_training/instrument/callbacks/spec_data_file_writer.py\n",
      "I Thu-22:30:32 - writing to SPEC file: /home/mintadmin/Documents/projects/BCDA-APS/bluesky_instrument_training/20210225-223032.dat\n",
      "I Thu-22:30:32 -    >>>>   Using default SPEC file name   <<<<\n",
      "I Thu-22:30:32 -    file will be created when bluesky ends its next scan\n",
      "I Thu-22:30:32 -    to change SPEC file, use command:   newSpecFile('title')\n",
      "I Thu-22:30:32 - #### Plans ####\n",
      "I Thu-22:30:32 - /home/mintadmin/Documents/projects/BCDA-APS/bluesky_instrument_training/instrument/plans/peak_finder_example.py\n",
      "I Thu-22:30:32 - #### Utilities ####\n",
      "I Thu-22:30:32 - #### Startup is complete. ####\n"
     ]
    }
   ],
   "source": [
    "from instrument.collection import *"
   ]
  },
  {
   "cell_type": "markdown",
   "id": "integrated-market",
   "metadata": {},
   "source": [
    "## List, Describe, Summary\n",
    "\n",
    "On the command line, there is an [IPython magic](https://ipython.readthedocs.io/en/stable/interactive/magics.html#built-in-magic-commands) command from the [bluesky](https://blueskyproject.io/bluesky/) package to print the current value of [labeled](https://blueskyproject.io/bluesky/magics.html?highlight=label) items: [`%wa`]()"
   ]
  },
  {
   "cell_type": "code",
   "execution_count": 2,
   "id": "fluid-priority",
   "metadata": {},
   "outputs": [
    {
     "name": "stdout",
     "output_type": "stream",
     "text": [
      "area_detector\n",
      "  Local variable name                    Ophyd name (to be recorded as metadata)\n",
      "  adsimdet                               adsimdet                              \n",
      "\n",
      "motor\n",
      "  Positioner                     Value       Low Limit   High Limit  Offset     \n",
      "  m1                             1.0         -32000.0    32000.0     0.0        \n",
      "  m10                            0.0         -32000.0    32000.0     0.0        \n",
      "  m11                            0.0         -32000.0    32000.0     0.0        \n",
      "  m12                            0.0         -32000.0    32000.0     0.0        \n",
      "  m13                            0.0         -32000.0    32000.0     0.0        \n",
      "  m14                            0.0         -32000.0    32000.0     0.0        \n",
      "  m15                            0.0         -32000.0    32000.0     0.0        \n",
      "  m16                            0.0         -32000.0    32000.0     0.0        \n",
      "  m2                             0.0         -32000.0    32000.0     0.0        \n",
      "  m3                             0.0         -32000.0    32000.0     0.0        \n",
      "  m4                             0.0         -32000.0    32000.0     0.0        \n",
      "  m5                             0.0         -32000.0    32000.0     0.0        \n",
      "  m6                             0.0         -32000.0    32000.0     0.0        \n",
      "  m7                             0.0         -32000.0    32000.0     0.0        \n",
      "  m8                             0.0         -32000.0    32000.0     0.0        \n",
      "  m9                             0.0         -32000.0    32000.0     0.0        \n",
      "\n",
      "  Local variable name                    Ophyd name (to be recorded as metadata)\n",
      "  m1                                     m1                                    \n",
      "  m10                                    m10                                   \n",
      "  m11                                    m11                                   \n",
      "  m12                                    m12                                   \n",
      "  m13                                    m13                                   \n",
      "  m14                                    m14                                   \n",
      "  m15                                    m15                                   \n",
      "  m16                                    m16                                   \n",
      "  m2                                     m2                                    \n",
      "  m3                                     m3                                    \n",
      "  m4                                     m4                                    \n",
      "  m5                                     m5                                    \n",
      "  m6                                     m6                                    \n",
      "  m7                                     m7                                    \n",
      "  m8                                     m8                                    \n",
      "  m9                                     m9                                    \n",
      "\n",
      "detectors\n",
      "  Local variable name                    Ophyd name (to be recorded as metadata)\n",
      "  noisy                                  noisy                                 \n",
      "  scaler1                                scaler1                               \n",
      "\n",
      "scalers\n",
      "  Local variable name                    Ophyd name (to be recorded as metadata)\n",
      "  scaler1                                scaler1                               \n",
      "\n",
      "counter\n",
      "  Local variable name                    Ophyd name (to be recorded as metadata)\n",
      "  I0                                     I0                                    \n",
      "  diode                                  diode                                 \n",
      "  scaler1.channels.chan01.s              timebase                              \n",
      "  scaler1.channels.chan02.s              I0                                    \n",
      "  scaler1.channels.chan03.s              scint                                 \n",
      "  scaler1.channels.chan04.s              diode                                 \n",
      "  scint                                  scint                                 \n",
      "  timebase                               timebase                              \n",
      "\n",
      "channel\n",
      "  Local variable name                    Ophyd name (to be recorded as metadata)\n",
      "  I0                                     I0                                    \n",
      "  diode                                  diode                                 \n",
      "  scaler1.channels.chan01.s              timebase                              \n",
      "  scaler1.channels.chan02.s              I0                                    \n",
      "  scaler1.channels.chan03.s              scint                                 \n",
      "  scaler1.channels.chan04.s              diode                                 \n",
      "  scint                                  scint                                 \n",
      "  timebase                               timebase                              \n",
      "\n",
      "shutters\n",
      "  Local variable name                    Ophyd name (to be recorded as metadata)\n",
      "  shutter                                shutter                               \n",
      "\n"
     ]
    }
   ],
   "source": [
    "%wa"
   ]
  },
  {
   "cell_type": "markdown",
   "id": "earlier-founder",
   "metadata": {},
   "source": [
    "Might be a good idea to know now what ophyd symbols are available.  The [apstools](https://apstools.readthedocs.io/en/latest/) package provides a [`listobjects()`](https://apstools.readthedocs.io/en/latest/source/_utils.html?highlight=listobjects#apstools.utils.listobjects) command that prints a table of all the known objects (in the global namespace of the session).  The columns provide the ophyd name (the name you use to call this in Python), the name of the ophyd structure, the EPICS PV (if relevant), and any labels (as used in `%wa` above)."
   ]
  },
  {
   "cell_type": "code",
   "execution_count": 3,
   "id": "illegal-scholarship",
   "metadata": {},
   "outputs": [
    {
     "name": "stdout",
     "output_type": "stream",
     "text": [
      "=========== ================================ ============= =================\n",
      "name        ophyd structure                  EPICS PV      label(s)         \n",
      "=========== ================================ ============= =================\n",
      "I0          EpicsSignalRO                    gp:scaler1.S2 counter channel  \n",
      "adsimdet    MySimDetector                    ad:           area_detector    \n",
      "calcouts    UserCalcoutDevice                gp:                            \n",
      "calcs       UserCalcsDevice                  gp:                            \n",
      "diode       EpicsSignalRO                    gp:scaler1.S4 counter channel  \n",
      "gp_stats    IocInfoDevice                    gp:                            \n",
      "m1          MyEpicsMotor                     gp:m1         motor            \n",
      "m10         MyEpicsMotor                     gp:m10        motor            \n",
      "m11         MyEpicsMotor                     gp:m11        motor            \n",
      "m12         MyEpicsMotor                     gp:m12        motor            \n",
      "m13         MyEpicsMotor                     gp:m13        motor            \n",
      "m14         MyEpicsMotor                     gp:m14        motor            \n",
      "m15         MyEpicsMotor                     gp:m15        motor            \n",
      "m16         MyEpicsMotor                     gp:m16        motor            \n",
      "m2          MyEpicsMotor                     gp:m2         motor            \n",
      "m3          MyEpicsMotor                     gp:m3         motor            \n",
      "m4          MyEpicsMotor                     gp:m4         motor            \n",
      "m5          MyEpicsMotor                     gp:m5         motor            \n",
      "m6          MyEpicsMotor                     gp:m6         motor            \n",
      "m7          MyEpicsMotor                     gp:m7         motor            \n",
      "m8          MyEpicsMotor                     gp:m8         motor            \n",
      "m9          MyEpicsMotor                     gp:m9         motor            \n",
      "noisy       EpicsSignalRO                    gp:userCalc1  detectors        \n",
      "scaler1     ScalerCH                         gp:scaler1    detectors scalers\n",
      "scint       EpicsSignalRO                    gp:scaler1.S3 counter channel  \n",
      "shutter     SimulatedApsPssShutterWithStatus               shutters         \n",
      "temperature MyPvPositioner                   gp:userCalc8                   \n",
      "timebase    EpicsSignalRO                    gp:scaler1.S1 counter channel  \n",
      "=========== ================================ ============= =================\n",
      "\n"
     ]
    },
    {
     "data": {
      "text/plain": [
       "<pyRestTable.rest_table.Table at 0x7f6aec9aa130>"
      ]
     },
     "execution_count": 3,
     "metadata": {},
     "output_type": "execute_result"
    }
   ],
   "source": [
    "listobjects()"
   ]
  },
  {
   "cell_type": "markdown",
   "id": "statutory-clinic",
   "metadata": {},
   "source": [
    "## Read\n",
    "\n",
    "We'll use the `temperature` and `m1` objects to demonstrate the various commands described in the quick-reference [Guide: First Steps with Bluesky](https://github.com/BCDA-APS/use_bluesky/blob/main/first_steps_guide.md)\n",
    "\n",
    "command | description\n",
    "--- | ---\n",
    "`OBJECT.summary()` | more information about `OBJECT`\n",
    "`OBJECT.get()` | low-level command to show value of ophyd *Signal* named `OBJECT`\n",
    "`OBJECT.read()` | data acquisition command, includes timestamp\n",
    "`listdevice(OBJECT)` | table-version of `.read()`\n",
    "`MOTOR.position` | get readback, only for motor objects\n",
    "`MOTOR.user_readback.get()` | alternative to `MOTOR.position`"
   ]
  },
  {
   "cell_type": "markdown",
   "id": "distant-laser",
   "metadata": {},
   "source": [
    "### temperature"
   ]
  },
  {
   "cell_type": "code",
   "execution_count": 4,
   "id": "heavy-february",
   "metadata": {},
   "outputs": [
    {
     "name": "stdout",
     "output_type": "stream",
     "text": [
      "data keys (* hints)\n",
      "-------------------\n",
      " temperature_calculation\n",
      " temperature_description\n",
      " temperature_done\n",
      " temperature_max_change\n",
      " temperature_noise\n",
      " temperature_previous_value_pv\n",
      "*temperature_readback\n",
      " temperature_scanning_rate\n",
      " temperature_setpoint\n",
      " temperature_tolerance\n",
      "\n",
      "read attrs\n",
      "----------\n",
      "setpoint             EpicsSignal         ('temperature_setpoint')\n",
      "readback             EpicsSignal         ('temperature_readback')\n",
      "done                 Signal              ('temperature_done')\n",
      "calculation          EpicsSignal         ('temperature_calculation')\n",
      "description          EpicsSignal         ('temperature_description')\n",
      "max_change           EpicsSignal         ('temperature_max_change')\n",
      "noise                EpicsSignal         ('temperature_noise')\n",
      "previous_value_pv    EpicsSignal         ('temperature_previous_value_pv')\n",
      "scanning_rate        EpicsSignal         ('temperature_scanning_rate')\n",
      "tolerance            EpicsSignal         ('temperature_tolerance')\n",
      "\n",
      "config keys\n",
      "-----------\n",
      "\n",
      "configuration attrs\n",
      "-------------------\n",
      "\n",
      "unused attrs\n",
      "------------\n",
      "report_dmov_changes  Signal              ('temperature_report_dmov_changes')\n",
      "\n"
     ]
    }
   ],
   "source": [
    "temperature.summary()"
   ]
  },
  {
   "cell_type": "code",
   "execution_count": 5,
   "id": "million-second",
   "metadata": {},
   "outputs": [
    {
     "data": {
      "text/plain": [
       "25.0"
      ]
     },
     "execution_count": 5,
     "metadata": {},
     "output_type": "execute_result"
    }
   ],
   "source": [
    "temperature.readback.get()"
   ]
  },
  {
   "cell_type": "code",
   "execution_count": 6,
   "id": "aware-document",
   "metadata": {},
   "outputs": [
    {
     "data": {
      "text/plain": [
       "OrderedDict([('temperature_setpoint',\n",
       "              {'value': 25.0, 'timestamp': 1614313832.0087895}),\n",
       "             ('temperature_readback',\n",
       "              {'value': 25.0, 'timestamp': 1614313832.009717}),\n",
       "             ('temperature_done',\n",
       "              {'value': True, 'timestamp': 1614313832.012314}),\n",
       "             ('temperature_calculation',\n",
       "              {'value': 'A+max(-D,min(D,(B-A)))+C*(RNDM-0.5)',\n",
       "               'timestamp': 1614313832.0187182}),\n",
       "             ('temperature_description',\n",
       "              {'value': 'temperature', 'timestamp': 1614313832.0070965}),\n",
       "             ('temperature_max_change',\n",
       "              {'value': 2.0, 'timestamp': 1614313832.00977}),\n",
       "             ('temperature_noise',\n",
       "              {'value': 1.0, 'timestamp': 1614313832.009717}),\n",
       "             ('temperature_previous_value_pv',\n",
       "              {'value': 'gp:userCalc8.VAL', 'timestamp': 1614313832.0076406}),\n",
       "             ('temperature_scanning_rate',\n",
       "              {'value': 5, 'timestamp': 1614313832.010531}),\n",
       "             ('temperature_tolerance',\n",
       "              {'value': 1.0, 'timestamp': 1614313832.010531})])"
      ]
     },
     "execution_count": 6,
     "metadata": {},
     "output_type": "execute_result"
    }
   ],
   "source": [
    "temperature.read()"
   ]
  },
  {
   "cell_type": "code",
   "execution_count": 7,
   "id": "exposed-triumph",
   "metadata": {},
   "outputs": [
    {
     "name": "stdout",
     "output_type": "stream",
     "text": [
      "============================= =================================== ==========================\n",
      "name                          value                               timestamp                 \n",
      "============================= =================================== ==========================\n",
      "temperature_setpoint          25.0                                2021-02-25 22:30:32.008790\n",
      "temperature_readback          25.0                                2021-02-25 22:30:32.009717\n",
      "temperature_done              True                                2021-02-25 22:30:32.012314\n",
      "temperature_calculation       A+max(-D,min(D,(B-A)))+C*(RNDM-0.5) 2021-02-25 22:30:32.018718\n",
      "temperature_description       temperature                         2021-02-25 22:30:32.007097\n",
      "temperature_max_change        2.0                                 2021-02-25 22:30:32.009770\n",
      "temperature_noise             1.0                                 2021-02-25 22:30:32.009717\n",
      "temperature_previous_value_pv gp:userCalc8.VAL                    2021-02-25 22:30:32.007641\n",
      "temperature_scanning_rate     5                                   2021-02-25 22:30:32.010531\n",
      "temperature_tolerance         1.0                                 2021-02-25 22:30:32.010531\n",
      "============================= =================================== ==========================\n",
      "\n"
     ]
    },
    {
     "data": {
      "text/plain": [
       "<pyRestTable.rest_table.Table at 0x7f6aec9aa970>"
      ]
     },
     "execution_count": 7,
     "metadata": {},
     "output_type": "execute_result"
    }
   ],
   "source": [
    "listdevice(temperature)"
   ]
  },
  {
   "cell_type": "markdown",
   "id": "finnish-tooth",
   "metadata": {},
   "source": [
    "### motor"
   ]
  },
  {
   "cell_type": "code",
   "execution_count": 8,
   "id": "innovative-parcel",
   "metadata": {},
   "outputs": [
    {
     "data": {
      "text/plain": [
       "1.0"
      ]
     },
     "execution_count": 8,
     "metadata": {},
     "output_type": "execute_result"
    }
   ],
   "source": [
    "m1.position"
   ]
  },
  {
   "cell_type": "code",
   "execution_count": 9,
   "id": "published-might",
   "metadata": {},
   "outputs": [
    {
     "data": {
      "text/plain": [
       "1.0"
      ]
     },
     "execution_count": 9,
     "metadata": {},
     "output_type": "execute_result"
    }
   ],
   "source": [
    "m1.user_readback.get()"
   ]
  },
  {
   "cell_type": "markdown",
   "id": "naughty-endorsement",
   "metadata": {},
   "source": [
    "## Move\n",
    "command | mode | description\n",
    "--- | --- | ---\n",
    "`%mov MOTOR value` | command line | interactive command move MOTOR to value (command line only)\n",
    "`%movr MOTOR value` | command line | interactive command relative move (command line only)\n",
    "`MOTOR.move(value)` | ophyd command | `%mov`\n",
    "`MOTOR.user_setpoint.put(value)` | ophyd | set motor `.VAL` field but not wait\n",
    "`bps.mv(MOTOR, value)` | bluesky plan | move and wait for completion\n",
    "`bps.mv(MOTOR.user_setpoint, value)` | bluesky plan | same\n",
    "`bps.mvr(MOTOR, value)` | bluesky plan | relative move"
   ]
  },
  {
   "cell_type": "code",
   "execution_count": 10,
   "id": "crazy-efficiency",
   "metadata": {},
   "outputs": [
    {
     "name": "stdout",
     "output_type": "stream",
     "text": [
      "m1:  17%|████▋                       | 0.091/0.55 [00:00<00:00,  1.61s/degrees]\n",
      "m1:  35%|██████████                   | 0.19/0.55 [00:00<00:00,  1.30s/degrees]\n",
      "m1:  53%|███████████████▎             | 0.29/0.55 [00:00<00:00,  1.20s/degrees]\n",
      "m1:  71%|███████████████████▉        | 0.391/0.55 [00:00<00:00,  1.15s/degrees]\n",
      "m1:  88%|████████████████████████▋   | 0.485/0.55 [00:00<00:00,  1.13s/degrees]\n",
      "m1:  98%|████████████████████████████▍| 0.54/0.55 [00:00<00:00,  1.20s/degrees]\n",
      "m1: 100%|█████████████████████████████| 0.55/0.55 [00:00<00:00,  1.38s/degrees]\n",
      "m1 [In progress. No progress bar available.]                                   \n",
      "                                                                               \n"
     ]
    },
    {
     "data": {
      "text/plain": [
       "1.55"
      ]
     },
     "execution_count": 10,
     "metadata": {},
     "output_type": "execute_result"
    }
   ],
   "source": [
    "%mov m1 1.55\n",
    "m1.position"
   ]
  },
  {
   "cell_type": "code",
   "execution_count": 11,
   "id": "valuable-operator",
   "metadata": {},
   "outputs": [
    {
     "name": "stdout",
     "output_type": "stream",
     "text": [
      "m1:  79%|██████████████████████▉      | 0.079/0.1 [00:00<00:00,  2.22s/degrees]\n",
      "m1: 100%|███████████████████████████████| 0.1/0.1 [00:00<00:00,  2.77s/degrees]\n",
      "m1 [In progress. No progress bar available.]                                   \n",
      "                                                                               \n"
     ]
    },
    {
     "data": {
      "text/plain": [
       "1.45"
      ]
     },
     "execution_count": 11,
     "metadata": {},
     "output_type": "execute_result"
    }
   ],
   "source": [
    "%movr m1 -.1\n",
    "m1.position"
   ]
  },
  {
   "cell_type": "code",
   "execution_count": 12,
   "id": "confidential-replacement",
   "metadata": {},
   "outputs": [
    {
     "data": {
      "text/plain": [
       "0.5"
      ]
     },
     "execution_count": 12,
     "metadata": {},
     "output_type": "execute_result"
    }
   ],
   "source": [
    "m1.move(.5)\n",
    "m1.position"
   ]
  },
  {
   "cell_type": "code",
   "execution_count": 13,
   "id": "worse-income",
   "metadata": {},
   "outputs": [
    {
     "data": {
      "text/plain": [
       "(0.5, 0.0)"
      ]
     },
     "execution_count": 13,
     "metadata": {},
     "output_type": "execute_result"
    }
   ],
   "source": [
    "m1.user_setpoint.put(0)\n",
    "m1.position, m1.user_setpoint.get()"
   ]
  },
  {
   "cell_type": "code",
   "execution_count": 14,
   "id": "distributed-auction",
   "metadata": {},
   "outputs": [
    {
     "name": "stdout",
     "output_type": "stream",
     "text": [
      "\n",
      "temperature: 100%|████████████████████████| 1.178/1.178 [00:01<00:00,  1.50s/C]\n",
      "temperature [In progress. No progress bar available.]                          \n",
      "                                                                               \n"
     ]
    }
   ],
   "source": [
    "%mov temperature 26"
   ]
  },
  {
   "cell_type": "code",
   "execution_count": 15,
   "id": "liked-transport",
   "metadata": {},
   "outputs": [
    {
     "name": "stdout",
     "output_type": "stream",
     "text": [
      "\n",
      "m1:  45%|█████████████▏               | 0.091/0.2 [00:00<00:00,  2.04s/degrees]\n",
      "\n",
      "m1:  84%|████████████████████████▎    | 0.168/0.2 [00:00<00:00,  1.71s/degrees]\n",
      "\n",
      "m1: 100%|████████████████████████████▊| 0.199/0.2 [00:00<00:00,  1.95s/degrees]\n",
      "\n",
      "m1: 100%|███████████████████████████████| 0.2/0.2 [00:00<00:00,  2.44s/degrees]\n",
      "\n",
      "m1 [In progress. No progress bar available.]                                   \n",
      "temperature: 100%|████████████████████████████| 1.0/1.0 [00:01<00:00,  1.97s/C]\n",
      "m1 [In progress. No progress bar available.]                                   \n",
      "temperature [In progress. No progress bar available.]                          \n",
      "m1 [In progress. No progress bar available.]                                   \n",
      "                                                                               \n",
      "                                                                               \n"
     ]
    },
    {
     "data": {
      "text/plain": [
       "(24.97242694743267, 0.2)"
      ]
     },
     "execution_count": 15,
     "metadata": {},
     "output_type": "execute_result"
    }
   ],
   "source": [
    "%movr temperature -1  m1 .2\n",
    "temperature.position, m1.position"
   ]
  },
  {
   "cell_type": "markdown",
   "id": "consolidated-riding",
   "metadata": {},
   "source": [
    "### bluesky"
   ]
  },
  {
   "cell_type": "code",
   "execution_count": 16,
   "id": "strong-recorder",
   "metadata": {},
   "outputs": [
    {
     "data": {
      "text/plain": [
       "1.0"
      ]
     },
     "execution_count": 16,
     "metadata": {},
     "output_type": "execute_result"
    }
   ],
   "source": [
    "RE(bps.mv(m1, 1))\n",
    "m1.position"
   ]
  },
  {
   "cell_type": "code",
   "execution_count": 17,
   "id": "embedded-mediterranean",
   "metadata": {},
   "outputs": [
    {
     "data": {
      "text/plain": [
       "1.1"
      ]
     },
     "execution_count": 17,
     "metadata": {},
     "output_type": "execute_result"
    }
   ],
   "source": [
    "RE(bps.mvr(m1, .1))\n",
    "m1.position"
   ]
  },
  {
   "cell_type": "code",
   "execution_count": 18,
   "id": "southeast-referral",
   "metadata": {},
   "outputs": [
    {
     "data": {
      "text/plain": [
       "(1.1, 24.97242694743267)"
      ]
     },
     "execution_count": 18,
     "metadata": {},
     "output_type": "execute_result"
    }
   ],
   "source": [
    "RE(bps.mv(m1.user_setpoint, 1, temperature.setpoint, 25))\n",
    "m1.position, temperature.position"
   ]
  },
  {
   "cell_type": "markdown",
   "id": "noticed-basketball",
   "metadata": {},
   "source": [
    "## Count\n",
    "\n",
    "command | description\n",
    "--- | ---\n",
    "`%ct` | count _all_ objects with label `detectors` and format output (command line only)\n",
    "`SCALER.trigger().wait(); SCALER.read()` | ophyd command to count SCALER\n",
    "`bp.count([SCALER])` | bluesky plan to count\n",
    "\n",
    "Count time setting is different for various types of detectors:\n",
    "\n",
    "detector | set count time\n",
    "--- | ---\n",
    "scaler | `SCALER.preset_time.put(COUNT_TIME_S)`\n",
    "area detector | `AD.cam.acquire_time.put(COUNT_TIME_S)`"
   ]
  },
  {
   "cell_type": "code",
   "execution_count": 19,
   "id": "following-reach",
   "metadata": {},
   "outputs": [
    {
     "name": "stdout",
     "output_type": "stream",
     "text": [
      "[This data will not be saved. Use the RunEngine to collect data.]\n",
      "noisy                          516.3704916388792\n",
      "timebase                       11000000.0\n",
      "I0                             5.0\n",
      "scint                          3.0\n",
      "diode                          5.0\n",
      "scaler1_time                   1.1\n"
     ]
    }
   ],
   "source": [
    "%ct"
   ]
  },
  {
   "cell_type": "code",
   "execution_count": 20,
   "id": "institutional-repeat",
   "metadata": {},
   "outputs": [
    {
     "name": "stdout",
     "output_type": "stream",
     "text": [
      "[This data will not be saved. Use the RunEngine to collect data.]\n",
      "timebase                       10000000.0\n",
      "I0                             5.0\n",
      "scint                          5.0\n",
      "diode                          3.0\n",
      "scaler1_time                   1.0\n"
     ]
    }
   ],
   "source": [
    "%ct scalers"
   ]
  },
  {
   "cell_type": "code",
   "execution_count": 21,
   "id": "miniature-penny",
   "metadata": {},
   "outputs": [
    {
     "data": {
      "text/plain": [
       "OrderedDict([('timebase',\n",
       "              {'value': 11000000.0, 'timestamp': 1614313843.576335}),\n",
       "             ('I0', {'value': 5.0, 'timestamp': 1614313843.576335}),\n",
       "             ('scint', {'value': 5.0, 'timestamp': 1614313843.576335}),\n",
       "             ('diode', {'value': 5.0, 'timestamp': 1614313843.576335}),\n",
       "             ('scaler1_time', {'value': 1.1, 'timestamp': 1614313842.295831})])"
      ]
     },
     "execution_count": 21,
     "metadata": {},
     "output_type": "execute_result"
    }
   ],
   "source": [
    "scaler1.trigger().wait(); scaler1.read()"
   ]
  },
  {
   "cell_type": "code",
   "execution_count": 22,
   "id": "rapid-basics",
   "metadata": {},
   "outputs": [
    {
     "name": "stdout",
     "output_type": "stream",
     "text": [
      "\n",
      "\n",
      "Transient Scan ID: 299     Time: 2021-02-25 22:30:43\n",
      "Persistent Unique Scan ID: '9824a145-5a23-44d4-a3cd-e6525f88382f'\n",
      "New stream: 'baseline'\n",
      "New stream: 'primary'\n",
      "+-----------+------------+------------+------------+------------+------------+\n",
      "|   seq_num |       time |   timebase |         I0 |      scint |      diode |\n",
      "+-----------+------------+------------+------------+------------+------------+\n",
      "|         1 | 22:30:45.2 |   11000000 |          4 |          7 |          5 |\n",
      "+-----------+------------+------------+------------+------------+------------+\n",
      "generator count ['9824a145'] (scan num: 299)\n"
     ]
    },
    {
     "data": {
      "text/plain": [
       "('9824a145-5a23-44d4-a3cd-e6525f88382f',)"
      ]
     },
     "execution_count": 22,
     "metadata": {},
     "output_type": "execute_result"
    }
   ],
   "source": [
    "RE(bp.count([scaler1]))"
   ]
  },
  {
   "cell_type": "code",
   "execution_count": null,
   "id": "prime-professional",
   "metadata": {},
   "outputs": [
    {
     "name": "stdout",
     "output_type": "stream",
     "text": [
      "\n",
      "\n",
      "Transient Scan ID: 300     Time: 2021-02-25 22:30:45\n",
      "Persistent Unique Scan ID: '1bc16ebf-4d2a-4c28-b7db-1a2e7083f179'\n",
      "New stream: 'baseline'\n"
     ]
    }
   ],
   "source": [
    "def my_plan():\n",
    "    yield from bp.count([scaler1])\n",
    "\n",
    "RE(my_plan())"
   ]
  },
  {
   "cell_type": "markdown",
   "id": "therapeutic-compression",
   "metadata": {},
   "source": [
    "## Bluesky Plans _vs_. Command-line Actions\n",
    "\n",
    "TODO:"
   ]
  }
 ],
 "metadata": {
  "kernelspec": {
   "display_name": "class_2021_03",
   "language": "python",
   "name": "class_2021_03"
  },
  "language_info": {
   "codemirror_mode": {
    "name": "ipython",
    "version": 3
   },
   "file_extension": ".py",
   "mimetype": "text/x-python",
   "name": "python",
   "nbconvert_exporter": "python",
   "pygments_lexer": "ipython3",
   "version": "3.8.5"
  }
 },
 "nbformat": 4,
 "nbformat_minor": 5
}
